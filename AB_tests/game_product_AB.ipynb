{
 "cells": [
  {
   "cell_type": "markdown",
   "metadata": {},
   "source": [
    "Представьте, что вы работаете в компании, которая разрабатывает мобильные игры. К вам пришел менеджер с рядом задач по исследованию нескольких аспектов мобильного приложения:\n",
    "\n",
    "## Задачи:\n",
    "- В первую очередь, его интересует показатель retention.\n",
    "Напишите функцию для его подсчета.\n",
    "- Помимо этого, в компании провели A/B тестирование наборов акционных предложений. На основе имеющихся данных определите, какой набор можно считать лучшим и на основе каких метрик стоит принять правильное решение.\n",
    "- Предложите метрики для оценки результатов последнего прошедшего тематического события в игре.\n",
    "\n",
    "## Результаты:\n",
    "### Retention\n",
    "Для расчёт retention было написано две функции:\n",
    " - **Функция расчёта retention для определённого дня: get_nday_retention**\n",
    " \n",
    "Что функция принимает?\n",
    "- датафрейм \n",
    "- n: день, по который следует посчитать retention. \n",
    "- start_date: с какой когорты начать, принимает дату вида '2020-05-12'\n",
    "- end_date: на какой когорте закончить,  принимает дату вида '2020-05-12'\n",
    "- hm: хитмап с когортой и retention с day_1 по day_n, принимает значения True или False\n",
    "\n",
    "Возвращает датафрейм, состоящий из:\n",
    " - cohort: когорты\n",
    " - users: количество юзеров в когорте\n",
    " - day_n: значение дня n, переданного функции\n",
    " - active_users: аобсолютное число активных пользователей в день n для когорты\n",
    " - retention: retention для этого дня для каждой из когорт\n",
    " - rolling retention: rolling retention для этого дня для каждой из когорт\n",
    " - Если hm = True, возвращает хитмап с когортой и retention day_n\n",
    "\n",
    "\n",
    " - **Функция расчёта retention до дня n: get_ndays_retention**\n",
    " \n",
    "Что функция принимает?\n",
    "- датафрейм \n",
    "- n: день, по который следует посчитать retention. \n",
    "- start_date: с какой когорты начать, принимает дату вида '2020-05-12'\n",
    "- end_date: на какой когорте закончить,  принимает дату вида '2020-05-12'\n",
    "- hm: хитмап с когортой и retention с day_1 по day_n, принимает значения True или False\n",
    "\n",
    "Возвращает датафрейм, состоящий из:\n",
    " - cohort: когорты\n",
    " - users: количество юзеров в когорте\n",
    " - day_1 - day_n: retention дня n для каждой из когорт\n",
    " - rolling retention: rolling retention дня n для каждой из когорт\n",
    " - Если hm = True, возвращает хитмап с когортой и retention с day_1 по day_n\n",
    " \n",
    " \n",
    "### AB, выбранные метрики: CR в покупателя, ARPPU, перепроверка ARPU\n",
    " **CR в покупателя**\n",
    "\n",
    "- В контрольной группе есть кластер юзеров, которые платят значительно больше остальных. Этот кластер составляет 6% наблюдений от общего чила наблюдений в контрольной группе. В тестовой группе этот кластер пропадает, остаётся только равномерное распределение более-менее средних покупателей. Разница между числом покупателей в тестовой и контрольной группах статистически значима, проверялась с помощью хи-квадрат.\n",
    "\n",
    "**ARPPU**\n",
    "- Контрольная группа включает в себя как кластер средних покупателей, которые заплатили немного, но более-менее одинаково и кластер юзеров, заплативших много. Тестовая группая представляет из себя равномерное распределение, но доход с одного юзера в среднем в 10 раз больше, чем доход со среднего юзера в контрольной выборке (200-400 и 2000-4000).\n",
    "- Если считать кластер упомянутый выше не выбросом, и оставить данные как есть, бутстрап говорит об отсуствии статистически значимой разницы  для ARPPU по выборкам. \n",
    "- Медианы по RPPU различаются, что ожидаемо, в пользу контрольной группы.\n",
    "\n",
    "**Перепроверка ARPU**\n",
    "- Так как результаты показались неоднозначными, я решила перепроварить результаты работы прошлого аналитика. Для ARPU по полнным данным бустрап не выявил статистически значимой разницы.\n",
    "- Для ARPU с исключением из контрольной выборки кластера самых доходных юзеров статистически значимая разница есть, но она не равна 5% : в таком случае средняя тестовой группы примеро в 9 раз выше средней контрольной.\n",
    "\n",
    "**Что делать?**\n",
    "\n",
    "**Я считаю, что фичу не нужно выкатывать** : в контрольной группе есть кластер юзеров, которые платят значительно больше остальных, и именно эти наблюдения пропадают: разница между числом покупателей в тестовой и контрольной группах статистически значима, проверялась с помощью хи-квадрат.\n",
    "\n",
    "ARPPU и ARPU статистически значимо не различаются.\n",
    "\n",
    "Тут можно добавить, что в тестовой группе выше медиана RPPU, то есть средний пользователь тратит больше, чем в контрольной. Но нужно ли нам это, учитывая то, что вместе с тем пропал кластер самых доходных пользователей? Я считаю, что нет.\n",
    "\n",
    "### Задание 3 \n",
    "Описано в конце документа"
   ]
  },
  {
   "cell_type": "markdown",
   "metadata": {},
   "source": [
    "Импорт всех необходимых библиотек для заданий:"
   ]
  },
  {
   "cell_type": "code",
   "execution_count": 1,
   "metadata": {},
   "outputs": [],
   "source": [
    "import pandas as pd\n",
    "import numpy as np\n",
    "\n",
    "from scipy import stats\n",
    "from scipy.stats  import chi2_contingency\n",
    "import seaborn as sns\n",
    "\n",
    "import matplotlib.pyplot as plt\n",
    "%matplotlib inline\n",
    "\n",
    "pd.options.mode.chained_assignment = None  # default='warn'\n",
    "from tqdm.auto import tqdm"
   ]
  },
  {
   "cell_type": "code",
   "execution_count": 2,
   "metadata": {},
   "outputs": [],
   "source": [
    "# Объявим функцию, которая позволит проверять гипотезы с помощью бутстрапа\n",
    "def get_bootstrap(\n",
    "    data_column_1, # числовые значения первой выборки\n",
    "    data_column_2, # числовые значения второй выборки\n",
    "    boot_it = 1000, # количество бутстрэп-подвыборок\n",
    "    statistic = np.mean, # интересующая нас статистика\n",
    "    bootstrap_conf_level = 0.95 # уровень значимости\n",
    "):\n",
    "    # нам нужно сравнять количество наблюдений в обоих выборках, чтобы метод сработал\n",
    "    boot_len = max([len(data_column_1), len(data_column_2)])\n",
    "    # пустой список, в который будет записано нужное нам распределение\n",
    "    boot_data = []\n",
    "    for i in tqdm(range(boot_it)): # извлекаем подвыборки\n",
    "        samples_1 = data_column_1.sample(\n",
    "            boot_len, \n",
    "            replace = True # параметр возвращения\n",
    "        ).values\n",
    "        \n",
    "        samples_2 = data_column_2.sample(\n",
    "            boot_len, \n",
    "            replace = True\n",
    "        ).values\n",
    "        \n",
    "        boot_data.append(statistic(samples_1-samples_2)) # mean() - применяем статистику\n",
    "        \n",
    "    pd_boot_data = pd.DataFrame(boot_data)\n",
    "    # рассчитываем доверительный интервал. Если 0 не попадает в ДИ, отклоняем H0  \n",
    "    left_quant = (1 - bootstrap_conf_level)/2\n",
    "    right_quant = 1 - (1 - bootstrap_conf_level) / 2\n",
    "    ci = pd_boot_data.quantile([left_quant, right_quant])\n",
    "    # так как нас интересуют значения выше нуля  \n",
    "    p_value = min( sum(pd_boot_data < 0), sum(pd_boot_data > 0) ) * 2 / len(pd_boot_data)\n",
    "        \n",
    "    # Визуализация\n",
    "    plt.hist(pd_boot_data[0], bins = 50)\n",
    "    \n",
    "    plt.style.use('ggplot')\n",
    "    plt.vlines(ci,ymin=0,ymax=50,linestyle='--')\n",
    "    plt.xlabel('boot_data')\n",
    "    plt.ylabel('frequency')\n",
    "    plt.title(\"Histogram of boot_data\")\n",
    "    plt.show()\n",
    "       \n",
    "    return {\"boot_data\": boot_data, \n",
    "            \"ci\": ci, \n",
    "            \"p_value\": p_value}"
   ]
  },
  {
   "cell_type": "code",
   "execution_count": 3,
   "metadata": {},
   "outputs": [],
   "source": [
    "#Стиль графиков\n",
    "sns.set (\n",
    "    font_scale =1.5,\n",
    "    style = 'whitegrid',\n",
    "    rc= {'figure.figsize': (25,7)}\n",
    ")"
   ]
  },
  {
   "cell_type": "code",
   "execution_count": 4,
   "metadata": {},
   "outputs": [],
   "source": [
    "#функция для получения shape, types и количества NAN в колонках\n",
    "def get_info(df):\n",
    "    shape = df.shape\n",
    "    types = df.dtypes\n",
    "    isna_sum = df.isna().sum()\n",
    "    dict = {\"shape\": shape, \"types\":types, \"NAN\" : isna_sum}\n",
    "    return dict"
   ]
  },
  {
   "cell_type": "markdown",
   "metadata": {},
   "source": [
    "### Расчёт retention\n",
    "\n",
    "Retention – один из самых важных показателей в компании. Ваша задача – написать функцию, которая будет считать retention игроков (по дням от даты регистрации игрока). Данные имеют следующую структуру:\n",
    "\n",
    "reg_data.csv – данные о времени регистрации\n",
    "\n",
    "auth_data.csv – данные о времени захода пользователей в игру"
   ]
  },
  {
   "cell_type": "markdown",
   "metadata": {},
   "source": [
    "#### Общий обзор данных:"
   ]
  },
  {
   "cell_type": "code",
   "execution_count": 5,
   "metadata": {},
   "outputs": [],
   "source": [
    "df_reg_data = pd.read_csv('/mnt/HC_Volume_18315164/home-jupyter/jupyter-k-bataeva/shared/problem1-reg_data.csv', sep = ';')\n",
    "df_auth_data = pd.read_csv('/mnt/HC_Volume_18315164/home-jupyter/jupyter-k-bataeva/shared/problem1-auth_data.csv', sep = ';')"
   ]
  },
  {
   "cell_type": "code",
   "execution_count": 6,
   "metadata": {
    "scrolled": true
   },
   "outputs": [
    {
     "data": {
      "text/html": [
       "<div>\n",
       "<style scoped>\n",
       "    .dataframe tbody tr th:only-of-type {\n",
       "        vertical-align: middle;\n",
       "    }\n",
       "\n",
       "    .dataframe tbody tr th {\n",
       "        vertical-align: top;\n",
       "    }\n",
       "\n",
       "    .dataframe thead th {\n",
       "        text-align: right;\n",
       "    }\n",
       "</style>\n",
       "<table border=\"1\" class=\"dataframe\">\n",
       "  <thead>\n",
       "    <tr style=\"text-align: right;\">\n",
       "      <th></th>\n",
       "      <th>reg_ts</th>\n",
       "      <th>uid</th>\n",
       "    </tr>\n",
       "  </thead>\n",
       "  <tbody>\n",
       "    <tr>\n",
       "      <th>0</th>\n",
       "      <td>911382223</td>\n",
       "      <td>1</td>\n",
       "    </tr>\n",
       "    <tr>\n",
       "      <th>1</th>\n",
       "      <td>932683089</td>\n",
       "      <td>2</td>\n",
       "    </tr>\n",
       "    <tr>\n",
       "      <th>2</th>\n",
       "      <td>947802447</td>\n",
       "      <td>3</td>\n",
       "    </tr>\n",
       "  </tbody>\n",
       "</table>\n",
       "</div>"
      ],
      "text/plain": [
       "      reg_ts  uid\n",
       "0  911382223    1\n",
       "1  932683089    2\n",
       "2  947802447    3"
      ]
     },
     "execution_count": 6,
     "metadata": {},
     "output_type": "execute_result"
    }
   ],
   "source": [
    "df_reg_data.head(3)"
   ]
  },
  {
   "cell_type": "code",
   "execution_count": 7,
   "metadata": {
    "scrolled": true
   },
   "outputs": [
    {
     "data": {
      "text/plain": [
       "{'shape': (1000000, 2),\n",
       " 'types': reg_ts    int64\n",
       " uid       int64\n",
       " dtype: object,\n",
       " 'NAN': reg_ts    0\n",
       " uid       0\n",
       " dtype: int64}"
      ]
     },
     "execution_count": 7,
     "metadata": {},
     "output_type": "execute_result"
    }
   ],
   "source": [
    "get_info(df_reg_data)"
   ]
  },
  {
   "cell_type": "code",
   "execution_count": 8,
   "metadata": {},
   "outputs": [
    {
     "data": {
      "text/plain": [
       "1000000"
      ]
     },
     "execution_count": 8,
     "metadata": {},
     "output_type": "execute_result"
    }
   ],
   "source": [
    "df_reg_data.uid.nunique()"
   ]
  },
  {
   "cell_type": "code",
   "execution_count": 9,
   "metadata": {},
   "outputs": [
    {
     "data": {
      "text/html": [
       "<div>\n",
       "<style scoped>\n",
       "    .dataframe tbody tr th:only-of-type {\n",
       "        vertical-align: middle;\n",
       "    }\n",
       "\n",
       "    .dataframe tbody tr th {\n",
       "        vertical-align: top;\n",
       "    }\n",
       "\n",
       "    .dataframe thead th {\n",
       "        text-align: right;\n",
       "    }\n",
       "</style>\n",
       "<table border=\"1\" class=\"dataframe\">\n",
       "  <thead>\n",
       "    <tr style=\"text-align: right;\">\n",
       "      <th></th>\n",
       "      <th>auth_ts</th>\n",
       "      <th>uid</th>\n",
       "    </tr>\n",
       "  </thead>\n",
       "  <tbody>\n",
       "    <tr>\n",
       "      <th>0</th>\n",
       "      <td>911382223</td>\n",
       "      <td>1</td>\n",
       "    </tr>\n",
       "    <tr>\n",
       "      <th>1</th>\n",
       "      <td>932683089</td>\n",
       "      <td>2</td>\n",
       "    </tr>\n",
       "    <tr>\n",
       "      <th>2</th>\n",
       "      <td>932921206</td>\n",
       "      <td>2</td>\n",
       "    </tr>\n",
       "  </tbody>\n",
       "</table>\n",
       "</div>"
      ],
      "text/plain": [
       "     auth_ts  uid\n",
       "0  911382223    1\n",
       "1  932683089    2\n",
       "2  932921206    2"
      ]
     },
     "execution_count": 9,
     "metadata": {},
     "output_type": "execute_result"
    }
   ],
   "source": [
    "df_auth_data.head(3)"
   ]
  },
  {
   "cell_type": "code",
   "execution_count": 10,
   "metadata": {
    "scrolled": true
   },
   "outputs": [
    {
     "data": {
      "text/plain": [
       "{'shape': (9601013, 2),\n",
       " 'types': auth_ts    int64\n",
       " uid        int64\n",
       " dtype: object,\n",
       " 'NAN': auth_ts    0\n",
       " uid        0\n",
       " dtype: int64}"
      ]
     },
     "execution_count": 10,
     "metadata": {},
     "output_type": "execute_result"
    }
   ],
   "source": [
    "get_info(df_auth_data)"
   ]
  },
  {
   "cell_type": "code",
   "execution_count": 11,
   "metadata": {},
   "outputs": [
    {
     "data": {
      "text/plain": [
       "9180915"
      ]
     },
     "execution_count": 11,
     "metadata": {},
     "output_type": "execute_result"
    }
   ],
   "source": [
    "df_auth_data.auth_ts.nunique()"
   ]
  },
  {
   "cell_type": "markdown",
   "metadata": {},
   "source": [
    "Добавляю колонку с временем в формате даты; в частности, в дф с регистрацией добавляю когорту"
   ]
  },
  {
   "cell_type": "code",
   "execution_count": 12,
   "metadata": {},
   "outputs": [],
   "source": [
    "df_reg_data['cohort'] = pd.to_datetime(df_reg_data.reg_ts,  unit='s').dt.date #здесь получается тип object\n",
    "df_reg_data['cohort'] = pd.to_datetime(df_reg_data['cohort']) #окончательно в datetime\n",
    "\n",
    "df_auth_data['auth_date'] = pd.to_datetime(df_auth_data.auth_ts, unit='s').dt.date\n",
    "df_auth_data['auth_date']  = pd.to_datetime(df_auth_data['auth_date'])"
   ]
  },
  {
   "cell_type": "code",
   "execution_count": 13,
   "metadata": {},
   "outputs": [],
   "source": [
    "df_full = df_reg_data.merge(df_auth_data, how= 'left')"
   ]
  },
  {
   "cell_type": "code",
   "execution_count": 14,
   "metadata": {
    "scrolled": true
   },
   "outputs": [
    {
     "data": {
      "text/html": [
       "<div>\n",
       "<style scoped>\n",
       "    .dataframe tbody tr th:only-of-type {\n",
       "        vertical-align: middle;\n",
       "    }\n",
       "\n",
       "    .dataframe tbody tr th {\n",
       "        vertical-align: top;\n",
       "    }\n",
       "\n",
       "    .dataframe thead th {\n",
       "        text-align: right;\n",
       "    }\n",
       "</style>\n",
       "<table border=\"1\" class=\"dataframe\">\n",
       "  <thead>\n",
       "    <tr style=\"text-align: right;\">\n",
       "      <th></th>\n",
       "      <th>reg_ts</th>\n",
       "      <th>uid</th>\n",
       "      <th>cohort</th>\n",
       "      <th>auth_ts</th>\n",
       "      <th>auth_date</th>\n",
       "    </tr>\n",
       "  </thead>\n",
       "  <tbody>\n",
       "    <tr>\n",
       "      <th>0</th>\n",
       "      <td>911382223</td>\n",
       "      <td>1</td>\n",
       "      <td>1998-11-18</td>\n",
       "      <td>911382223</td>\n",
       "      <td>1998-11-18</td>\n",
       "    </tr>\n",
       "    <tr>\n",
       "      <th>1</th>\n",
       "      <td>932683089</td>\n",
       "      <td>2</td>\n",
       "      <td>1999-07-22</td>\n",
       "      <td>932683089</td>\n",
       "      <td>1999-07-22</td>\n",
       "    </tr>\n",
       "    <tr>\n",
       "      <th>2</th>\n",
       "      <td>932683089</td>\n",
       "      <td>2</td>\n",
       "      <td>1999-07-22</td>\n",
       "      <td>932921206</td>\n",
       "      <td>1999-07-25</td>\n",
       "    </tr>\n",
       "  </tbody>\n",
       "</table>\n",
       "</div>"
      ],
      "text/plain": [
       "      reg_ts  uid     cohort    auth_ts  auth_date\n",
       "0  911382223    1 1998-11-18  911382223 1998-11-18\n",
       "1  932683089    2 1999-07-22  932683089 1999-07-22\n",
       "2  932683089    2 1999-07-22  932921206 1999-07-25"
      ]
     },
     "execution_count": 14,
     "metadata": {},
     "output_type": "execute_result"
    }
   ],
   "source": [
    "df_full.head(3)"
   ]
  },
  {
   "cell_type": "code",
   "execution_count": 15,
   "metadata": {
    "scrolled": true
   },
   "outputs": [],
   "source": [
    "users_by_cohorts = df_full.groupby('cohort').uid.nunique().to_frame().reset_index() \\\n",
    "    .rename(columns = {'uid':'users'})"
   ]
  },
  {
   "cell_type": "code",
   "execution_count": 16,
   "metadata": {
    "scrolled": true
   },
   "outputs": [
    {
     "data": {
      "text/html": [
       "<div>\n",
       "<style scoped>\n",
       "    .dataframe tbody tr th:only-of-type {\n",
       "        vertical-align: middle;\n",
       "    }\n",
       "\n",
       "    .dataframe tbody tr th {\n",
       "        vertical-align: top;\n",
       "    }\n",
       "\n",
       "    .dataframe thead th {\n",
       "        text-align: right;\n",
       "    }\n",
       "</style>\n",
       "<table border=\"1\" class=\"dataframe\">\n",
       "  <thead>\n",
       "    <tr style=\"text-align: right;\">\n",
       "      <th></th>\n",
       "      <th>cohort</th>\n",
       "      <th>users</th>\n",
       "    </tr>\n",
       "  </thead>\n",
       "  <tbody>\n",
       "    <tr>\n",
       "      <th>0</th>\n",
       "      <td>1998-11-18</td>\n",
       "      <td>1</td>\n",
       "    </tr>\n",
       "    <tr>\n",
       "      <th>1</th>\n",
       "      <td>1999-07-22</td>\n",
       "      <td>1</td>\n",
       "    </tr>\n",
       "    <tr>\n",
       "      <th>2</th>\n",
       "      <td>2000-01-13</td>\n",
       "      <td>1</td>\n",
       "    </tr>\n",
       "    <tr>\n",
       "      <th>3</th>\n",
       "      <td>2000-05-28</td>\n",
       "      <td>1</td>\n",
       "    </tr>\n",
       "    <tr>\n",
       "      <th>4</th>\n",
       "      <td>2000-09-16</td>\n",
       "      <td>1</td>\n",
       "    </tr>\n",
       "  </tbody>\n",
       "</table>\n",
       "</div>"
      ],
      "text/plain": [
       "      cohort  users\n",
       "0 1998-11-18      1\n",
       "1 1999-07-22      1\n",
       "2 2000-01-13      1\n",
       "3 2000-05-28      1\n",
       "4 2000-09-16      1"
      ]
     },
     "execution_count": 16,
     "metadata": {},
     "output_type": "execute_result"
    }
   ],
   "source": [
    "users_by_cohorts.head()"
   ]
  },
  {
   "cell_type": "markdown",
   "metadata": {},
   "source": [
    "Так как данных слишком много, беру только часть дф, чтобы быстрее считалось"
   ]
  },
  {
   "cell_type": "code",
   "execution_count": 17,
   "metadata": {},
   "outputs": [],
   "source": [
    "users_by_cohorts = users_by_cohorts.query('cohort > \"2020-05-11\"')"
   ]
  },
  {
   "cell_type": "markdown",
   "metadata": {},
   "source": [
    "Полный датафрем, готовый для работы функции:"
   ]
  },
  {
   "cell_type": "code",
   "execution_count": 18,
   "metadata": {},
   "outputs": [],
   "source": [
    "df_full = df_full.merge(users_by_cohorts)"
   ]
  },
  {
   "cell_type": "code",
   "execution_count": 19,
   "metadata": {
    "scrolled": true
   },
   "outputs": [
    {
     "data": {
      "text/html": [
       "<div>\n",
       "<style scoped>\n",
       "    .dataframe tbody tr th:only-of-type {\n",
       "        vertical-align: middle;\n",
       "    }\n",
       "\n",
       "    .dataframe tbody tr th {\n",
       "        vertical-align: top;\n",
       "    }\n",
       "\n",
       "    .dataframe thead th {\n",
       "        text-align: right;\n",
       "    }\n",
       "</style>\n",
       "<table border=\"1\" class=\"dataframe\">\n",
       "  <thead>\n",
       "    <tr style=\"text-align: right;\">\n",
       "      <th></th>\n",
       "      <th>reg_ts</th>\n",
       "      <th>uid</th>\n",
       "      <th>cohort</th>\n",
       "      <th>auth_ts</th>\n",
       "      <th>auth_date</th>\n",
       "      <th>users</th>\n",
       "    </tr>\n",
       "  </thead>\n",
       "  <tbody>\n",
       "    <tr>\n",
       "      <th>0</th>\n",
       "      <td>1589241631</td>\n",
       "      <td>890013</td>\n",
       "      <td>2020-05-12</td>\n",
       "      <td>1589241631</td>\n",
       "      <td>2020-05-12</td>\n",
       "      <td>1319</td>\n",
       "    </tr>\n",
       "    <tr>\n",
       "      <th>1</th>\n",
       "      <td>1589241631</td>\n",
       "      <td>890013</td>\n",
       "      <td>2020-05-12</td>\n",
       "      <td>1589530312</td>\n",
       "      <td>2020-05-15</td>\n",
       "      <td>1319</td>\n",
       "    </tr>\n",
       "    <tr>\n",
       "      <th>2</th>\n",
       "      <td>1589241631</td>\n",
       "      <td>890013</td>\n",
       "      <td>2020-05-12</td>\n",
       "      <td>1589947113</td>\n",
       "      <td>2020-05-20</td>\n",
       "      <td>1319</td>\n",
       "    </tr>\n",
       "    <tr>\n",
       "      <th>3</th>\n",
       "      <td>1589241631</td>\n",
       "      <td>890013</td>\n",
       "      <td>2020-05-12</td>\n",
       "      <td>1590403965</td>\n",
       "      <td>2020-05-25</td>\n",
       "      <td>1319</td>\n",
       "    </tr>\n",
       "    <tr>\n",
       "      <th>4</th>\n",
       "      <td>1589241631</td>\n",
       "      <td>890013</td>\n",
       "      <td>2020-05-12</td>\n",
       "      <td>1590807072</td>\n",
       "      <td>2020-05-30</td>\n",
       "      <td>1319</td>\n",
       "    </tr>\n",
       "  </tbody>\n",
       "</table>\n",
       "</div>"
      ],
      "text/plain": [
       "       reg_ts     uid     cohort     auth_ts  auth_date  users\n",
       "0  1589241631  890013 2020-05-12  1589241631 2020-05-12   1319\n",
       "1  1589241631  890013 2020-05-12  1589530312 2020-05-15   1319\n",
       "2  1589241631  890013 2020-05-12  1589947113 2020-05-20   1319\n",
       "3  1589241631  890013 2020-05-12  1590403965 2020-05-25   1319\n",
       "4  1589241631  890013 2020-05-12  1590807072 2020-05-30   1319"
      ]
     },
     "execution_count": 19,
     "metadata": {},
     "output_type": "execute_result"
    }
   ],
   "source": [
    "df_full.head()"
   ]
  },
  {
   "cell_type": "markdown",
   "metadata": {},
   "source": [
    "### Функция расчёта retention для определённого дня: get_nday_retention"
   ]
  },
  {
   "cell_type": "markdown",
   "metadata": {},
   "source": [
    "Что функция принимает?\n",
    "- датафрейм \n",
    "- n: день, по который следует посчитать retention. \n",
    "- start_date: с какой когорты начать, принимает дату вида '2020-05-12'\n",
    "- end_date: на какой когорте закончить,  принимает дату вида '2020-05-12'\n",
    "- hm: хитмап с когортой и retention с day_1 по day_n, принимает значения True или False\n",
    "\n",
    "Возвращает датафрейм, состоящий из:\n",
    " - cohort: когорты\n",
    " - users: количество юзеров в когорте\n",
    " - day_n: значение дня n, переданного функции\n",
    " - active_users: аобсолютное число активных пользователей в день n для когорты\n",
    " - retention: retention для этого дня для каждой из когорт\n",
    " - rolling retention: rolling retention для этого дня для каждой из когорт\n",
    " - Если hm = True, возвращает хитмап с когортой и retention day_n"
   ]
  },
  {
   "cell_type": "code",
   "execution_count": 49,
   "metadata": {},
   "outputs": [],
   "source": [
    "def get_nday_retention(df_full, n, start_date = '2020-05-12', end_date = '2020-09-23', hm = False):\n",
    "    \n",
    "    lst = [] #список для значений от каждой итрерации: из него потом собирается дф\n",
    "    freq = 'D' #временной промежуток: по дням\n",
    "    \n",
    "    start_date = start_date # с какой когорты начать\n",
    "    end_date = end_date # какой когортой закончить\n",
    "    df_full = df_full.query('cohort >= @start_date & cohort <= @end_date') #отбор когорт по указанному интервалу\n",
    "    \n",
    "    unique_cohorts = df_full.cohort.drop_duplicates() # оставляю только уникальные когорты\n",
    "    \n",
    "    for current_cohort in unique_cohorts:\n",
    "\n",
    "        #сама когорта, список айди когорты\n",
    "        users = df_full.query('cohort == @current_cohort').users.values[0]   # кол-во юзеров в когорте \n",
    "        n_day = current_cohort + pd.Timedelta(n, unit=freq )  # считаю n day дату\n",
    "        users_list = df_full.query('cohort == @current_cohort').uid.unique().tolist() # список айди юзеров когорты\n",
    "\n",
    "        #данные пользователей когорты в день n\n",
    "        day_n_df = df_full.query('auth_date == @n_day') # получаю кусок дф с данными активности в день n\n",
    "        n_day_users_count = day_n_df.query('uid in @users_list').uid.nunique() # число активных пользователей из когорты в день n\n",
    "\n",
    "        #retention\n",
    "        retention = ((n_day_users_count/ users) * 100).round(1) # retention для дня n\n",
    "\n",
    "\n",
    "        #rolling retention\n",
    "        rolling_retention = 0\n",
    "\n",
    "        for day in range(1, n + 1):\n",
    "            n_day_roll = current_cohort + pd.Timedelta(day, unit=freq )  # считаю n day дату\n",
    "            day_n_roll_df = df_full.query('auth_date == @n_day_roll') # получаю кусок дф с данными активности в день n\n",
    "            n_day_users_count_roll = day_n_roll_df.query('uid in @users_list').uid.nunique() # число активных пользователей из когорты в день n\n",
    "\n",
    "            rolling_retention = (rolling_retention + (n_day_users_count_roll / users) * 100).round(1)\n",
    "\n",
    "\n",
    "        #передаю найденные значения в списки для дф\n",
    "        values_list = [current_cohort, users, n, n_day_users_count ,retention, rolling_retention]\n",
    "        lst.append(values_list)  \n",
    "\n",
    "        #собираю дф\n",
    "    retention_df = pd.DataFrame(lst, columns =['cohort', 'users', 'n_day', 'active_users', 'retention', 'rolling_retention'])\n",
    "\n",
    "    if hm == False:\n",
    "        \n",
    "        return retention_df\n",
    "    \n",
    "    if hm == True:\n",
    "        \n",
    "        #отрисовка хм\n",
    "        cm = retention_df.set_index('cohort').drop(columns = ['users', 'n_day', 'active_users', 'rolling_retention']).values #сами значения для тела хм\n",
    "        df_cm = retention_df.set_index('cohort').drop(columns = ['users', 'n_day', 'active_users', 'rolling_retention']) #отсюда возьму колонки для осей хм\n",
    "        hm = sns.heatmap(cm, cmap=\"YlGnBu\", annot=True, fmt='.2f', annot_kws={'size': 10}, xticklabels = df_cm.columns.values, \\\n",
    "                         yticklabels =df_cm.index.values)\n",
    "        \n",
    "        return hm"
   ]
  },
  {
   "cell_type": "code",
   "execution_count": 50,
   "metadata": {
    "scrolled": true
   },
   "outputs": [
    {
     "data": {
      "text/html": [
       "<div>\n",
       "<style scoped>\n",
       "    .dataframe tbody tr th:only-of-type {\n",
       "        vertical-align: middle;\n",
       "    }\n",
       "\n",
       "    .dataframe tbody tr th {\n",
       "        vertical-align: top;\n",
       "    }\n",
       "\n",
       "    .dataframe thead th {\n",
       "        text-align: right;\n",
       "    }\n",
       "</style>\n",
       "<table border=\"1\" class=\"dataframe\">\n",
       "  <thead>\n",
       "    <tr style=\"text-align: right;\">\n",
       "      <th></th>\n",
       "      <th>cohort</th>\n",
       "      <th>users</th>\n",
       "      <th>n_day</th>\n",
       "      <th>active_users</th>\n",
       "      <th>retention</th>\n",
       "      <th>rolling_retention</th>\n",
       "    </tr>\n",
       "  </thead>\n",
       "  <tbody>\n",
       "    <tr>\n",
       "      <th>0</th>\n",
       "      <td>2020-05-12</td>\n",
       "      <td>1319</td>\n",
       "      <td>7</td>\n",
       "      <td>68</td>\n",
       "      <td>5.2</td>\n",
       "      <td>32.0</td>\n",
       "    </tr>\n",
       "    <tr>\n",
       "      <th>1</th>\n",
       "      <td>2020-05-13</td>\n",
       "      <td>1321</td>\n",
       "      <td>7</td>\n",
       "      <td>60</td>\n",
       "      <td>4.5</td>\n",
       "      <td>34.8</td>\n",
       "    </tr>\n",
       "    <tr>\n",
       "      <th>2</th>\n",
       "      <td>2020-05-14</td>\n",
       "      <td>1323</td>\n",
       "      <td>7</td>\n",
       "      <td>85</td>\n",
       "      <td>6.4</td>\n",
       "      <td>37.9</td>\n",
       "    </tr>\n",
       "    <tr>\n",
       "      <th>3</th>\n",
       "      <td>2020-05-15</td>\n",
       "      <td>1326</td>\n",
       "      <td>7</td>\n",
       "      <td>78</td>\n",
       "      <td>5.9</td>\n",
       "      <td>31.9</td>\n",
       "    </tr>\n",
       "    <tr>\n",
       "      <th>4</th>\n",
       "      <td>2020-05-16</td>\n",
       "      <td>1327</td>\n",
       "      <td>7</td>\n",
       "      <td>63</td>\n",
       "      <td>4.7</td>\n",
       "      <td>31.4</td>\n",
       "    </tr>\n",
       "    <tr>\n",
       "      <th>5</th>\n",
       "      <td>2020-05-17</td>\n",
       "      <td>1330</td>\n",
       "      <td>7</td>\n",
       "      <td>73</td>\n",
       "      <td>5.5</td>\n",
       "      <td>35.9</td>\n",
       "    </tr>\n",
       "    <tr>\n",
       "      <th>6</th>\n",
       "      <td>2020-05-18</td>\n",
       "      <td>1332</td>\n",
       "      <td>7</td>\n",
       "      <td>82</td>\n",
       "      <td>6.2</td>\n",
       "      <td>35.5</td>\n",
       "    </tr>\n",
       "    <tr>\n",
       "      <th>7</th>\n",
       "      <td>2020-05-19</td>\n",
       "      <td>1334</td>\n",
       "      <td>7</td>\n",
       "      <td>74</td>\n",
       "      <td>5.5</td>\n",
       "      <td>35.4</td>\n",
       "    </tr>\n",
       "    <tr>\n",
       "      <th>8</th>\n",
       "      <td>2020-05-20</td>\n",
       "      <td>1336</td>\n",
       "      <td>7</td>\n",
       "      <td>74</td>\n",
       "      <td>5.5</td>\n",
       "      <td>36.8</td>\n",
       "    </tr>\n",
       "    <tr>\n",
       "      <th>9</th>\n",
       "      <td>2020-05-21</td>\n",
       "      <td>1339</td>\n",
       "      <td>7</td>\n",
       "      <td>93</td>\n",
       "      <td>6.9</td>\n",
       "      <td>31.7</td>\n",
       "    </tr>\n",
       "    <tr>\n",
       "      <th>10</th>\n",
       "      <td>2020-05-22</td>\n",
       "      <td>1341</td>\n",
       "      <td>7</td>\n",
       "      <td>69</td>\n",
       "      <td>5.1</td>\n",
       "      <td>35.6</td>\n",
       "    </tr>\n",
       "    <tr>\n",
       "      <th>11</th>\n",
       "      <td>2020-05-23</td>\n",
       "      <td>1343</td>\n",
       "      <td>7</td>\n",
       "      <td>74</td>\n",
       "      <td>5.5</td>\n",
       "      <td>32.7</td>\n",
       "    </tr>\n",
       "    <tr>\n",
       "      <th>12</th>\n",
       "      <td>2020-05-24</td>\n",
       "      <td>1345</td>\n",
       "      <td>7</td>\n",
       "      <td>86</td>\n",
       "      <td>6.4</td>\n",
       "      <td>36.3</td>\n",
       "    </tr>\n",
       "    <tr>\n",
       "      <th>13</th>\n",
       "      <td>2020-05-25</td>\n",
       "      <td>1347</td>\n",
       "      <td>7</td>\n",
       "      <td>83</td>\n",
       "      <td>6.2</td>\n",
       "      <td>32.7</td>\n",
       "    </tr>\n",
       "    <tr>\n",
       "      <th>14</th>\n",
       "      <td>2020-05-26</td>\n",
       "      <td>1350</td>\n",
       "      <td>7</td>\n",
       "      <td>93</td>\n",
       "      <td>6.9</td>\n",
       "      <td>35.1</td>\n",
       "    </tr>\n",
       "  </tbody>\n",
       "</table>\n",
       "</div>"
      ],
      "text/plain": [
       "       cohort  users  n_day  active_users  retention  rolling_retention\n",
       "0  2020-05-12   1319      7            68        5.2               32.0\n",
       "1  2020-05-13   1321      7            60        4.5               34.8\n",
       "2  2020-05-14   1323      7            85        6.4               37.9\n",
       "3  2020-05-15   1326      7            78        5.9               31.9\n",
       "4  2020-05-16   1327      7            63        4.7               31.4\n",
       "5  2020-05-17   1330      7            73        5.5               35.9\n",
       "6  2020-05-18   1332      7            82        6.2               35.5\n",
       "7  2020-05-19   1334      7            74        5.5               35.4\n",
       "8  2020-05-20   1336      7            74        5.5               36.8\n",
       "9  2020-05-21   1339      7            93        6.9               31.7\n",
       "10 2020-05-22   1341      7            69        5.1               35.6\n",
       "11 2020-05-23   1343      7            74        5.5               32.7\n",
       "12 2020-05-24   1345      7            86        6.4               36.3\n",
       "13 2020-05-25   1347      7            83        6.2               32.7\n",
       "14 2020-05-26   1350      7            93        6.9               35.1"
      ]
     },
     "execution_count": 50,
     "metadata": {},
     "output_type": "execute_result"
    }
   ],
   "source": [
    "get_nday_retention(df_full, 7, start_date = '2020-05-12', end_date = '2020-05-26', hm = False)"
   ]
  },
  {
   "cell_type": "code",
   "execution_count": 51,
   "metadata": {},
   "outputs": [
    {
     "data": {
      "text/plain": [
       "<matplotlib.axes._subplots.AxesSubplot at 0x7fcb0aee4d30>"
      ]
     },
     "execution_count": 51,
     "metadata": {},
     "output_type": "execute_result"
    },
    {
     "data": {
      "image/png": "[encoded data removed]",
      "text/plain": [
       "<Figure size 1800x504 with 2 Axes>"
      ]
     },
     "metadata": {},
     "output_type": "display_data"
    }
   ],
   "source": [
    "get_nday_retention(df_full, 7, start_date = '2020-05-12', end_date = '2020-05-26', hm = True)"
   ]
  },
  {
   "cell_type": "markdown",
   "metadata": {},
   "source": [
    "### Функция расчёта retention до дня n: get_ndays_retention"
   ]
  },
  {
   "cell_type": "markdown",
   "metadata": {},
   "source": [
    "Что функция принимает?\n",
    "- датафрейм \n",
    "- n: день, по который следует посчитать retention. \n",
    "- start_date: с какой когорты начать, принимает дату вида '2020-05-12'\n",
    "- end_date: на какой когорте закончить,  принимает дату вида '2020-05-12'\n",
    "- hm: хитмап с когортой и retention с day_1 по day_n, принимает значения True или False\n",
    "\n",
    "Возвращает датафрейм, состоящий из:\n",
    " - cohort: когорты\n",
    " - users: количество юзеров в когорте\n",
    " - day_1 - day_n: retention дня n для каждой из когорт\n",
    " - rolling retention: rolling retention дня n для каждой из когорт\n",
    " - Если hm = True, возвращает хитмап с когортой и retention с day_1 по day_n"
   ]
  },
  {
   "cell_type": "code",
   "execution_count": 42,
   "metadata": {},
   "outputs": [],
   "source": [
    "def get_ndays_retention(df_full, n, start_date = '2020-05-12', end_date = '2020-09-23', hm = False):    \n",
    "    lst = [] #список для значений от каждой итрерации: из него потом собирается дф\n",
    "    n_day_retentions = [] #список retention по дням\n",
    "    values_list = [] # список для строк будущего датасета\n",
    "    freq = 'D' #временной промежуток: по дням\n",
    "    \n",
    "    start_date = start_date # с какой когорты начать\n",
    "    end_date = end_date # какой когортой закончить\n",
    "    df_full = df_full.query('cohort >= @start_date & cohort <= @end_date') #отбор когорт по указанному интервалу\n",
    "    unique_cohorts = df_full.cohort.drop_duplicates() # оставляю только уникальные когорты\n",
    "\n",
    "    for current_cohort in unique_cohorts:\n",
    "\n",
    "        #сама когорта, список айди когорты\n",
    "        users = df_full.query('cohort == @current_cohort').users.values[0]   # кол-во юзеров в когорте \n",
    "        n_day = current_cohort + pd.Timedelta(n, unit=freq )  # считаю n day дату\n",
    "        users_list = df_full.query('cohort == @current_cohort').uid.unique().tolist() # список айди юзеров когорты    \n",
    "\n",
    "        values_list.extend([current_cohort, users]) #сразу добавляю первые значения, так как это удобнее в данном случае\n",
    "\n",
    "        #rolling retention\n",
    "        rolling_retention = 0\n",
    "\n",
    "        #расчёт retention для каждого дня до дня n\n",
    "        for day in range(1, n + 1):\n",
    "\n",
    "            #расчёт когорты дня n\n",
    "            n_day_roll = current_cohort + pd.Timedelta(day, unit=freq )  # считаю n day дату\n",
    "            day_n_roll_df = df_full.query('auth_date == @n_day_roll') # получаю кусок дф с данными активности в день n\n",
    "            n_day_users_count_roll = day_n_roll_df.query('uid in @users_list').uid.nunique() # число активных пользователей из когорты в день n\n",
    "\n",
    "            #расчёт retention дня n\n",
    "            n_day_retention = ((n_day_users_count_roll / users) * 100).round(1) \n",
    "            n_day_retentions.append(n_day_retention) #добавляю значение к списке для retention по каждому дню\n",
    "\n",
    "            values_list.append(n_day_retention) #сразу добавляю первые значения, так как это удобнее в данном случае\n",
    "\n",
    "\n",
    "            rolling_retention = (rolling_retention + (n_day_users_count_roll / users) * 100).round(1)\n",
    "\n",
    "\n",
    "        #передаю найденные значения в списки для дф\n",
    "        values_list.append(rolling_retention)\n",
    "        lst.append(values_list) \n",
    "        values_list = [] #обнуляю список, чтобы не перезаписывалось лишнее\n",
    "\n",
    "\n",
    "        #так как количество дней будет разными, и от этого зависит количество колонок, создаю цикл для именования колонок по дням\n",
    "        days = []\n",
    "    for day in range(1, n + 1):\n",
    "        day = 'day_' + str(day) \n",
    "        days.append(day)\n",
    "\n",
    "    #финальные названия колонок    \n",
    "    columns =[]    \n",
    "    columns.extend(('cohort', 'users'))\n",
    "    columns.extend(days)\n",
    "    columns.append('rolling_retention')\n",
    "\n",
    "    #формирую сам дф\n",
    "    retention_df = pd.DataFrame(lst, columns =columns)\n",
    "    \n",
    "    if hm == False:\n",
    "        \n",
    "        return retention_df\n",
    "    \n",
    "    if hm == True:\n",
    "        \n",
    "        #отрисовка хм\n",
    "        cm = retention_df.set_index('cohort').drop(columns = ['users','rolling_retention']).values #сами значения для тела хм\n",
    "        df_cm = retention_df.set_index('cohort').drop(columns = ['users','rolling_retention']) #отсюда возьму колонки для осей хм\n",
    "        hm = sns.heatmap(cm, cmap=\"YlGnBu\", annot=True, fmt='.2f', annot_kws={'size': 10}, xticklabels = df_cm.columns.values, \\\n",
    "                         yticklabels =df_cm.index.values)\n",
    "        \n",
    "        return hm"
   ]
  },
  {
   "cell_type": "code",
   "execution_count": 43,
   "metadata": {},
   "outputs": [
    {
     "data": {
      "text/html": [
       "<div>\n",
       "<style scoped>\n",
       "    .dataframe tbody tr th:only-of-type {\n",
       "        vertical-align: middle;\n",
       "    }\n",
       "\n",
       "    .dataframe tbody tr th {\n",
       "        vertical-align: top;\n",
       "    }\n",
       "\n",
       "    .dataframe thead th {\n",
       "        text-align: right;\n",
       "    }\n",
       "</style>\n",
       "<table border=\"1\" class=\"dataframe\">\n",
       "  <thead>\n",
       "    <tr style=\"text-align: right;\">\n",
       "      <th></th>\n",
       "      <th>cohort</th>\n",
       "      <th>users</th>\n",
       "      <th>day_1</th>\n",
       "      <th>day_2</th>\n",
       "      <th>day_3</th>\n",
       "      <th>day_4</th>\n",
       "      <th>day_5</th>\n",
       "      <th>day_6</th>\n",
       "      <th>day_7</th>\n",
       "      <th>rolling_retention</th>\n",
       "    </tr>\n",
       "  </thead>\n",
       "  <tbody>\n",
       "    <tr>\n",
       "      <th>0</th>\n",
       "      <td>2020-05-12</td>\n",
       "      <td>1319</td>\n",
       "      <td>1.1</td>\n",
       "      <td>4.6</td>\n",
       "      <td>4.1</td>\n",
       "      <td>5.1</td>\n",
       "      <td>6.1</td>\n",
       "      <td>5.8</td>\n",
       "      <td>5.2</td>\n",
       "      <td>32.0</td>\n",
       "    </tr>\n",
       "    <tr>\n",
       "      <th>1</th>\n",
       "      <td>2020-05-13</td>\n",
       "      <td>1321</td>\n",
       "      <td>2.6</td>\n",
       "      <td>3.3</td>\n",
       "      <td>4.9</td>\n",
       "      <td>6.1</td>\n",
       "      <td>5.7</td>\n",
       "      <td>7.7</td>\n",
       "      <td>4.5</td>\n",
       "      <td>34.8</td>\n",
       "    </tr>\n",
       "    <tr>\n",
       "      <th>2</th>\n",
       "      <td>2020-05-14</td>\n",
       "      <td>1323</td>\n",
       "      <td>2.9</td>\n",
       "      <td>4.1</td>\n",
       "      <td>5.7</td>\n",
       "      <td>5.3</td>\n",
       "      <td>6.5</td>\n",
       "      <td>7.0</td>\n",
       "      <td>6.4</td>\n",
       "      <td>37.9</td>\n",
       "    </tr>\n",
       "    <tr>\n",
       "      <th>3</th>\n",
       "      <td>2020-05-15</td>\n",
       "      <td>1326</td>\n",
       "      <td>1.7</td>\n",
       "      <td>3.9</td>\n",
       "      <td>4.4</td>\n",
       "      <td>4.5</td>\n",
       "      <td>5.0</td>\n",
       "      <td>6.5</td>\n",
       "      <td>5.9</td>\n",
       "      <td>31.9</td>\n",
       "    </tr>\n",
       "    <tr>\n",
       "      <th>4</th>\n",
       "      <td>2020-05-16</td>\n",
       "      <td>1327</td>\n",
       "      <td>1.7</td>\n",
       "      <td>3.8</td>\n",
       "      <td>5.0</td>\n",
       "      <td>3.9</td>\n",
       "      <td>6.3</td>\n",
       "      <td>6.0</td>\n",
       "      <td>4.7</td>\n",
       "      <td>31.4</td>\n",
       "    </tr>\n",
       "    <tr>\n",
       "      <th>5</th>\n",
       "      <td>2020-05-17</td>\n",
       "      <td>1330</td>\n",
       "      <td>1.8</td>\n",
       "      <td>4.4</td>\n",
       "      <td>5.2</td>\n",
       "      <td>6.9</td>\n",
       "      <td>5.6</td>\n",
       "      <td>6.5</td>\n",
       "      <td>5.5</td>\n",
       "      <td>35.9</td>\n",
       "    </tr>\n",
       "    <tr>\n",
       "      <th>6</th>\n",
       "      <td>2020-05-18</td>\n",
       "      <td>1332</td>\n",
       "      <td>2.0</td>\n",
       "      <td>4.3</td>\n",
       "      <td>4.4</td>\n",
       "      <td>6.4</td>\n",
       "      <td>5.9</td>\n",
       "      <td>6.3</td>\n",
       "      <td>6.2</td>\n",
       "      <td>35.5</td>\n",
       "    </tr>\n",
       "    <tr>\n",
       "      <th>7</th>\n",
       "      <td>2020-05-19</td>\n",
       "      <td>1334</td>\n",
       "      <td>2.1</td>\n",
       "      <td>3.8</td>\n",
       "      <td>5.1</td>\n",
       "      <td>6.1</td>\n",
       "      <td>6.3</td>\n",
       "      <td>6.5</td>\n",
       "      <td>5.5</td>\n",
       "      <td>35.4</td>\n",
       "    </tr>\n",
       "    <tr>\n",
       "      <th>8</th>\n",
       "      <td>2020-05-20</td>\n",
       "      <td>1336</td>\n",
       "      <td>2.1</td>\n",
       "      <td>4.5</td>\n",
       "      <td>5.3</td>\n",
       "      <td>4.9</td>\n",
       "      <td>7.9</td>\n",
       "      <td>6.6</td>\n",
       "      <td>5.5</td>\n",
       "      <td>36.8</td>\n",
       "    </tr>\n",
       "    <tr>\n",
       "      <th>9</th>\n",
       "      <td>2020-05-21</td>\n",
       "      <td>1339</td>\n",
       "      <td>1.2</td>\n",
       "      <td>3.4</td>\n",
       "      <td>4.2</td>\n",
       "      <td>4.2</td>\n",
       "      <td>6.3</td>\n",
       "      <td>5.5</td>\n",
       "      <td>6.9</td>\n",
       "      <td>31.7</td>\n",
       "    </tr>\n",
       "    <tr>\n",
       "      <th>10</th>\n",
       "      <td>2020-05-22</td>\n",
       "      <td>1341</td>\n",
       "      <td>1.8</td>\n",
       "      <td>4.7</td>\n",
       "      <td>4.4</td>\n",
       "      <td>5.4</td>\n",
       "      <td>6.6</td>\n",
       "      <td>7.6</td>\n",
       "      <td>5.1</td>\n",
       "      <td>35.6</td>\n",
       "    </tr>\n",
       "    <tr>\n",
       "      <th>11</th>\n",
       "      <td>2020-05-23</td>\n",
       "      <td>1343</td>\n",
       "      <td>2.0</td>\n",
       "      <td>3.9</td>\n",
       "      <td>4.2</td>\n",
       "      <td>4.8</td>\n",
       "      <td>5.7</td>\n",
       "      <td>6.6</td>\n",
       "      <td>5.5</td>\n",
       "      <td>32.7</td>\n",
       "    </tr>\n",
       "    <tr>\n",
       "      <th>12</th>\n",
       "      <td>2020-05-24</td>\n",
       "      <td>1345</td>\n",
       "      <td>1.9</td>\n",
       "      <td>3.5</td>\n",
       "      <td>4.3</td>\n",
       "      <td>6.5</td>\n",
       "      <td>6.0</td>\n",
       "      <td>7.7</td>\n",
       "      <td>6.4</td>\n",
       "      <td>36.3</td>\n",
       "    </tr>\n",
       "    <tr>\n",
       "      <th>13</th>\n",
       "      <td>2020-05-25</td>\n",
       "      <td>1347</td>\n",
       "      <td>1.4</td>\n",
       "      <td>3.7</td>\n",
       "      <td>4.6</td>\n",
       "      <td>4.8</td>\n",
       "      <td>5.9</td>\n",
       "      <td>6.1</td>\n",
       "      <td>6.2</td>\n",
       "      <td>32.7</td>\n",
       "    </tr>\n",
       "    <tr>\n",
       "      <th>14</th>\n",
       "      <td>2020-05-26</td>\n",
       "      <td>1350</td>\n",
       "      <td>1.6</td>\n",
       "      <td>4.8</td>\n",
       "      <td>4.4</td>\n",
       "      <td>5.9</td>\n",
       "      <td>5.6</td>\n",
       "      <td>5.9</td>\n",
       "      <td>6.9</td>\n",
       "      <td>35.1</td>\n",
       "    </tr>\n",
       "  </tbody>\n",
       "</table>\n",
       "</div>"
      ],
      "text/plain": [
       "       cohort  users  day_1  day_2  day_3  day_4  day_5  day_6  day_7  \\\n",
       "0  2020-05-12   1319    1.1    4.6    4.1    5.1    6.1    5.8    5.2   \n",
       "1  2020-05-13   1321    2.6    3.3    4.9    6.1    5.7    7.7    4.5   \n",
       "2  2020-05-14   1323    2.9    4.1    5.7    5.3    6.5    7.0    6.4   \n",
       "3  2020-05-15   1326    1.7    3.9    4.4    4.5    5.0    6.5    5.9   \n",
       "4  2020-05-16   1327    1.7    3.8    5.0    3.9    6.3    6.0    4.7   \n",
       "5  2020-05-17   1330    1.8    4.4    5.2    6.9    5.6    6.5    5.5   \n",
       "6  2020-05-18   1332    2.0    4.3    4.4    6.4    5.9    6.3    6.2   \n",
       "7  2020-05-19   1334    2.1    3.8    5.1    6.1    6.3    6.5    5.5   \n",
       "8  2020-05-20   1336    2.1    4.5    5.3    4.9    7.9    6.6    5.5   \n",
       "9  2020-05-21   1339    1.2    3.4    4.2    4.2    6.3    5.5    6.9   \n",
       "10 2020-05-22   1341    1.8    4.7    4.4    5.4    6.6    7.6    5.1   \n",
       "11 2020-05-23   1343    2.0    3.9    4.2    4.8    5.7    6.6    5.5   \n",
       "12 2020-05-24   1345    1.9    3.5    4.3    6.5    6.0    7.7    6.4   \n",
       "13 2020-05-25   1347    1.4    3.7    4.6    4.8    5.9    6.1    6.2   \n",
       "14 2020-05-26   1350    1.6    4.8    4.4    5.9    5.6    5.9    6.9   \n",
       "\n",
       "    rolling_retention  \n",
       "0                32.0  \n",
       "1                34.8  \n",
       "2                37.9  \n",
       "3                31.9  \n",
       "4                31.4  \n",
       "5                35.9  \n",
       "6                35.5  \n",
       "7                35.4  \n",
       "8                36.8  \n",
       "9                31.7  \n",
       "10               35.6  \n",
       "11               32.7  \n",
       "12               36.3  \n",
       "13               32.7  \n",
       "14               35.1  "
      ]
     },
     "execution_count": 43,
     "metadata": {},
     "output_type": "execute_result"
    }
   ],
   "source": [
    "get_ndays_retention(df_full, 7, start_date = '2020-05-12', end_date = '2020-05-26', hm = False)"
   ]
  },
  {
   "cell_type": "code",
   "execution_count": 44,
   "metadata": {
    "scrolled": false
   },
   "outputs": [
    {
     "data": {
      "text/plain": [
       "<matplotlib.axes._subplots.AxesSubplot at 0x7fcb0b26c3c8>"
      ]
     },
     "execution_count": 44,
     "metadata": {},
     "output_type": "execute_result"
    },
    {
     "data": {
      "image/png": "[encoded data removed]",
      "text/plain": [
       "<Figure size 1800x504 with 2 Axes>"
      ]
     },
     "metadata": {},
     "output_type": "display_data"
    }
   ],
   "source": [
    "get_ndays_retention(df_full, 7, start_date = '2020-05-12', end_date = '2020-05-26', hm = True)"
   ]
  },
  {
   "cell_type": "markdown",
   "metadata": {},
   "source": [
    "### Задание 2\n",
    "\n",
    "Имеются результаты A/B теста, в котором двум группам пользователей предлагались различные наборы акционных предложений. Известно, что ARPU в тестовой группе выше на 5%, чем в контрольной. При этом в контрольной группе 1928 игроков из 202103 оказались платящими, а в тестовой – 1805 из 202667.\n",
    "\n",
    "Какой набор предложений можно считать лучшим? Какие метрики стоит проанализировать для принятия правильного решения и как?"
   ]
  },
  {
   "cell_type": "markdown",
   "metadata": {},
   "source": [
    "### Решение"
   ]
  },
  {
   "cell_type": "markdown",
   "metadata": {},
   "source": [
    "Что ж, первым делом хочется посмотреть на сами данные, особенно на распределение платящих в обеих группах. ARPU - это, конечно, хорошо, но, учитывая, что в выборках много неплатящих пользователей, следует посмотреть ещё \n",
    "- ARPPU\n",
    "- CR в покупателя."
   ]
  },
  {
   "cell_type": "markdown",
   "metadata": {},
   "source": [
    "Читаю данные, смотрю их свойства:"
   ]
  },
  {
   "cell_type": "code",
   "execution_count": 7,
   "metadata": {},
   "outputs": [
    {
     "data": {
      "text/html": [
       "<div>\n",
       "<style scoped>\n",
       "    .dataframe tbody tr th:only-of-type {\n",
       "        vertical-align: middle;\n",
       "    }\n",
       "\n",
       "    .dataframe tbody tr th {\n",
       "        vertical-align: top;\n",
       "    }\n",
       "\n",
       "    .dataframe thead th {\n",
       "        text-align: right;\n",
       "    }\n",
       "</style>\n",
       "<table border=\"1\" class=\"dataframe\">\n",
       "  <thead>\n",
       "    <tr style=\"text-align: right;\">\n",
       "      <th></th>\n",
       "      <th>user_id</th>\n",
       "      <th>revenue</th>\n",
       "      <th>testgroup</th>\n",
       "    </tr>\n",
       "  </thead>\n",
       "  <tbody>\n",
       "    <tr>\n",
       "      <th>0</th>\n",
       "      <td>1</td>\n",
       "      <td>0</td>\n",
       "      <td>b</td>\n",
       "    </tr>\n",
       "    <tr>\n",
       "      <th>1</th>\n",
       "      <td>2</td>\n",
       "      <td>0</td>\n",
       "      <td>a</td>\n",
       "    </tr>\n",
       "    <tr>\n",
       "      <th>2</th>\n",
       "      <td>3</td>\n",
       "      <td>0</td>\n",
       "      <td>a</td>\n",
       "    </tr>\n",
       "    <tr>\n",
       "      <th>3</th>\n",
       "      <td>4</td>\n",
       "      <td>0</td>\n",
       "      <td>b</td>\n",
       "    </tr>\n",
       "    <tr>\n",
       "      <th>4</th>\n",
       "      <td>5</td>\n",
       "      <td>0</td>\n",
       "      <td>b</td>\n",
       "    </tr>\n",
       "  </tbody>\n",
       "</table>\n",
       "</div>"
      ],
      "text/plain": [
       "   user_id  revenue testgroup\n",
       "0        1        0         b\n",
       "1        2        0         a\n",
       "2        3        0         a\n",
       "3        4        0         b\n",
       "4        5        0         b"
      ]
     },
     "execution_count": 7,
     "metadata": {},
     "output_type": "execute_result"
    }
   ],
   "source": [
    "df_ab_test = pd.read_csv('Проект_1_Задание_2.csv', sep = ';')\n",
    "df_ab_test.head()"
   ]
  },
  {
   "cell_type": "code",
   "execution_count": 8,
   "metadata": {},
   "outputs": [
    {
     "data": {
      "text/plain": [
       "{'shape': (404770, 3),\n",
       " 'types': user_id       int64\n",
       " revenue       int64\n",
       " testgroup    object\n",
       " dtype: object,\n",
       " 'NAN': user_id      0\n",
       " revenue      0\n",
       " testgroup    0\n",
       " dtype: int64}"
      ]
     },
     "execution_count": 8,
     "metadata": {},
     "output_type": "execute_result"
    }
   ],
   "source": [
    "get_info(df_ab_test)"
   ]
  },
  {
   "cell_type": "markdown",
   "metadata": {},
   "source": [
    "С типами всё в порядке, пропусков нет"
   ]
  },
  {
   "cell_type": "markdown",
   "metadata": {},
   "source": [
    "Смотрю самую общую информацию о данных:"
   ]
  },
  {
   "cell_type": "markdown",
   "metadata": {},
   "source": [
    "Все ли айдишники уникальные?"
   ]
  },
  {
   "cell_type": "code",
   "execution_count": 9,
   "metadata": {},
   "outputs": [
    {
     "data": {
      "text/plain": [
       "True"
      ]
     },
     "execution_count": 9,
     "metadata": {},
     "output_type": "execute_result"
    }
   ],
   "source": [
    "df_ab_test.user_id.nunique() == df_ab_test.shape[0]"
   ]
  },
  {
   "cell_type": "markdown",
   "metadata": {},
   "source": [
    "Отлично.\n",
    "\n",
    "Теперь хочется посмотреть самую общую информацию о данных в обеих группах. Для этого я перегруппирую дф, и после применю describe"
   ]
  },
  {
   "cell_type": "code",
   "execution_count": 10,
   "metadata": {},
   "outputs": [],
   "source": [
    "pivoted_ab_df = pd.pivot_table(data = df_ab_test, index = 'user_id', columns = 'testgroup', values = 'revenue')"
   ]
  },
  {
   "cell_type": "code",
   "execution_count": 11,
   "metadata": {},
   "outputs": [
    {
     "data": {
      "text/html": [
       "<div>\n",
       "<style scoped>\n",
       "    .dataframe tbody tr th:only-of-type {\n",
       "        vertical-align: middle;\n",
       "    }\n",
       "\n",
       "    .dataframe tbody tr th {\n",
       "        vertical-align: top;\n",
       "    }\n",
       "\n",
       "    .dataframe thead th {\n",
       "        text-align: right;\n",
       "    }\n",
       "</style>\n",
       "<table border=\"1\" class=\"dataframe\">\n",
       "  <thead>\n",
       "    <tr style=\"text-align: right;\">\n",
       "      <th>testgroup</th>\n",
       "      <th>a</th>\n",
       "      <th>b</th>\n",
       "    </tr>\n",
       "    <tr>\n",
       "      <th>user_id</th>\n",
       "      <th></th>\n",
       "      <th></th>\n",
       "    </tr>\n",
       "  </thead>\n",
       "  <tbody>\n",
       "    <tr>\n",
       "      <th>1</th>\n",
       "      <td>NaN</td>\n",
       "      <td>0.0</td>\n",
       "    </tr>\n",
       "    <tr>\n",
       "      <th>2</th>\n",
       "      <td>0.0</td>\n",
       "      <td>NaN</td>\n",
       "    </tr>\n",
       "    <tr>\n",
       "      <th>3</th>\n",
       "      <td>0.0</td>\n",
       "      <td>NaN</td>\n",
       "    </tr>\n",
       "    <tr>\n",
       "      <th>4</th>\n",
       "      <td>NaN</td>\n",
       "      <td>0.0</td>\n",
       "    </tr>\n",
       "    <tr>\n",
       "      <th>5</th>\n",
       "      <td>NaN</td>\n",
       "      <td>0.0</td>\n",
       "    </tr>\n",
       "  </tbody>\n",
       "</table>\n",
       "</div>"
      ],
      "text/plain": [
       "testgroup    a    b\n",
       "user_id            \n",
       "1          NaN  0.0\n",
       "2          0.0  NaN\n",
       "3          0.0  NaN\n",
       "4          NaN  0.0\n",
       "5          NaN  0.0"
      ]
     },
     "execution_count": 11,
     "metadata": {},
     "output_type": "execute_result"
    }
   ],
   "source": [
    "pivoted_ab_df.head()"
   ]
  },
  {
   "cell_type": "code",
   "execution_count": 12,
   "metadata": {},
   "outputs": [
    {
     "data": {
      "text/html": [
       "<div>\n",
       "<style scoped>\n",
       "    .dataframe tbody tr th:only-of-type {\n",
       "        vertical-align: middle;\n",
       "    }\n",
       "\n",
       "    .dataframe tbody tr th {\n",
       "        vertical-align: top;\n",
       "    }\n",
       "\n",
       "    .dataframe thead th {\n",
       "        text-align: right;\n",
       "    }\n",
       "</style>\n",
       "<table border=\"1\" class=\"dataframe\">\n",
       "  <thead>\n",
       "    <tr style=\"text-align: right;\">\n",
       "      <th>testgroup</th>\n",
       "      <th>a</th>\n",
       "      <th>b</th>\n",
       "    </tr>\n",
       "  </thead>\n",
       "  <tbody>\n",
       "    <tr>\n",
       "      <th>count</th>\n",
       "      <td>202103.000000</td>\n",
       "      <td>202667.000000</td>\n",
       "    </tr>\n",
       "    <tr>\n",
       "      <th>mean</th>\n",
       "      <td>25.413720</td>\n",
       "      <td>26.751287</td>\n",
       "    </tr>\n",
       "    <tr>\n",
       "      <th>std</th>\n",
       "      <td>920.768137</td>\n",
       "      <td>287.324162</td>\n",
       "    </tr>\n",
       "    <tr>\n",
       "      <th>min</th>\n",
       "      <td>0.000000</td>\n",
       "      <td>0.000000</td>\n",
       "    </tr>\n",
       "    <tr>\n",
       "      <th>25%</th>\n",
       "      <td>0.000000</td>\n",
       "      <td>0.000000</td>\n",
       "    </tr>\n",
       "    <tr>\n",
       "      <th>50%</th>\n",
       "      <td>0.000000</td>\n",
       "      <td>0.000000</td>\n",
       "    </tr>\n",
       "    <tr>\n",
       "      <th>75%</th>\n",
       "      <td>0.000000</td>\n",
       "      <td>0.000000</td>\n",
       "    </tr>\n",
       "    <tr>\n",
       "      <th>max</th>\n",
       "      <td>37433.000000</td>\n",
       "      <td>4000.000000</td>\n",
       "    </tr>\n",
       "  </tbody>\n",
       "</table>\n",
       "</div>"
      ],
      "text/plain": [
       "testgroup              a              b\n",
       "count      202103.000000  202667.000000\n",
       "mean           25.413720      26.751287\n",
       "std           920.768137     287.324162\n",
       "min             0.000000       0.000000\n",
       "25%             0.000000       0.000000\n",
       "50%             0.000000       0.000000\n",
       "75%             0.000000       0.000000\n",
       "max         37433.000000    4000.000000"
      ]
     },
     "execution_count": 12,
     "metadata": {},
     "output_type": "execute_result"
    }
   ],
   "source": [
    "pivoted_ab_df.describe()"
   ]
  },
  {
   "cell_type": "markdown",
   "metadata": {},
   "source": [
    "Что можно сказать сразу:\n",
    "\n",
    "    1. В группе А есть как минимум один серьёзный выброс\n",
    "    2. Что любопытно, средние при этом не выглядят сильно разными: судя по выбросу и значению std, в контрольной группе дисперсия выше\n",
    "    3. Едва ли распределения ARPU и ARPPU будут нормальными"
   ]
  },
  {
   "cell_type": "markdown",
   "metadata": {},
   "source": [
    "Как это выглядит на графике?"
   ]
  },
  {
   "cell_type": "code",
   "execution_count": 13,
   "metadata": {
    "scrolled": true
   },
   "outputs": [
    {
     "data": {
      "image/png": "[encoded data removed]",
      "text/plain": [
       "<Figure size 1800x504 with 2 Axes>"
      ]
     },
     "metadata": {},
     "output_type": "display_data"
    }
   ],
   "source": [
    "fig, ax = plt.subplots(1, 2)\n",
    "sns.histplot(pivoted_ab_df.a, ax=ax[0])\n",
    "sns.histplot(pivoted_ab_df.b, ax=ax[1])\n",
    "ax[0].set_title('Распределение revenue в группе a')\n",
    "ax[0].set_xlabel('')\n",
    "ax[1].set_title('Распределение revenue в группе b')\n",
    "ax[1].set_xlabel('')\n",
    "plt.show()"
   ]
  },
  {
   "cell_type": "markdown",
   "metadata": {},
   "source": [
    "Ожидаемо: большое количество нулевых или близких к нулю значений и редкие выбросы."
   ]
  },
  {
   "cell_type": "markdown",
   "metadata": {},
   "source": [
    "Каков был суммарный доход с каждой из групп?"
   ]
  },
  {
   "cell_type": "code",
   "execution_count": 16,
   "metadata": {},
   "outputs": [
    {
     "name": "stdout",
     "output_type": "stream",
     "text": [
      "sum_revenue_a = 5136189.0\n"
     ]
    }
   ],
   "source": [
    "print('sum_revenue_a =', pivoted_ab_df.a.sum())"
   ]
  },
  {
   "cell_type": "code",
   "execution_count": 17,
   "metadata": {
    "scrolled": true
   },
   "outputs": [
    {
     "name": "stdout",
     "output_type": "stream",
     "text": [
      "sum_revenue_b = 5421603.0\n"
     ]
    }
   ],
   "source": [
    "print('sum_revenue_b =', pivoted_ab_df.b.sum())"
   ]
  },
  {
   "cell_type": "markdown",
   "metadata": {},
   "source": [
    "В абсолютных значения от контрольной группы пришло больше денег, но пока это не проверено статистически, это просто числа"
   ]
  },
  {
   "cell_type": "markdown",
   "metadata": {},
   "source": [
    "**Теперь можно перейти к оценке метрик!**"
   ]
  },
  {
   "cell_type": "markdown",
   "metadata": {},
   "source": [
    "### CR в покупателя"
   ]
  },
  {
   "cell_type": "markdown",
   "metadata": {},
   "source": [
    "Хочется узнать, есть ли статистически значимая разница между количеством платящих в тестовой и контрольной группах\n"
   ]
  },
  {
   "cell_type": "code",
   "execution_count": 18,
   "metadata": {},
   "outputs": [
    {
     "data": {
      "text/html": [
       "<div>\n",
       "<style scoped>\n",
       "    .dataframe tbody tr th:only-of-type {\n",
       "        vertical-align: middle;\n",
       "    }\n",
       "\n",
       "    .dataframe tbody tr th {\n",
       "        vertical-align: top;\n",
       "    }\n",
       "\n",
       "    .dataframe thead th {\n",
       "        text-align: right;\n",
       "    }\n",
       "</style>\n",
       "<table border=\"1\" class=\"dataframe\">\n",
       "  <thead>\n",
       "    <tr style=\"text-align: right;\">\n",
       "      <th>revenue</th>\n",
       "      <th>False</th>\n",
       "      <th>True</th>\n",
       "    </tr>\n",
       "    <tr>\n",
       "      <th>testgroup</th>\n",
       "      <th></th>\n",
       "      <th></th>\n",
       "    </tr>\n",
       "  </thead>\n",
       "  <tbody>\n",
       "    <tr>\n",
       "      <th>a</th>\n",
       "      <td>200175</td>\n",
       "      <td>1928</td>\n",
       "    </tr>\n",
       "    <tr>\n",
       "      <th>b</th>\n",
       "      <td>200862</td>\n",
       "      <td>1805</td>\n",
       "    </tr>\n",
       "  </tbody>\n",
       "</table>\n",
       "</div>"
      ],
      "text/plain": [
       "revenue     False  True \n",
       "testgroup               \n",
       "a          200175   1928\n",
       "b          200862   1805"
      ]
     },
     "execution_count": 18,
     "metadata": {},
     "output_type": "execute_result"
    }
   ],
   "source": [
    "pd.crosstab(columns = df_ab_test.revenue >0, index =  df_ab_test.testgroup)"
   ]
  },
  {
   "cell_type": "code",
   "execution_count": 19,
   "metadata": {},
   "outputs": [
    {
     "name": "stdout",
     "output_type": "stream",
     "text": [
      "chi2 = 4.374729521260405\n",
      "p_value = 0.03647561892312613\n"
     ]
    }
   ],
   "source": [
    "chi2, p =  chi2_contingency(pd.crosstab(columns = df_ab_test. testgroup, index = df_ab_test.revenue >0 ))[:2]\n",
    "print('chi2 =', chi2)\n",
    "print('p_value =', p)"
   ]
  },
  {
   "cell_type": "markdown",
   "metadata": {},
   "source": [
    "#### Вывод по CR в покупателя:\n",
    "p =0.036, Взаимосвязь между группой и количеством платящих есть. В нашем конкретном случае в контрольной группе оказалось больше платящих пользователей, чем в контрольной."
   ]
  },
  {
   "cell_type": "markdown",
   "metadata": {},
   "source": [
    "### ARPPU\n"
   ]
  },
  {
   "cell_type": "markdown",
   "metadata": {},
   "source": [
    "Далее посмотрим на распределения платящих в обеих группах!"
   ]
  },
  {
   "cell_type": "code",
   "execution_count": 20,
   "metadata": {},
   "outputs": [],
   "source": [
    "#для проверки нормальности\n",
    "def normality_test(df):     \n",
    "    s = stats.shapiro(df)\n",
    "    return s, df.hist()"
   ]
  },
  {
   "cell_type": "markdown",
   "metadata": {},
   "source": [
    "Создаю отдельные выборки платящих для контрольной и тестовой групп"
   ]
  },
  {
   "cell_type": "code",
   "execution_count": 21,
   "metadata": {},
   "outputs": [],
   "source": [
    "df_a= df_ab_test.query('testgroup == \"a\" & revenue > 0')\n",
    "df_b= df_ab_test.query('testgroup == \"b\" & revenue > 0')"
   ]
  },
  {
   "cell_type": "code",
   "execution_count": 22,
   "metadata": {},
   "outputs": [
    {
     "data": {
      "text/html": [
       "<div>\n",
       "<style scoped>\n",
       "    .dataframe tbody tr th:only-of-type {\n",
       "        vertical-align: middle;\n",
       "    }\n",
       "\n",
       "    .dataframe tbody tr th {\n",
       "        vertical-align: top;\n",
       "    }\n",
       "\n",
       "    .dataframe thead th {\n",
       "        text-align: right;\n",
       "    }\n",
       "</style>\n",
       "<table border=\"1\" class=\"dataframe\">\n",
       "  <thead>\n",
       "    <tr style=\"text-align: right;\">\n",
       "      <th></th>\n",
       "      <th>user_id</th>\n",
       "      <th>revenue</th>\n",
       "    </tr>\n",
       "  </thead>\n",
       "  <tbody>\n",
       "    <tr>\n",
       "      <th>count</th>\n",
       "      <td>1928.000000</td>\n",
       "      <td>1928.000000</td>\n",
       "    </tr>\n",
       "    <tr>\n",
       "      <th>mean</th>\n",
       "      <td>200152.677905</td>\n",
       "      <td>2663.998444</td>\n",
       "    </tr>\n",
       "    <tr>\n",
       "      <th>std</th>\n",
       "      <td>116596.504905</td>\n",
       "      <td>9049.039763</td>\n",
       "    </tr>\n",
       "    <tr>\n",
       "      <th>min</th>\n",
       "      <td>73.000000</td>\n",
       "      <td>200.000000</td>\n",
       "    </tr>\n",
       "    <tr>\n",
       "      <th>25%</th>\n",
       "      <td>99323.000000</td>\n",
       "      <td>257.000000</td>\n",
       "    </tr>\n",
       "    <tr>\n",
       "      <th>50%</th>\n",
       "      <td>199854.500000</td>\n",
       "      <td>311.000000</td>\n",
       "    </tr>\n",
       "    <tr>\n",
       "      <th>75%</th>\n",
       "      <td>299664.250000</td>\n",
       "      <td>361.000000</td>\n",
       "    </tr>\n",
       "    <tr>\n",
       "      <th>max</th>\n",
       "      <td>404768.000000</td>\n",
       "      <td>37433.000000</td>\n",
       "    </tr>\n",
       "  </tbody>\n",
       "</table>\n",
       "</div>"
      ],
      "text/plain": [
       "             user_id       revenue\n",
       "count    1928.000000   1928.000000\n",
       "mean   200152.677905   2663.998444\n",
       "std    116596.504905   9049.039763\n",
       "min        73.000000    200.000000\n",
       "25%     99323.000000    257.000000\n",
       "50%    199854.500000    311.000000\n",
       "75%    299664.250000    361.000000\n",
       "max    404768.000000  37433.000000"
      ]
     },
     "execution_count": 22,
     "metadata": {},
     "output_type": "execute_result"
    }
   ],
   "source": [
    "df_a.describe()"
   ]
  },
  {
   "cell_type": "code",
   "execution_count": 23,
   "metadata": {},
   "outputs": [
    {
     "data": {
      "text/html": [
       "<div>\n",
       "<style scoped>\n",
       "    .dataframe tbody tr th:only-of-type {\n",
       "        vertical-align: middle;\n",
       "    }\n",
       "\n",
       "    .dataframe tbody tr th {\n",
       "        vertical-align: top;\n",
       "    }\n",
       "\n",
       "    .dataframe thead th {\n",
       "        text-align: right;\n",
       "    }\n",
       "</style>\n",
       "<table border=\"1\" class=\"dataframe\">\n",
       "  <thead>\n",
       "    <tr style=\"text-align: right;\">\n",
       "      <th></th>\n",
       "      <th>user_id</th>\n",
       "      <th>revenue</th>\n",
       "    </tr>\n",
       "  </thead>\n",
       "  <tbody>\n",
       "    <tr>\n",
       "      <th>count</th>\n",
       "      <td>1805.000000</td>\n",
       "      <td>1805.000000</td>\n",
       "    </tr>\n",
       "    <tr>\n",
       "      <th>mean</th>\n",
       "      <td>205834.548476</td>\n",
       "      <td>3003.658172</td>\n",
       "    </tr>\n",
       "    <tr>\n",
       "      <th>std</th>\n",
       "      <td>116400.045485</td>\n",
       "      <td>572.619709</td>\n",
       "    </tr>\n",
       "    <tr>\n",
       "      <th>min</th>\n",
       "      <td>161.000000</td>\n",
       "      <td>2000.000000</td>\n",
       "    </tr>\n",
       "    <tr>\n",
       "      <th>25%</th>\n",
       "      <td>106815.000000</td>\n",
       "      <td>2513.000000</td>\n",
       "    </tr>\n",
       "    <tr>\n",
       "      <th>50%</th>\n",
       "      <td>206651.000000</td>\n",
       "      <td>3022.000000</td>\n",
       "    </tr>\n",
       "    <tr>\n",
       "      <th>75%</th>\n",
       "      <td>304907.000000</td>\n",
       "      <td>3478.000000</td>\n",
       "    </tr>\n",
       "    <tr>\n",
       "      <th>max</th>\n",
       "      <td>404526.000000</td>\n",
       "      <td>4000.000000</td>\n",
       "    </tr>\n",
       "  </tbody>\n",
       "</table>\n",
       "</div>"
      ],
      "text/plain": [
       "             user_id      revenue\n",
       "count    1805.000000  1805.000000\n",
       "mean   205834.548476  3003.658172\n",
       "std    116400.045485   572.619709\n",
       "min       161.000000  2000.000000\n",
       "25%    106815.000000  2513.000000\n",
       "50%    206651.000000  3022.000000\n",
       "75%    304907.000000  3478.000000\n",
       "max    404526.000000  4000.000000"
      ]
     },
     "execution_count": 23,
     "metadata": {},
     "output_type": "execute_result"
    }
   ],
   "source": [
    "df_b.describe()"
   ]
  },
  {
   "cell_type": "markdown",
   "metadata": {},
   "source": [
    "Что можно сказать сразу:\n",
    "\n",
    "    1. Медианы в группах различаются сильнее, чем средние! \n",
    "    2. RPPU в контрольной группе больше похоже RPU - много небольших значений, есть выброс. В тестовой ближе к равномерному"
   ]
  },
  {
   "cell_type": "markdown",
   "metadata": {},
   "source": [
    "Графики вместе с Шапиро тестом:"
   ]
  },
  {
   "cell_type": "code",
   "execution_count": 24,
   "metadata": {
    "scrolled": true
   },
   "outputs": [
    {
     "data": {
      "text/plain": [
       "(ShapiroResult(statistic=0.2667924761772156, pvalue=0.0),\n",
       " <matplotlib.axes._subplots.AxesSubplot at 0x7f9e5a97c048>)"
      ]
     },
     "execution_count": 24,
     "metadata": {},
     "output_type": "execute_result"
    },
    {
     "data": {
      "image/png": "[encoded data removed]",
      "text/plain": [
       "<Figure size 1800x504 with 1 Axes>"
      ]
     },
     "metadata": {},
     "output_type": "display_data"
    }
   ],
   "source": [
    "normality_test(df_a.revenue)"
   ]
  },
  {
   "cell_type": "code",
   "execution_count": 25,
   "metadata": {
    "scrolled": true
   },
   "outputs": [
    {
     "data": {
      "text/plain": [
       "(ShapiroResult(statistic=0.9583123922348022, pvalue=2.491345674771425e-22),\n",
       " <matplotlib.axes._subplots.AxesSubplot at 0x7f9e5a8f9668>)"
      ]
     },
     "execution_count": 25,
     "metadata": {},
     "output_type": "execute_result"
    },
    {
     "data": {
      "image/png": "[encoded data removed]",
      "text/plain": [
       "<Figure size 1800x504 with 1 Axes>"
      ]
     },
     "metadata": {},
     "output_type": "display_data"
    }
   ],
   "source": [
    "normality_test(df_b.revenue)"
   ]
  },
  {
   "cell_type": "markdown",
   "metadata": {},
   "source": [
    "Визуально видно, что оба распределения не являются нормальными, хотя для первого Шапиро и показали p< 0.05, и мы ему не поверим. Как видно, в контрольной группе есть небольшая выборка людей, которая заплатила в районе 35к рублей. Так как их несколько, их вряд ли можно посчитать неинформативными данными, потому я решила, что оставлю их в выборке. Хотя и заметно, что без этих наблюдений распределение контрольной группы так же станет равномерным, как и в тестовой, но с намного меньшими значениями. Рапсределение RPPU в тестовой равномерное, интервал от 2000 до 4000 "
   ]
  },
  {
   "cell_type": "markdown",
   "metadata": {},
   "source": [
    "Посмотрим распределение контрольной группы без больших покупателей:"
   ]
  },
  {
   "cell_type": "code",
   "execution_count": 26,
   "metadata": {
    "scrolled": true
   },
   "outputs": [
    {
     "data": {
      "image/png": "[encoded data removed]",
      "text/plain": [
       "<Figure size 1800x504 with 1 Axes>"
      ]
     },
     "metadata": {},
     "output_type": "display_data"
    }
   ],
   "source": [
    "sns.histplot(df_a.loc[df_a['revenue'] < 15000].revenue)\n",
    "plt.show()"
   ]
  },
  {
   "cell_type": "markdown",
   "metadata": {},
   "source": [
    "А давайте посмотрим, сколько вообще шейхов оказалось в контрольной группе?"
   ]
  },
  {
   "cell_type": "code",
   "execution_count": 27,
   "metadata": {},
   "outputs": [
    {
     "data": {
      "text/plain": [
       "123"
      ]
     },
     "execution_count": 27,
     "metadata": {},
     "output_type": "execute_result"
    }
   ],
   "source": [
    "rich_count = df_a.loc[df_a['revenue'] > 15000].user_id.count()\n",
    "rich_count"
   ]
  },
  {
   "cell_type": "markdown",
   "metadata": {},
   "source": [
    "Сколько их относительно полного числа айди в контрольной группе?"
   ]
  },
  {
   "cell_type": "code",
   "execution_count": 28,
   "metadata": {},
   "outputs": [
    {
     "data": {
      "text/plain": [
       "0.06"
      ]
     },
     "execution_count": 28,
     "metadata": {},
     "output_type": "execute_result"
    }
   ],
   "source": [
    "(rich_count / df_a.user_id.count()).round(2)"
   ]
  },
  {
   "cell_type": "markdown",
   "metadata": {},
   "source": [
    "6% - это всё-таки весомая цифра, учитвая то, что они приобретают приблизительно на одну сумму, вряд ли случайная. Потому окончательное решение - не выбрасывать \"выбросы\" и считать вместе с ними."
   ]
  },
  {
   "cell_type": "markdown",
   "metadata": {},
   "source": [
    "И ещё. Мы помним, что в контрольной группе больше платящих юезров. Насколько много?"
   ]
  },
  {
   "cell_type": "code",
   "execution_count": 29,
   "metadata": {
    "scrolled": true
   },
   "outputs": [
    {
     "data": {
      "text/plain": [
       "123"
      ]
     },
     "execution_count": 29,
     "metadata": {},
     "output_type": "execute_result"
    }
   ],
   "source": [
    "df_a.shape[0] - df_b.shape[0]"
   ]
  },
  {
   "cell_type": "markdown",
   "metadata": {},
   "source": [
    "Интересесно получается! На данный момент можно сделать следующие выводы:\n",
    " - в контрольной группе присутсвует кластер щедро платящих пользователей, и в тестовой группе он пропадает.\n",
    " - в контрольной группе распределение RPPU  не является равномернвым, в отличие от тестового. Но если убрать из RPPU кластер самых доходных пользователей, окажется, что оставашиеся наблюдения тоже составляют в равномерное распределение. При этом в таком случае RPPU варьируется от 200 до 400 в контрольной группе, тогда как значения в тестовой варьируются от 2000 до 4000\n",
    " - среднее в контрольной группе меньше, чем среднее в тестовой: 2663 и 3003 соответсвенно"
   ]
  },
  {
   "cell_type": "markdown",
   "metadata": {},
   "source": [
    "Настало время статистически проверить разницу в средних. Так как распределения не нормальны, и вообще разные, я использую бутстрап для оценки различий в средних"
   ]
  },
  {
   "cell_type": "code",
   "execution_count": 30,
   "metadata": {},
   "outputs": [
    {
     "data": {
      "application/vnd.jupyter.widget-view+json": {
       "model_id": "cef8d2bdc22343c68c33dcf0424ce41f",
       "version_major": 2,
       "version_minor": 0
      },
      "text/plain": [
       "HBox(children=(FloatProgress(value=0.0, max=1000.0), HTML(value='')))"
      ]
     },
     "metadata": {},
     "output_type": "display_data"
    },
    {
     "name": "stdout",
     "output_type": "stream",
     "text": [
      "\n"
     ]
    },
    {
     "data": {
      "image/png": "[encoded data removed]",
      "text/plain": [
       "<Figure size 1800x504 with 1 Axes>"
      ]
     },
     "metadata": {},
     "output_type": "display_data"
    }
   ],
   "source": [
    "booted_data_mean = get_bootstrap(df_a.revenue, df_b.revenue, statistic = np.mean)"
   ]
  },
  {
   "cell_type": "code",
   "execution_count": 31,
   "metadata": {},
   "outputs": [
    {
     "data": {
      "text/html": [
       "<div>\n",
       "<style scoped>\n",
       "    .dataframe tbody tr th:only-of-type {\n",
       "        vertical-align: middle;\n",
       "    }\n",
       "\n",
       "    .dataframe tbody tr th {\n",
       "        vertical-align: top;\n",
       "    }\n",
       "\n",
       "    .dataframe thead th {\n",
       "        text-align: right;\n",
       "    }\n",
       "</style>\n",
       "<table border=\"1\" class=\"dataframe\">\n",
       "  <thead>\n",
       "    <tr style=\"text-align: right;\">\n",
       "      <th></th>\n",
       "      <th>0</th>\n",
       "    </tr>\n",
       "  </thead>\n",
       "  <tbody>\n",
       "    <tr>\n",
       "      <th>0.025</th>\n",
       "      <td>-750.368400</td>\n",
       "    </tr>\n",
       "    <tr>\n",
       "      <th>0.975</th>\n",
       "      <td>51.546966</td>\n",
       "    </tr>\n",
       "  </tbody>\n",
       "</table>\n",
       "</div>"
      ],
      "text/plain": [
       "                0\n",
       "0.025 -750.368400\n",
       "0.975   51.546966"
      ]
     },
     "execution_count": 31,
     "metadata": {},
     "output_type": "execute_result"
    }
   ],
   "source": [
    "booted_data_mean['ci']"
   ]
  },
  {
   "cell_type": "code",
   "execution_count": 32,
   "metadata": {},
   "outputs": [
    {
     "data": {
      "text/plain": [
       "0.0"
      ]
     },
     "execution_count": 32,
     "metadata": {},
     "output_type": "execute_result"
    }
   ],
   "source": [
    "booted_data_mean['p_value']"
   ]
  },
  {
   "cell_type": "markdown",
   "metadata": {},
   "source": [
    "#### Вывод по ARPPU\n",
    "Согласно методу бутстрап средние(ARPPU) в контрольной и тестовой не различаются, 0 входит в интервал, p<0.01"
   ]
  },
  {
   "cell_type": "markdown",
   "metadata": {},
   "source": [
    "Для средних различий не было выявлено. Но можно ещё посмотреть на медианы для RPPU - судя по предварительным данным, здесь как раз будут статистически значимые различия"
   ]
  },
  {
   "cell_type": "code",
   "execution_count": 33,
   "metadata": {},
   "outputs": [
    {
     "data": {
      "application/vnd.jupyter.widget-view+json": {
       "model_id": "bbcfca85a9944dd1bda1b8b95c8019fd",
       "version_major": 2,
       "version_minor": 0
      },
      "text/plain": [
       "HBox(children=(FloatProgress(value=0.0, max=1000.0), HTML(value='')))"
      ]
     },
     "metadata": {},
     "output_type": "display_data"
    },
    {
     "name": "stdout",
     "output_type": "stream",
     "text": [
      "\n"
     ]
    },
    {
     "data": {
      "image/png": "[encoded data removed]",
      "text/plain": [
       "<Figure size 1800x504 with 1 Axes>"
      ]
     },
     "metadata": {},
     "output_type": "display_data"
    }
   ],
   "source": [
    "booted_data_median = get_bootstrap(df_a.revenue, df_b.revenue, statistic = np.median)"
   ]
  },
  {
   "cell_type": "code",
   "execution_count": 34,
   "metadata": {},
   "outputs": [
    {
     "data": {
      "text/html": [
       "<div>\n",
       "<style scoped>\n",
       "    .dataframe tbody tr th:only-of-type {\n",
       "        vertical-align: middle;\n",
       "    }\n",
       "\n",
       "    .dataframe tbody tr th {\n",
       "        vertical-align: top;\n",
       "    }\n",
       "\n",
       "    .dataframe thead th {\n",
       "        text-align: right;\n",
       "    }\n",
       "</style>\n",
       "<table border=\"1\" class=\"dataframe\">\n",
       "  <thead>\n",
       "    <tr style=\"text-align: right;\">\n",
       "      <th></th>\n",
       "      <th>0</th>\n",
       "    </tr>\n",
       "  </thead>\n",
       "  <tbody>\n",
       "    <tr>\n",
       "      <th>0.025</th>\n",
       "      <td>-2696.5000</td>\n",
       "    </tr>\n",
       "    <tr>\n",
       "      <th>0.975</th>\n",
       "      <td>-2595.9875</td>\n",
       "    </tr>\n",
       "  </tbody>\n",
       "</table>\n",
       "</div>"
      ],
      "text/plain": [
       "               0\n",
       "0.025 -2696.5000\n",
       "0.975 -2595.9875"
      ]
     },
     "execution_count": 34,
     "metadata": {},
     "output_type": "execute_result"
    }
   ],
   "source": [
    "booted_data_median['ci']"
   ]
  },
  {
   "cell_type": "code",
   "execution_count": 35,
   "metadata": {},
   "outputs": [
    {
     "data": {
      "text/plain": [
       "0.0"
      ]
     },
     "execution_count": 35,
     "metadata": {},
     "output_type": "execute_result"
    }
   ],
   "source": [
    "booted_data_median['p_value']"
   ]
  },
  {
   "cell_type": "markdown",
   "metadata": {},
   "source": [
    "#### Вывод по медиане RPPU\n",
    "Медианы контрольной и тествой групп статистически значимо различаются(0 не входит в интервал, p<0.01). Разница в медианах составляет от 2600 до 2700 в пользу тестовой группы."
   ]
  },
  {
   "cell_type": "markdown",
   "metadata": {},
   "source": [
    "### Что было с исходным ARPU?"
   ]
  },
  {
   "cell_type": "markdown",
   "metadata": {},
   "source": [
    "Теперь мне стало интересно, что получили аналитики исследователи и каким образом. Этот бутстрап я провожу на выборке со всеми пользователями, включая неплавтивших, чтобы вычислить разницу по ARPU."
   ]
  },
  {
   "cell_type": "code",
   "execution_count": 36,
   "metadata": {},
   "outputs": [
    {
     "data": {
      "application/vnd.jupyter.widget-view+json": {
       "model_id": "369f17d9c7b0439ebd76a3b2f2a932e8",
       "version_major": 2,
       "version_minor": 0
      },
      "text/plain": [
       "HBox(children=(FloatProgress(value=0.0, max=1000.0), HTML(value='')))"
      ]
     },
     "metadata": {},
     "output_type": "display_data"
    },
    {
     "name": "stdout",
     "output_type": "stream",
     "text": [
      "\n"
     ]
    },
    {
     "data": {
      "image/png": "[encoded data removed]",
      "text/plain": [
       "<Figure size 1800x504 with 1 Axes>"
      ]
     },
     "metadata": {},
     "output_type": "display_data"
    }
   ],
   "source": [
    "booted_data_mean2 = get_bootstrap(df_ab_test.query('testgroup == \"a\"').revenue, df_ab_test.query('testgroup == \"b\"').revenue, statistic = np.mean)"
   ]
  },
  {
   "cell_type": "code",
   "execution_count": 37,
   "metadata": {
    "scrolled": true
   },
   "outputs": [
    {
     "data": {
      "text/html": [
       "<div>\n",
       "<style scoped>\n",
       "    .dataframe tbody tr th:only-of-type {\n",
       "        vertical-align: middle;\n",
       "    }\n",
       "\n",
       "    .dataframe tbody tr th {\n",
       "        vertical-align: top;\n",
       "    }\n",
       "\n",
       "    .dataframe thead th {\n",
       "        text-align: right;\n",
       "    }\n",
       "</style>\n",
       "<table border=\"1\" class=\"dataframe\">\n",
       "  <thead>\n",
       "    <tr style=\"text-align: right;\">\n",
       "      <th></th>\n",
       "      <th>0</th>\n",
       "    </tr>\n",
       "  </thead>\n",
       "  <tbody>\n",
       "    <tr>\n",
       "      <th>0.025</th>\n",
       "      <td>-5.499136</td>\n",
       "    </tr>\n",
       "    <tr>\n",
       "      <th>0.975</th>\n",
       "      <td>2.869942</td>\n",
       "    </tr>\n",
       "  </tbody>\n",
       "</table>\n",
       "</div>"
      ],
      "text/plain": [
       "              0\n",
       "0.025 -5.499136\n",
       "0.975  2.869942"
      ]
     },
     "execution_count": 37,
     "metadata": {},
     "output_type": "execute_result"
    }
   ],
   "source": [
    "booted_data_mean2['ci']"
   ]
  },
  {
   "cell_type": "code",
   "execution_count": 38,
   "metadata": {},
   "outputs": [
    {
     "data": {
      "text/plain": [
       "0.0"
      ]
     },
     "execution_count": 38,
     "metadata": {},
     "output_type": "execute_result"
    }
   ],
   "source": [
    "booted_data_mean2['p_value']"
   ]
  },
  {
   "cell_type": "markdown",
   "metadata": {},
   "source": [
    "#### Вывод по ARPU по полным данным"
   ]
  },
  {
   "cell_type": "markdown",
   "metadata": {},
   "source": [
    "Интересно получается! Согласно бутстрап, разницы между а и б группой на полных данных по среднему чеку(ARPU) нет! 0 Входит в интервал, p<0.01"
   ]
  },
  {
   "cell_type": "markdown",
   "metadata": {},
   "source": [
    "Возможно, прошлый аналитик рассчитывал ARPU с вычетом кластера самых доходных пользователей, посчитав их выбросом. Давайте проверим ARPU и для такого случая: уберём их и проведём бутстрап."
   ]
  },
  {
   "cell_type": "code",
   "execution_count": 57,
   "metadata": {},
   "outputs": [],
   "source": [
    "df_ab_test_without_outliners = df_ab_test.query('revenue < 15000')"
   ]
  },
  {
   "cell_type": "code",
   "execution_count": 63,
   "metadata": {},
   "outputs": [],
   "source": [
    "df_a_without_outliners = df_ab_test_without_outliners.query('testgroup == \"a\"').revenue"
   ]
  },
  {
   "cell_type": "code",
   "execution_count": 64,
   "metadata": {},
   "outputs": [],
   "source": [
    "df_b_without_outliners = df_ab_test_without_outliners.query('testgroup == \"b\"').revenue"
   ]
  },
  {
   "cell_type": "code",
   "execution_count": 67,
   "metadata": {},
   "outputs": [
    {
     "data": {
      "application/vnd.jupyter.widget-view+json": {
       "model_id": "61d535c2ff3b4b0796fa3b38dec45f0a",
       "version_major": 2,
       "version_minor": 0
      },
      "text/plain": [
       "HBox(children=(FloatProgress(value=0.0, max=1000.0), HTML(value='')))"
      ]
     },
     "metadata": {},
     "output_type": "display_data"
    },
    {
     "name": "stdout",
     "output_type": "stream",
     "text": [
      "\n"
     ]
    },
    {
     "data": {
      "image/png": "[encoded data removed]",
      "text/plain": [
       "<Figure size 1800x504 with 1 Axes>"
      ]
     },
     "metadata": {},
     "output_type": "display_data"
    }
   ],
   "source": [
    "booted_data__without_outliners_mean = get_bootstrap(df_a_without_outliners, df_b_without_outliners , statistic = np.mean)"
   ]
  },
  {
   "cell_type": "code",
   "execution_count": 68,
   "metadata": {},
   "outputs": [
    {
     "data": {
      "text/html": [
       "<div>\n",
       "<style scoped>\n",
       "    .dataframe tbody tr th:only-of-type {\n",
       "        vertical-align: middle;\n",
       "    }\n",
       "\n",
       "    .dataframe tbody tr th {\n",
       "        vertical-align: top;\n",
       "    }\n",
       "\n",
       "    .dataframe thead th {\n",
       "        text-align: right;\n",
       "    }\n",
       "</style>\n",
       "<table border=\"1\" class=\"dataframe\">\n",
       "  <thead>\n",
       "    <tr style=\"text-align: right;\">\n",
       "      <th></th>\n",
       "      <th>0</th>\n",
       "    </tr>\n",
       "  </thead>\n",
       "  <tbody>\n",
       "    <tr>\n",
       "      <th>0.025</th>\n",
       "      <td>-25.302174</td>\n",
       "    </tr>\n",
       "    <tr>\n",
       "      <th>0.975</th>\n",
       "      <td>-22.788357</td>\n",
       "    </tr>\n",
       "  </tbody>\n",
       "</table>\n",
       "</div>"
      ],
      "text/plain": [
       "               0\n",
       "0.025 -25.302174\n",
       "0.975 -22.788357"
      ]
     },
     "execution_count": 68,
     "metadata": {},
     "output_type": "execute_result"
    }
   ],
   "source": [
    "booted_data__without_outliners_mean['ci']"
   ]
  },
  {
   "cell_type": "code",
   "execution_count": 69,
   "metadata": {},
   "outputs": [
    {
     "data": {
      "text/plain": [
       "0.0"
      ]
     },
     "execution_count": 69,
     "metadata": {},
     "output_type": "execute_result"
    }
   ],
   "source": [
    "booted_data__without_outliners_mean['p_value']"
   ]
  },
  {
   "cell_type": "markdown",
   "metadata": {},
   "source": [
    "#### Вывод по ARPU без \"выбросов\""
   ]
  },
  {
   "cell_type": "markdown",
   "metadata": {},
   "source": [
    "Для такого варианта статистически значимые различия есть, 0 не входит в интервал, p 0.01. Среднее в тестовой больше на 22-25"
   ]
  },
  {
   "cell_type": "markdown",
   "metadata": {},
   "source": [
    "Какова разница в средних?"
   ]
  },
  {
   "cell_type": "code",
   "execution_count": 74,
   "metadata": {
    "scrolled": true
   },
   "outputs": [
    {
     "data": {
      "text/plain": [
       "2.702926032280424"
      ]
     },
     "execution_count": 74,
     "metadata": {},
     "output_type": "execute_result"
    }
   ],
   "source": [
    "df_a_without_outliners.mean()"
   ]
  },
  {
   "cell_type": "code",
   "execution_count": 75,
   "metadata": {},
   "outputs": [
    {
     "data": {
      "text/plain": [
       "26.75128659327863"
      ]
     },
     "execution_count": 75,
     "metadata": {},
     "output_type": "execute_result"
    }
   ],
   "source": [
    "df_b_without_outliners.mean()"
   ]
  },
  {
   "cell_type": "code",
   "execution_count": 78,
   "metadata": {},
   "outputs": [
    {
     "data": {
      "text/plain": [
       "9.249235717674384"
      ]
     },
     "execution_count": 78,
     "metadata": {},
     "output_type": "execute_result"
    }
   ],
   "source": [
    "25 / df_a_without_outliners.mean()"
   ]
  },
  {
   "cell_type": "markdown",
   "metadata": {},
   "source": [
    "Согласно условию, разница в средних была лишь 5%, тогда как по бустрапу получается, что ARPU тестовой примерно в 9 раз больше, ем ARPU контрольной. "
   ]
  },
  {
   "cell_type": "markdown",
   "metadata": {},
   "source": [
    "## Окончательный вывод по AB:"
   ]
  },
  {
   "cell_type": "markdown",
   "metadata": {},
   "source": [
    "**CR в покупателя**\n",
    "\n",
    "- В контрольной группе есть кластер юзеров, которые платят значительно больше остальных. Этот кластер составляет 6% наблюдений от общего чила наблюдений в контрольной группе. В тестовой группе этот кластер пропадает, остаётся только равномерное распределение более-менее средних покупателей. Разница между числом покупателей в тестовой и контрольной группах статистически значима, проверялась с помощью хи-квадрат.\n",
    "\n",
    "**ARPPU**\n",
    "- Контрольная группа включает в себя как кластер средних покупателей, которые заплатили немного, но более-менее одинаково и кластер юзеров, заплативших много. Тестовая группая представляет из себя равномерное распределение, но доход с одного юзера в среднем в 10 раз больше, чем доход со среднего юзера в контрольной выборке (200-400 и 2000-4000).\n",
    "- Если считать кластер упомянутый выше не выбросом, и оставить данные как есть, бутстрап говорит об отсуствии статистически значимой разницы  для ARPPU по выборкам. \n",
    "- Медианы по RPPU различаются, что ожидаемо, в пользу контрольной группы.\n",
    "\n",
    "**Перепроверка ARPU**\n",
    "- Так как результаты показались неоднозначными, я решила перепроварить результаты работы прошлого аналитика. Для ARPU по полнным данным бустрап не выявил статистически значимой разницы.\n",
    "- Для ARPU с исключением из контрольной выборки кластера самых доходных юзеров статистически значимая разница есть, но она не равна 5% : в таком случае средняя тестовой группы примеро в 9 раз выше средней контрольной.\n",
    "\n",
    "**Что делать?**\n",
    "\n",
    "**Я считаю, что фичу не нужно выкатывать** : в контрольной группе есть кластер юзеров, которые платят значительно больше остальных, и именно эти наблюдения пропадают: разница между числом покупателей в тестовой и контрольной группах статистически значима, проверялась с помощью хи-квадрат.\n",
    "\n",
    "ARPPU и ARPU статистически значимо не различаются.\n",
    "\n",
    "Тут можно добавить, что в тестовой группе выше медиана RPPU, то есть средний пользователь тратит больше, чем в контрольной. Но нужно ли нам это, учитывая то, что вместе с тем пропал кластер самых доходных пользователей? Я считаю, что нет."
   ]
  },
  {
   "cell_type": "markdown",
   "metadata": {},
   "source": [
    "### Задание 3\n",
    "В игре Plants & Gardens каждый месяц проводятся тематические события, ограниченные по времени. В них игроки могут получить уникальные предметы для сада и персонажей, дополнительные монеты или бонусы. Для получения награды требуется пройти ряд уровней за определенное время. С помощью каких метрик можно оценить результаты последнего прошедшего события?\n",
    "\n",
    "Предположим, в другом событии мы усложнили механику событий так, что при каждой неудачной попытке выполнения уровня игрок будет откатываться на несколько уровней назад. Изменится ли набор метрик оценки результата? Если да, то как?"
   ]
  },
  {
   "cell_type": "markdown",
   "metadata": {},
   "source": [
    "#### Решение:\n",
    "Для первого условия:\n",
    "\n",
    "- Метрики времени\n",
    "Так как для получения награды требуется тратить больше времени в игре, первая метрика, которая приходит в голову - retention. Заинтресованный игрок будет чаще заходить в приложение, больше времени тратить в игре, чтобы добить награду. Сюда же можно отнести такие метрики как DAU, MAU(а лучше его аналог на период, в который длится эвент), ASD, которые тоже напрямую связаны со временем и вовлечённостью пользователя.\n",
    "\n",
    "\n",
    "- Метрики прибыли\n",
    "Учитывая то, что нередко игроку не хватает буквально несколько кристалликов или алмазиков, чтобы получить желанный сезонный предмет, можно предположить, что за период акции возрастет количество платящих пользователей, следует обратить внимание на следующие метрики: ARPU, ARPPU, LTV\n",
    "\n",
    "\n",
    "- Отток пользователей\n",
    "Churn rate на время эвента может снизиться, так как в игре происходит что-то новое. Можно сравить его как с предыдущими эвентами, так и с периодом вне эвентов(если он есть)\n",
    "\n",
    "Для второго условия:\n",
    "\n",
    "Перед перечислением метрик хотела бы описать общий взгляд на ситуацию. Хочу сказать, что считаю, что такое развитие событий слабо повлияет на неплатящих игроков. Если они сначала и постараются играть на таких условиях, скорее всего большая часть из них сдастся после первых неудач. Они не станут платить за то, что не получается. По поводу платящих сказать сложнее.\n",
    "\n",
    "- Метрики времени\n",
    "Retention, DAU, MAU(а лучше его аналог на период, в который длится эвент), ASD. \n",
    "\n",
    "- Метрики прибыли\n",
    "ARPPU. Предполагаю, что платящие продолжат платить. А может быть расстроятся и не станут. В любом случае, полезно посмотреть.\n",
    "\n",
    "- Отток пользователей\n",
    "Churn rate на время эвента может увеличиться из-за неудач с игрой, так что тоже стоит обратить внимание."
   ]
  }
 ],
 "metadata": {
  "kernelspec": {
   "display_name": "Python 3",
   "language": "python",
   "name": "python3"
  },
  "language_info": {
   "codemirror_mode": {
    "name": "ipython",
    "version": 3
   },
   "file_extension": ".py",
   "mimetype": "text/x-python",
   "name": "python",
   "nbconvert_exporter": "python",
   "pygments_lexer": "ipython3",
   "version": "3.7.3"
  }
 },
 "nbformat": 4,
 "nbformat_minor": 4
}
