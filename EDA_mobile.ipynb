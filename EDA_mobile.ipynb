{
 "cells": [
  {
   "cell_type": "markdown",
   "id": "743510be",
   "metadata": {},
   "source": [
    "# Задание\n",
    "Что сделать:\n",
    "необходимо проанализировать использование фильтров пользователями на страницах городов. вопросы, на которые стоит ответить:\n",
    "- сколько людей пользуются фильтрами? \n",
    "- в каких городах фильтрами пользуются больше? в каких меньше? \n",
    "- какие разделы фильтров наиболее востребованы? “фильтры”, “сортировка”, “категории”? \n",
    "- как часто люди пользуются выбором цены? \n",
    "- как часто люди фильтруют по ценам? по датам? \n",
    "- какие фильтры лишние, невостребованные? \n",
    "\n",
    "не обязательно: любые дополнительные инсайты, полученные в результате исследования, будут плюсом к выполнению тестового задания. \n",
    "\n",
    "*важно! в event label много грязных данных. оттуда можно убрать числа. там могут встречаться разные вещи. это нормально, поступай с этим так, как тебе покажется правильным"
   ]
  },
  {
   "cell_type": "code",
   "execution_count": 1,
   "id": "80f75d0e",
   "metadata": {},
   "outputs": [],
   "source": [
    "import pandas as pd\n",
    "import numpy as np\n",
    "\n",
    "from scipy import stats\n",
    "\n",
    "import seaborn as sns\n",
    "import matplotlib.pyplot as plt\n",
    "%matplotlib inline "
   ]
  },
  {
   "cell_type": "code",
   "execution_count": 2,
   "id": "0410c0d0",
   "metadata": {},
   "outputs": [],
   "source": [
    "sns.set (\n",
    "    font_scale =1.3,\n",
    "    style = 'whitegrid',\n",
    "    rc= {'figure.figsize': (22,7)}\n",
    ")"
   ]
  },
  {
   "cell_type": "markdown",
   "id": "12badc2d",
   "metadata": {},
   "source": [
    "Загружаю и смотрю дф"
   ]
  },
  {
   "cell_type": "code",
   "execution_count": 3,
   "id": "007a1c36",
   "metadata": {},
   "outputs": [],
   "source": [
    "df_events = pd.read_csv('C:/Users/cbata/test_cases/sputnik8/events filters к тестовому 2022.csv')"
   ]
  },
  {
   "cell_type": "code",
   "execution_count": 4,
   "id": "310a9a41",
   "metadata": {},
   "outputs": [
    {
     "data": {
      "text/html": [
       "<div>\n",
       "<style scoped>\n",
       "    .dataframe tbody tr th:only-of-type {\n",
       "        vertical-align: middle;\n",
       "    }\n",
       "\n",
       "    .dataframe tbody tr th {\n",
       "        vertical-align: top;\n",
       "    }\n",
       "\n",
       "    .dataframe thead th {\n",
       "        text-align: right;\n",
       "    }\n",
       "</style>\n",
       "<table border=\"1\" class=\"dataframe\">\n",
       "  <thead>\n",
       "    <tr style=\"text-align: right;\">\n",
       "      <th></th>\n",
       "      <th>event_category</th>\n",
       "      <th>event_action</th>\n",
       "      <th>event_label</th>\n",
       "      <th>total_events</th>\n",
       "      <th>unique_events</th>\n",
       "    </tr>\n",
       "  </thead>\n",
       "  <tbody>\n",
       "    <tr>\n",
       "      <th>0</th>\n",
       "      <td>city_landing</td>\n",
       "      <td>price_button_submit</td>\n",
       "      <td>Tula / Показать предложения (11)</td>\n",
       "      <td>8</td>\n",
       "      <td>7</td>\n",
       "    </tr>\n",
       "    <tr>\n",
       "      <th>1</th>\n",
       "      <td>city_landing</td>\n",
       "      <td>price_button_submit</td>\n",
       "      <td>Sochi / Показать предложения (39)</td>\n",
       "      <td>12</td>\n",
       "      <td>10</td>\n",
       "    </tr>\n",
       "    <tr>\n",
       "      <th>2</th>\n",
       "      <td>city_landing</td>\n",
       "      <td>search-tools-button_open</td>\n",
       "      <td>Penza / Сортировка</td>\n",
       "      <td>2</td>\n",
       "      <td>2</td>\n",
       "    </tr>\n",
       "    <tr>\n",
       "      <th>3</th>\n",
       "      <td>city_landing</td>\n",
       "      <td>filters-categories_click</td>\n",
       "      <td>Gelendzhik / ЭКСКУРСИИ В ГЕЛЕНДЖИКЕ ЦЕНЫ</td>\n",
       "      <td>1</td>\n",
       "      <td>1</td>\n",
       "    </tr>\n",
       "    <tr>\n",
       "      <th>4</th>\n",
       "      <td>city_landing</td>\n",
       "      <td>price_button_submit</td>\n",
       "      <td>Moscow / Показать предложения (345)</td>\n",
       "      <td>2</td>\n",
       "      <td>2</td>\n",
       "    </tr>\n",
       "  </tbody>\n",
       "</table>\n",
       "</div>"
      ],
      "text/plain": [
       "  event_category              event_action  \\\n",
       "0   city_landing       price_button_submit   \n",
       "1   city_landing       price_button_submit   \n",
       "2   city_landing  search-tools-button_open   \n",
       "3   city_landing  filters-categories_click   \n",
       "4   city_landing       price_button_submit   \n",
       "\n",
       "                                event_label  total_events  unique_events  \n",
       "0          Tula / Показать предложения (11)             8              7  \n",
       "1         Sochi / Показать предложения (39)            12             10  \n",
       "2                        Penza / Сортировка             2              2  \n",
       "3  Gelendzhik / ЭКСКУРСИИ В ГЕЛЕНДЖИКЕ ЦЕНЫ             1              1  \n",
       "4       Moscow / Показать предложения (345)             2              2  "
      ]
     },
     "execution_count": 4,
     "metadata": {},
     "output_type": "execute_result"
    }
   ],
   "source": [
    "df_events.head()"
   ]
  },
  {
   "cell_type": "markdown",
   "id": "13d7f44c",
   "metadata": {},
   "source": [
    "Несмотря на то, что в описании к заданию содержимое некоторых колонок освещено, хочется всё равно посмотреть это вручную"
   ]
  },
  {
   "cell_type": "code",
   "execution_count": 5,
   "id": "8ba057f3",
   "metadata": {},
   "outputs": [
    {
     "data": {
      "text/plain": [
       "city_landing    18441\n",
       "City Page         651\n",
       "Name: event_category, dtype: int64"
      ]
     },
     "execution_count": 5,
     "metadata": {},
     "output_type": "execute_result"
    }
   ],
   "source": [
    "df_events.event_category.value_counts()"
   ]
  },
  {
   "cell_type": "code",
   "execution_count": 6,
   "id": "83b1103c",
   "metadata": {},
   "outputs": [
    {
     "data": {
      "text/plain": [
       "price_button_submit         7354\n",
       "search-tools-button_open    4848\n",
       "filters-categories_click    3352\n",
       "ticket-type_checkbox         795\n",
       "Page Visit                   651\n",
       "dates_filter_mobile          425\n",
       "start_date_click             299\n",
       "price_button_close           277\n",
       "end_date_click               274\n",
       "pay-type_checkbox            239\n",
       "price_first                  186\n",
       "clear_filter_mobile          165\n",
       "price_second                 126\n",
       "price_third                  101\n",
       "Name: event_action, dtype: int64"
      ]
     },
     "execution_count": 6,
     "metadata": {},
     "output_type": "execute_result"
    }
   ],
   "source": [
    "df_events.event_action.value_counts()"
   ]
  },
  {
   "cell_type": "code",
   "execution_count": 7,
   "id": "d73c696e",
   "metadata": {},
   "outputs": [],
   "source": [
    "def get_info(df): #функция для получения shape, types и количества NAN в колонках\n",
    "    shape = df.shape\n",
    "    types = df.dtypes\n",
    "    isna_sum = df.isna().sum()\n",
    "    dict = {\"shape\": shape, \"types\":types, \"NAN\" : isna_sum}\n",
    "    return dict"
   ]
  },
  {
   "cell_type": "code",
   "execution_count": 8,
   "id": "d7d96b4f",
   "metadata": {},
   "outputs": [
    {
     "data": {
      "text/plain": [
       "{'shape': (19092, 5),\n",
       " 'types': event_category    object\n",
       " event_action      object\n",
       " event_label       object\n",
       " total_events       int64\n",
       " unique_events      int64\n",
       " dtype: object,\n",
       " 'NAN': event_category    0\n",
       " event_action      0\n",
       " event_label       0\n",
       " total_events      0\n",
       " unique_events     0\n",
       " dtype: int64}"
      ]
     },
     "execution_count": 8,
     "metadata": {},
     "output_type": "execute_result"
    }
   ],
   "source": [
    "get_info(df_events)"
   ]
  },
  {
   "cell_type": "markdown",
   "id": "151c645b",
   "metadata": {},
   "source": [
    "Типы на месте, даже без дф даже без NaN!"
   ]
  },
  {
   "cell_type": "markdown",
   "id": "e49b5d1b",
   "metadata": {},
   "source": [
    "Итак, можно перейти к первому вопросу. **Сколько людей пользуются фильтрами?** Согласно описаю event_action в гугл доке, price_button_submit отражает факт нажатия на кнопку \"Показать предложения\". Смотрим!"
   ]
  },
  {
   "cell_type": "code",
   "execution_count": 9,
   "id": "271dce2e",
   "metadata": {},
   "outputs": [],
   "source": [
    "filter_users = df_events.query('event_action == \"price_button_submit\"').agg({'unique_events': 'sum'})"
   ]
  },
  {
   "cell_type": "code",
   "execution_count": 10,
   "id": "8409f81b",
   "metadata": {},
   "outputs": [
    {
     "data": {
      "text/plain": [
       "unique_events    63063\n",
       "dtype: int64"
      ]
     },
     "execution_count": 10,
     "metadata": {},
     "output_type": "execute_result"
    }
   ],
   "source": [
    "filter_users"
   ]
  },
  {
   "cell_type": "markdown",
   "id": "f5f25247",
   "metadata": {},
   "source": [
    "Итак, фильтрами пользуется 63063 уникальных пользователя. Но что значат эти цифры сами по себе? Стоит посмотреть соотношение числу посещений страницы"
   ]
  },
  {
   "cell_type": "code",
   "execution_count": 11,
   "id": "a93b45a8",
   "metadata": {},
   "outputs": [],
   "source": [
    "visitors = df_events.query('event_action == \"Page Visit\"').agg({'unique_events': 'sum'})"
   ]
  },
  {
   "cell_type": "code",
   "execution_count": 12,
   "id": "d00fbeed",
   "metadata": {},
   "outputs": [
    {
     "data": {
      "text/plain": [
       "unique_events    1384478\n",
       "dtype: int64"
      ]
     },
     "execution_count": 12,
     "metadata": {},
     "output_type": "execute_result"
    }
   ],
   "source": [
    "visitors"
   ]
  },
  {
   "cell_type": "markdown",
   "id": "2b628b3c",
   "metadata": {},
   "source": [
    "Само соотношение, в процентах:"
   ]
  },
  {
   "cell_type": "code",
   "execution_count": 13,
   "id": "33c1bc5c",
   "metadata": {},
   "outputs": [
    {
     "data": {
      "text/plain": [
       "unique_events    4.56\n",
       "dtype: float64"
      ]
     },
     "execution_count": 13,
     "metadata": {},
     "output_type": "execute_result"
    }
   ],
   "source": [
    "round((filter_users / visitors) *100, 2)"
   ]
  },
  {
   "cell_type": "markdown",
   "id": "7cac7589",
   "metadata": {},
   "source": [
    "Вот так намного понятнее."
   ]
  },
  {
   "cell_type": "markdown",
   "id": "7e3bebb2",
   "metadata": {},
   "source": [
    "**Вывод**"
   ]
  },
  {
   "cell_type": "markdown",
   "id": "e554480f",
   "metadata": {},
   "source": [
    "**63063** уникальных пользователя воспользовались фильтром. Относительно числа уникальных пользователей, посещавших страницы, они составляют **4.56%** "
   ]
  },
  {
   "cell_type": "markdown",
   "id": "aef983b6",
   "metadata": {},
   "source": [
    "Для наглядности также можно построить график:"
   ]
  },
  {
   "cell_type": "code",
   "execution_count": 14,
   "id": "0815ca48",
   "metadata": {},
   "outputs": [],
   "source": [
    "df_visits_and_filters = df_events.query('(event_action == \"price_button_submit\") | (event_action == \"Page Visit\")')"
   ]
  },
  {
   "cell_type": "code",
   "execution_count": 15,
   "id": "3b4201e5",
   "metadata": {},
   "outputs": [
    {
     "data": {
      "text/plain": [
       "Text(0.5, 1.0, 'Применившие фильтр пользователи и посетившие страницу пользователи')"
      ]
     },
     "execution_count": 15,
     "metadata": {},
     "output_type": "execute_result"
    },
    {
     "data": {
      "image/png": "[encoded data removed]",
      "text/plain": [
       "<Figure size 1584x504 with 1 Axes>"
      ]
     },
     "metadata": {},
     "output_type": "display_data"
    }
   ],
   "source": [
    "sns.barplot(data = df_visits_and_filters, x= 'event_action',\n",
    "            y = 'unique_events', estimator = sum, ci=None)\n",
    "plt.title('Применившие фильтр пользователи и посетившие страницу пользователи')"
   ]
  },
  {
   "cell_type": "markdown",
   "id": "4c81770d",
   "metadata": {},
   "source": [
    "**В каких городах фильтрами пользуются больше? в каких меньше?**"
   ]
  },
  {
   "cell_type": "markdown",
   "id": "c1ebdbb9",
   "metadata": {},
   "source": [
    "Для начала извлечём город из event_label в отдельную колонку"
   ]
  },
  {
   "cell_type": "code",
   "execution_count": 16,
   "id": "5cb15ba6",
   "metadata": {},
   "outputs": [],
   "source": [
    "df_events['city'] = df_events.event_label.apply(lambda x: x.split(' ')[0])"
   ]
  },
  {
   "cell_type": "code",
   "execution_count": 17,
   "id": "105dc94d",
   "metadata": {},
   "outputs": [
    {
     "data": {
      "text/html": [
       "<div>\n",
       "<style scoped>\n",
       "    .dataframe tbody tr th:only-of-type {\n",
       "        vertical-align: middle;\n",
       "    }\n",
       "\n",
       "    .dataframe tbody tr th {\n",
       "        vertical-align: top;\n",
       "    }\n",
       "\n",
       "    .dataframe thead th {\n",
       "        text-align: right;\n",
       "    }\n",
       "</style>\n",
       "<table border=\"1\" class=\"dataframe\">\n",
       "  <thead>\n",
       "    <tr style=\"text-align: right;\">\n",
       "      <th></th>\n",
       "      <th>event_category</th>\n",
       "      <th>event_action</th>\n",
       "      <th>event_label</th>\n",
       "      <th>total_events</th>\n",
       "      <th>unique_events</th>\n",
       "      <th>city</th>\n",
       "    </tr>\n",
       "  </thead>\n",
       "  <tbody>\n",
       "    <tr>\n",
       "      <th>0</th>\n",
       "      <td>city_landing</td>\n",
       "      <td>price_button_submit</td>\n",
       "      <td>Tula / Показать предложения (11)</td>\n",
       "      <td>8</td>\n",
       "      <td>7</td>\n",
       "      <td>Tula</td>\n",
       "    </tr>\n",
       "    <tr>\n",
       "      <th>1</th>\n",
       "      <td>city_landing</td>\n",
       "      <td>price_button_submit</td>\n",
       "      <td>Sochi / Показать предложения (39)</td>\n",
       "      <td>12</td>\n",
       "      <td>10</td>\n",
       "      <td>Sochi</td>\n",
       "    </tr>\n",
       "    <tr>\n",
       "      <th>2</th>\n",
       "      <td>city_landing</td>\n",
       "      <td>search-tools-button_open</td>\n",
       "      <td>Penza / Сортировка</td>\n",
       "      <td>2</td>\n",
       "      <td>2</td>\n",
       "      <td>Penza</td>\n",
       "    </tr>\n",
       "  </tbody>\n",
       "</table>\n",
       "</div>"
      ],
      "text/plain": [
       "  event_category              event_action                        event_label  \\\n",
       "0   city_landing       price_button_submit   Tula / Показать предложения (11)   \n",
       "1   city_landing       price_button_submit  Sochi / Показать предложения (39)   \n",
       "2   city_landing  search-tools-button_open                 Penza / Сортировка   \n",
       "\n",
       "   total_events  unique_events   city  \n",
       "0             8              7   Tula  \n",
       "1            12             10  Sochi  \n",
       "2             2              2  Penza  "
      ]
     },
     "execution_count": 17,
     "metadata": {},
     "output_type": "execute_result"
    }
   ],
   "source": [
    "df_events.head(3)"
   ]
  },
  {
   "cell_type": "markdown",
   "id": "b4987dee",
   "metadata": {},
   "source": [
    "Я решила, что имеет смысл рассчитать и уникальных пользователей, и общее количество применений."
   ]
  },
  {
   "cell_type": "code",
   "execution_count": 18,
   "id": "fe32ed3c",
   "metadata": {},
   "outputs": [],
   "source": [
    "df_cities_filters = df_events.groupby('city', as_index=False).agg({'unique_events': 'sum','total_events': 'sum'}) \\\n",
    "    .sort_values(by = ['unique_events','total_events'], ascending =False)"
   ]
  },
  {
   "cell_type": "code",
   "execution_count": 19,
   "id": "a81cb9ed",
   "metadata": {},
   "outputs": [
    {
     "data": {
      "text/html": [
       "<div>\n",
       "<style scoped>\n",
       "    .dataframe tbody tr th:only-of-type {\n",
       "        vertical-align: middle;\n",
       "    }\n",
       "\n",
       "    .dataframe tbody tr th {\n",
       "        vertical-align: top;\n",
       "    }\n",
       "\n",
       "    .dataframe thead th {\n",
       "        text-align: right;\n",
       "    }\n",
       "</style>\n",
       "<table border=\"1\" class=\"dataframe\">\n",
       "  <thead>\n",
       "    <tr style=\"text-align: right;\">\n",
       "      <th></th>\n",
       "      <th>city</th>\n",
       "      <th>unique_events</th>\n",
       "      <th>total_events</th>\n",
       "    </tr>\n",
       "  </thead>\n",
       "  <tbody>\n",
       "    <tr>\n",
       "      <th>466</th>\n",
       "      <td>Saint</td>\n",
       "      <td>255673</td>\n",
       "      <td>380566</td>\n",
       "    </tr>\n",
       "    <tr>\n",
       "      <th>364</th>\n",
       "      <td>Moscow</td>\n",
       "      <td>150056</td>\n",
       "      <td>221407</td>\n",
       "    </tr>\n",
       "    <tr>\n",
       "      <th>248</th>\n",
       "      <td>Kaliningrad</td>\n",
       "      <td>93235</td>\n",
       "      <td>142957</td>\n",
       "    </tr>\n",
       "    <tr>\n",
       "      <th>260</th>\n",
       "      <td>Kazan</td>\n",
       "      <td>60191</td>\n",
       "      <td>84567</td>\n",
       "    </tr>\n",
       "    <tr>\n",
       "      <th>507</th>\n",
       "      <td>Sochi</td>\n",
       "      <td>53001</td>\n",
       "      <td>79340</td>\n",
       "    </tr>\n",
       "    <tr>\n",
       "      <th>...</th>\n",
       "      <td>...</td>\n",
       "      <td>...</td>\n",
       "      <td>...</td>\n",
       "    </tr>\n",
       "    <tr>\n",
       "      <th>566</th>\n",
       "      <td>Uganda</td>\n",
       "      <td>1</td>\n",
       "      <td>1</td>\n",
       "    </tr>\n",
       "    <tr>\n",
       "      <th>569</th>\n",
       "      <td>Ulm</td>\n",
       "      <td>1</td>\n",
       "      <td>1</td>\n",
       "    </tr>\n",
       "    <tr>\n",
       "      <th>597</th>\n",
       "      <td>Waikabubak</td>\n",
       "      <td>1</td>\n",
       "      <td>1</td>\n",
       "    </tr>\n",
       "    <tr>\n",
       "      <th>619</th>\n",
       "      <td>Zanzibar</td>\n",
       "      <td>1</td>\n",
       "      <td>1</td>\n",
       "    </tr>\n",
       "    <tr>\n",
       "      <th>632</th>\n",
       "      <td>pokrov</td>\n",
       "      <td>1</td>\n",
       "      <td>1</td>\n",
       "    </tr>\n",
       "  </tbody>\n",
       "</table>\n",
       "<p>640 rows × 3 columns</p>\n",
       "</div>"
      ],
      "text/plain": [
       "            city  unique_events  total_events\n",
       "466        Saint         255673        380566\n",
       "364       Moscow         150056        221407\n",
       "248  Kaliningrad          93235        142957\n",
       "260        Kazan          60191         84567\n",
       "507        Sochi          53001         79340\n",
       "..           ...            ...           ...\n",
       "566       Uganda              1             1\n",
       "569          Ulm              1             1\n",
       "597   Waikabubak              1             1\n",
       "619     Zanzibar              1             1\n",
       "632       pokrov              1             1\n",
       "\n",
       "[640 rows x 3 columns]"
      ]
     },
     "execution_count": 19,
     "metadata": {},
     "output_type": "execute_result"
    }
   ],
   "source": [
    "df_cities_filters"
   ]
  },
  {
   "cell_type": "markdown",
   "id": "959cde79",
   "metadata": {},
   "source": [
    "Построим графики, отражающие общую тенденцию. Они будут немнного страшными из-за большого количества городов, но покажут общую картину."
   ]
  },
  {
   "cell_type": "code",
   "execution_count": 20,
   "id": "6d267295",
   "metadata": {},
   "outputs": [
    {
     "name": "stderr",
     "output_type": "stream",
     "text": [
      "<ipython-input-20-ece60c954f03>:3: UserWarning: You have mixed positional and keyword arguments, some input may be discarded.\n",
      "  plt.legend(['unique_events', 'total_events'], labels = ['unique_events', 'total_events'])\n"
     ]
    },
    {
     "data": {
      "text/plain": [
       "Text(0.5, 1.0, 'Применение фильтров и города')"
      ]
     },
     "execution_count": 20,
     "metadata": {},
     "output_type": "execute_result"
    },
    {
     "data": {
      "image/png": "[encoded data removed]",
      "text/plain": [
       "<Figure size 1584x504 with 1 Axes>"
      ]
     },
     "metadata": {},
     "output_type": "display_data"
    }
   ],
   "source": [
    "sns.lineplot(data = df_cities_filters , x='city', y =  'unique_events')\n",
    "sns.lineplot(data = df_cities_filters , x='city', y =  'total_events')\n",
    "plt.legend(['unique_events', 'total_events'], labels = ['unique_events', 'total_events'])\n",
    "plt.ylabel('sum_events')\n",
    "plt.xticks([])\n",
    "plt.title('Применение фильтров и города')"
   ]
  },
  {
   "cell_type": "markdown",
   "id": "3289d196",
   "metadata": {},
   "source": [
    "Пусть будет отобрано 10 первых городов"
   ]
  },
  {
   "cell_type": "code",
   "execution_count": 21,
   "id": "d4f8a7dd",
   "metadata": {},
   "outputs": [],
   "source": [
    "top_10_cities_filters = df_cities_filters.head(10)"
   ]
  },
  {
   "cell_type": "code",
   "execution_count": 22,
   "id": "0d79082a",
   "metadata": {},
   "outputs": [
    {
     "data": {
      "text/html": [
       "<div>\n",
       "<style scoped>\n",
       "    .dataframe tbody tr th:only-of-type {\n",
       "        vertical-align: middle;\n",
       "    }\n",
       "\n",
       "    .dataframe tbody tr th {\n",
       "        vertical-align: top;\n",
       "    }\n",
       "\n",
       "    .dataframe thead th {\n",
       "        text-align: right;\n",
       "    }\n",
       "</style>\n",
       "<table border=\"1\" class=\"dataframe\">\n",
       "  <thead>\n",
       "    <tr style=\"text-align: right;\">\n",
       "      <th></th>\n",
       "      <th>city</th>\n",
       "      <th>unique_events</th>\n",
       "      <th>total_events</th>\n",
       "    </tr>\n",
       "  </thead>\n",
       "  <tbody>\n",
       "    <tr>\n",
       "      <th>466</th>\n",
       "      <td>Saint</td>\n",
       "      <td>255673</td>\n",
       "      <td>380566</td>\n",
       "    </tr>\n",
       "    <tr>\n",
       "      <th>364</th>\n",
       "      <td>Moscow</td>\n",
       "      <td>150056</td>\n",
       "      <td>221407</td>\n",
       "    </tr>\n",
       "    <tr>\n",
       "      <th>248</th>\n",
       "      <td>Kaliningrad</td>\n",
       "      <td>93235</td>\n",
       "      <td>142957</td>\n",
       "    </tr>\n",
       "    <tr>\n",
       "      <th>260</th>\n",
       "      <td>Kazan</td>\n",
       "      <td>60191</td>\n",
       "      <td>84567</td>\n",
       "    </tr>\n",
       "    <tr>\n",
       "      <th>507</th>\n",
       "      <td>Sochi</td>\n",
       "      <td>53001</td>\n",
       "      <td>79340</td>\n",
       "    </tr>\n",
       "    <tr>\n",
       "      <th>494</th>\n",
       "      <td>Sharm-el-Sheikh</td>\n",
       "      <td>49758</td>\n",
       "      <td>78691</td>\n",
       "    </tr>\n",
       "    <tr>\n",
       "      <th>237</th>\n",
       "      <td>Istanbul</td>\n",
       "      <td>48650</td>\n",
       "      <td>70160</td>\n",
       "    </tr>\n",
       "    <tr>\n",
       "      <th>25</th>\n",
       "      <td>Anapa</td>\n",
       "      <td>44284</td>\n",
       "      <td>72101</td>\n",
       "    </tr>\n",
       "    <tr>\n",
       "      <th>158</th>\n",
       "      <td>Dubai</td>\n",
       "      <td>40891</td>\n",
       "      <td>61765</td>\n",
       "    </tr>\n",
       "    <tr>\n",
       "      <th>230</th>\n",
       "      <td>Hurghada</td>\n",
       "      <td>36542</td>\n",
       "      <td>59339</td>\n",
       "    </tr>\n",
       "  </tbody>\n",
       "</table>\n",
       "</div>"
      ],
      "text/plain": [
       "                city  unique_events  total_events\n",
       "466            Saint         255673        380566\n",
       "364           Moscow         150056        221407\n",
       "248      Kaliningrad          93235        142957\n",
       "260            Kazan          60191         84567\n",
       "507            Sochi          53001         79340\n",
       "494  Sharm-el-Sheikh          49758         78691\n",
       "237         Istanbul          48650         70160\n",
       "25             Anapa          44284         72101\n",
       "158            Dubai          40891         61765\n",
       "230         Hurghada          36542         59339"
      ]
     },
     "execution_count": 22,
     "metadata": {},
     "output_type": "execute_result"
    }
   ],
   "source": [
    "top_10_cities_filters"
   ]
  },
  {
   "cell_type": "markdown",
   "id": "8ba9c104",
   "metadata": {},
   "source": [
    "Самые непопулярные города в плане использования фильтров я вычислю по-другому: через единички"
   ]
  },
  {
   "cell_type": "code",
   "execution_count": 23,
   "id": "978ac09b",
   "metadata": {},
   "outputs": [],
   "source": [
    "bottom_cities_filters = df_cities_filters.query('total_events ==1')"
   ]
  },
  {
   "cell_type": "code",
   "execution_count": 82,
   "id": "677b2bd6",
   "metadata": {},
   "outputs": [
    {
     "name": "stdout",
     "output_type": "stream",
     "text": [
      "['Agrigento', 'Alkmaar', 'Aosta', 'Bagan', 'Bagrationovsk', 'Boca', 'Bolgheri', 'Burgos', 'Cabarete', 'Crimea', 'Denpasar', 'Ganja', 'Gatchina', 'Gianyar', 'Heidelberg', 'Kampala', 'Leh', 'Maloyaroslavets', 'Messina', 'Mombasa', 'Moshi', 'Mytishchi', 'Portofino', 'Pravdinsk', 'Puerto', 'Putao', 'Sarapul', 'Severodvinsk', 'Torredembarra', 'Totma', 'Trento', 'Turkistan', 'Uganda', 'Ulm', 'Waikabubak', 'Zanzibar', 'pokrov']\n"
     ]
    }
   ],
   "source": [
    "print(bottom_cities_filters.city.tolist())"
   ]
  },
  {
   "cell_type": "markdown",
   "id": "ff3380c8",
   "metadata": {},
   "source": [
    "**Вывод**\n",
    "\n",
    "Как видим, абсолютным лидером по фильтрам является Санкт-Петербург. Unique_events взаимосвязано с total_events, что закономерно."
   ]
  },
  {
   "cell_type": "code",
   "execution_count": 25,
   "id": "a8711833",
   "metadata": {},
   "outputs": [
    {
     "data": {
      "text/plain": [
       "Text(0.5, 1.0, 'Топ-10 городов по фильтрации')"
      ]
     },
     "execution_count": 25,
     "metadata": {},
     "output_type": "execute_result"
    },
    {
     "data": {
      "image/png": "[encoded data removed]",
      "text/plain": [
       "<Figure size 1584x504 with 1 Axes>"
      ]
     },
     "metadata": {},
     "output_type": "display_data"
    }
   ],
   "source": [
    "top_10_cities_filters.plot.bar(x ='city')\n",
    "plt.xlabel('')\n",
    "plt.title('Топ-10 городов по фильтрации')"
   ]
  },
  {
   "cell_type": "markdown",
   "id": "6ac3aec5",
   "metadata": {},
   "source": [
    "**Какие разделы фильтров наиболее востребованы? “фильтры”, “сортировка”, “категории”?**"
   ]
  },
  {
   "cell_type": "markdown",
   "id": "a2509028",
   "metadata": {},
   "source": [
    "У нас есть колонка event_label, отражающая текст на кнопке. Кнопки \"Сортировка\", \"Категории\", \"Фильтры\", есть на сайте их можно вытащить из event_label. Создам новую колонку с очищенными лейблами - label_value"
   ]
  },
  {
   "cell_type": "markdown",
   "id": "2c208579",
   "metadata": {},
   "source": [
    "Сразу отмечу, что востребованность разделов фильтра буду оценивать через уникальных пользователей. Люди - наше всё!"
   ]
  },
  {
   "cell_type": "code",
   "execution_count": 26,
   "id": "c7df8d63",
   "metadata": {
    "scrolled": true
   },
   "outputs": [
    {
     "data": {
      "text/html": [
       "<div>\n",
       "<style scoped>\n",
       "    .dataframe tbody tr th:only-of-type {\n",
       "        vertical-align: middle;\n",
       "    }\n",
       "\n",
       "    .dataframe tbody tr th {\n",
       "        vertical-align: top;\n",
       "    }\n",
       "\n",
       "    .dataframe thead th {\n",
       "        text-align: right;\n",
       "    }\n",
       "</style>\n",
       "<table border=\"1\" class=\"dataframe\">\n",
       "  <thead>\n",
       "    <tr style=\"text-align: right;\">\n",
       "      <th></th>\n",
       "      <th>event_category</th>\n",
       "      <th>event_action</th>\n",
       "      <th>event_label</th>\n",
       "      <th>total_events</th>\n",
       "      <th>unique_events</th>\n",
       "      <th>city</th>\n",
       "    </tr>\n",
       "  </thead>\n",
       "  <tbody>\n",
       "    <tr>\n",
       "      <th>0</th>\n",
       "      <td>city_landing</td>\n",
       "      <td>price_button_submit</td>\n",
       "      <td>Tula / Показать предложения (11)</td>\n",
       "      <td>8</td>\n",
       "      <td>7</td>\n",
       "      <td>Tula</td>\n",
       "    </tr>\n",
       "    <tr>\n",
       "      <th>1</th>\n",
       "      <td>city_landing</td>\n",
       "      <td>price_button_submit</td>\n",
       "      <td>Sochi / Показать предложения (39)</td>\n",
       "      <td>12</td>\n",
       "      <td>10</td>\n",
       "      <td>Sochi</td>\n",
       "    </tr>\n",
       "    <tr>\n",
       "      <th>2</th>\n",
       "      <td>city_landing</td>\n",
       "      <td>search-tools-button_open</td>\n",
       "      <td>Penza / Сортировка</td>\n",
       "      <td>2</td>\n",
       "      <td>2</td>\n",
       "      <td>Penza</td>\n",
       "    </tr>\n",
       "    <tr>\n",
       "      <th>3</th>\n",
       "      <td>city_landing</td>\n",
       "      <td>filters-categories_click</td>\n",
       "      <td>Gelendzhik / ЭКСКУРСИИ В ГЕЛЕНДЖИКЕ ЦЕНЫ</td>\n",
       "      <td>1</td>\n",
       "      <td>1</td>\n",
       "      <td>Gelendzhik</td>\n",
       "    </tr>\n",
       "    <tr>\n",
       "      <th>4</th>\n",
       "      <td>city_landing</td>\n",
       "      <td>price_button_submit</td>\n",
       "      <td>Moscow / Показать предложения (345)</td>\n",
       "      <td>2</td>\n",
       "      <td>2</td>\n",
       "      <td>Moscow</td>\n",
       "    </tr>\n",
       "  </tbody>\n",
       "</table>\n",
       "</div>"
      ],
      "text/plain": [
       "  event_category              event_action  \\\n",
       "0   city_landing       price_button_submit   \n",
       "1   city_landing       price_button_submit   \n",
       "2   city_landing  search-tools-button_open   \n",
       "3   city_landing  filters-categories_click   \n",
       "4   city_landing       price_button_submit   \n",
       "\n",
       "                                event_label  total_events  unique_events  \\\n",
       "0          Tula / Показать предложения (11)             8              7   \n",
       "1         Sochi / Показать предложения (39)            12             10   \n",
       "2                        Penza / Сортировка             2              2   \n",
       "3  Gelendzhik / ЭКСКУРСИИ В ГЕЛЕНДЖИКЕ ЦЕНЫ             1              1   \n",
       "4       Moscow / Показать предложения (345)             2              2   \n",
       "\n",
       "         city  \n",
       "0        Tula  \n",
       "1       Sochi  \n",
       "2       Penza  \n",
       "3  Gelendzhik  \n",
       "4      Moscow  "
      ]
     },
     "execution_count": 26,
     "metadata": {},
     "output_type": "execute_result"
    }
   ],
   "source": [
    "df_events.head()"
   ]
  },
  {
   "cell_type": "code",
   "execution_count": 27,
   "id": "5132326f",
   "metadata": {},
   "outputs": [],
   "source": [
    "df_events['label_value'] = df_events.event_label.apply(lambda x: x.split('/ ')[-1])"
   ]
  },
  {
   "cell_type": "code",
   "execution_count": 28,
   "id": "24292fdb",
   "metadata": {},
   "outputs": [
    {
     "data": {
      "text/html": [
       "<div>\n",
       "<style scoped>\n",
       "    .dataframe tbody tr th:only-of-type {\n",
       "        vertical-align: middle;\n",
       "    }\n",
       "\n",
       "    .dataframe tbody tr th {\n",
       "        vertical-align: top;\n",
       "    }\n",
       "\n",
       "    .dataframe thead th {\n",
       "        text-align: right;\n",
       "    }\n",
       "</style>\n",
       "<table border=\"1\" class=\"dataframe\">\n",
       "  <thead>\n",
       "    <tr style=\"text-align: right;\">\n",
       "      <th></th>\n",
       "      <th>event_category</th>\n",
       "      <th>event_action</th>\n",
       "      <th>event_label</th>\n",
       "      <th>total_events</th>\n",
       "      <th>unique_events</th>\n",
       "      <th>city</th>\n",
       "      <th>label_value</th>\n",
       "    </tr>\n",
       "  </thead>\n",
       "  <tbody>\n",
       "    <tr>\n",
       "      <th>0</th>\n",
       "      <td>city_landing</td>\n",
       "      <td>price_button_submit</td>\n",
       "      <td>Tula / Показать предложения (11)</td>\n",
       "      <td>8</td>\n",
       "      <td>7</td>\n",
       "      <td>Tula</td>\n",
       "      <td>Показать предложения (11)</td>\n",
       "    </tr>\n",
       "    <tr>\n",
       "      <th>1</th>\n",
       "      <td>city_landing</td>\n",
       "      <td>price_button_submit</td>\n",
       "      <td>Sochi / Показать предложения (39)</td>\n",
       "      <td>12</td>\n",
       "      <td>10</td>\n",
       "      <td>Sochi</td>\n",
       "      <td>Показать предложения (39)</td>\n",
       "    </tr>\n",
       "    <tr>\n",
       "      <th>2</th>\n",
       "      <td>city_landing</td>\n",
       "      <td>search-tools-button_open</td>\n",
       "      <td>Penza / Сортировка</td>\n",
       "      <td>2</td>\n",
       "      <td>2</td>\n",
       "      <td>Penza</td>\n",
       "      <td>Сортировка</td>\n",
       "    </tr>\n",
       "    <tr>\n",
       "      <th>3</th>\n",
       "      <td>city_landing</td>\n",
       "      <td>filters-categories_click</td>\n",
       "      <td>Gelendzhik / ЭКСКУРСИИ В ГЕЛЕНДЖИКЕ ЦЕНЫ</td>\n",
       "      <td>1</td>\n",
       "      <td>1</td>\n",
       "      <td>Gelendzhik</td>\n",
       "      <td>ЭКСКУРСИИ В ГЕЛЕНДЖИКЕ ЦЕНЫ</td>\n",
       "    </tr>\n",
       "    <tr>\n",
       "      <th>4</th>\n",
       "      <td>city_landing</td>\n",
       "      <td>price_button_submit</td>\n",
       "      <td>Moscow / Показать предложения (345)</td>\n",
       "      <td>2</td>\n",
       "      <td>2</td>\n",
       "      <td>Moscow</td>\n",
       "      <td>Показать предложения (345)</td>\n",
       "    </tr>\n",
       "  </tbody>\n",
       "</table>\n",
       "</div>"
      ],
      "text/plain": [
       "  event_category              event_action  \\\n",
       "0   city_landing       price_button_submit   \n",
       "1   city_landing       price_button_submit   \n",
       "2   city_landing  search-tools-button_open   \n",
       "3   city_landing  filters-categories_click   \n",
       "4   city_landing       price_button_submit   \n",
       "\n",
       "                                event_label  total_events  unique_events  \\\n",
       "0          Tula / Показать предложения (11)             8              7   \n",
       "1         Sochi / Показать предложения (39)            12             10   \n",
       "2                        Penza / Сортировка             2              2   \n",
       "3  Gelendzhik / ЭКСКУРСИИ В ГЕЛЕНДЖИКЕ ЦЕНЫ             1              1   \n",
       "4       Moscow / Показать предложения (345)             2              2   \n",
       "\n",
       "         city                  label_value  \n",
       "0        Tula    Показать предложения (11)  \n",
       "1       Sochi    Показать предложения (39)  \n",
       "2       Penza                   Сортировка  \n",
       "3  Gelendzhik  ЭКСКУРСИИ В ГЕЛЕНДЖИКЕ ЦЕНЫ  \n",
       "4      Moscow   Показать предложения (345)  "
      ]
     },
     "execution_count": 28,
     "metadata": {},
     "output_type": "execute_result"
    }
   ],
   "source": [
    "df_events.head()"
   ]
  },
  {
   "cell_type": "markdown",
   "id": "abd62420",
   "metadata": {},
   "source": [
    "Теперь можно отобрать клики на категории, фильтры и сортировку, для этого создам новый дф"
   ]
  },
  {
   "cell_type": "code",
   "execution_count": 29,
   "id": "fcfca4b8",
   "metadata": {},
   "outputs": [],
   "source": [
    "df_filters_types = df_events[['unique_events', 'label_value']].query('label_value == \"Категории\" | label_value == \"Сортировка\" | label_value == \"Фильтры\"')"
   ]
  },
  {
   "cell_type": "code",
   "execution_count": 30,
   "id": "96b1839e",
   "metadata": {},
   "outputs": [
    {
     "data": {
      "text/html": [
       "<div>\n",
       "<style scoped>\n",
       "    .dataframe tbody tr th:only-of-type {\n",
       "        vertical-align: middle;\n",
       "    }\n",
       "\n",
       "    .dataframe tbody tr th {\n",
       "        vertical-align: top;\n",
       "    }\n",
       "\n",
       "    .dataframe thead th {\n",
       "        text-align: right;\n",
       "    }\n",
       "</style>\n",
       "<table border=\"1\" class=\"dataframe\">\n",
       "  <thead>\n",
       "    <tr style=\"text-align: right;\">\n",
       "      <th></th>\n",
       "      <th>unique_events</th>\n",
       "      <th>label_value</th>\n",
       "    </tr>\n",
       "  </thead>\n",
       "  <tbody>\n",
       "    <tr>\n",
       "      <th>2</th>\n",
       "      <td>2</td>\n",
       "      <td>Сортировка</td>\n",
       "    </tr>\n",
       "    <tr>\n",
       "      <th>54</th>\n",
       "      <td>4</td>\n",
       "      <td>Категории</td>\n",
       "    </tr>\n",
       "    <tr>\n",
       "      <th>60</th>\n",
       "      <td>1</td>\n",
       "      <td>Категории</td>\n",
       "    </tr>\n",
       "  </tbody>\n",
       "</table>\n",
       "</div>"
      ],
      "text/plain": [
       "    unique_events label_value\n",
       "2               2  Сортировка\n",
       "54              4   Категории\n",
       "60              1   Категории"
      ]
     },
     "execution_count": 30,
     "metadata": {},
     "output_type": "execute_result"
    }
   ],
   "source": [
    "df_filters_types.head(3)"
   ]
  },
  {
   "cell_type": "code",
   "execution_count": 31,
   "id": "15c66135",
   "metadata": {},
   "outputs": [
    {
     "data": {
      "text/html": [
       "<div>\n",
       "<style scoped>\n",
       "    .dataframe tbody tr th:only-of-type {\n",
       "        vertical-align: middle;\n",
       "    }\n",
       "\n",
       "    .dataframe tbody tr th {\n",
       "        vertical-align: top;\n",
       "    }\n",
       "\n",
       "    .dataframe thead th {\n",
       "        text-align: right;\n",
       "    }\n",
       "</style>\n",
       "<table border=\"1\" class=\"dataframe\">\n",
       "  <thead>\n",
       "    <tr style=\"text-align: right;\">\n",
       "      <th></th>\n",
       "      <th>label_value</th>\n",
       "      <th>unique_events</th>\n",
       "    </tr>\n",
       "  </thead>\n",
       "  <tbody>\n",
       "    <tr>\n",
       "      <th>0</th>\n",
       "      <td>Категории</td>\n",
       "      <td>9329</td>\n",
       "    </tr>\n",
       "    <tr>\n",
       "      <th>1</th>\n",
       "      <td>Сортировка</td>\n",
       "      <td>7556</td>\n",
       "    </tr>\n",
       "    <tr>\n",
       "      <th>2</th>\n",
       "      <td>Фильтры</td>\n",
       "      <td>17188</td>\n",
       "    </tr>\n",
       "  </tbody>\n",
       "</table>\n",
       "</div>"
      ],
      "text/plain": [
       "  label_value  unique_events\n",
       "0   Категории           9329\n",
       "1  Сортировка           7556\n",
       "2     Фильтры          17188"
      ]
     },
     "execution_count": 31,
     "metadata": {},
     "output_type": "execute_result"
    }
   ],
   "source": [
    "df_filters_types.groupby('label_value', as_index = False).agg({'unique_events': 'sum'})"
   ]
  },
  {
   "cell_type": "code",
   "execution_count": 32,
   "id": "259c2bcc",
   "metadata": {},
   "outputs": [
    {
     "data": {
      "text/plain": [
       "Text(0.5, 1.0, 'Уникальные ивенты, сумма')"
      ]
     },
     "execution_count": 32,
     "metadata": {},
     "output_type": "execute_result"
    },
    {
     "data": {
      "image/png": "[encoded data removed]",
      "text/plain": [
       "<Figure size 1584x504 with 1 Axes>"
      ]
     },
     "metadata": {},
     "output_type": "display_data"
    }
   ],
   "source": [
    "sns.barplot(data = df_filters_types, x = 'label_value', y = 'unique_events', estimator = sum, ci = None )\n",
    "plt.xlabel('')\n",
    "plt.title('Уникальные ивенты, сумма')"
   ]
  },
  {
   "cell_type": "markdown",
   "id": "40e4ad70",
   "metadata": {},
   "source": [
    "Числа - это хорошо, но можно проверить различия ещё и с помощью статистики.\n",
    "Для начала посмотрю распределения уников по каждому типу фильтрации. Начну с сортировки."
   ]
  },
  {
   "cell_type": "code",
   "execution_count": 33,
   "id": "519596bb",
   "metadata": {},
   "outputs": [
    {
     "data": {
      "text/plain": [
       "Text(0.5, 1.0, 'Фильтры')"
      ]
     },
     "execution_count": 33,
     "metadata": {},
     "output_type": "execute_result"
    },
    {
     "data": {
      "image/png": "[encoded data removed]",
      "text/plain": [
       "<Figure size 1584x504 with 3 Axes>"
      ]
     },
     "metadata": {},
     "output_type": "display_data"
    }
   ],
   "source": [
    "f, axes = plt.subplots(1, 3)\n",
    "sns.histplot(data = df_filters_types.query('label_value== \"Сортировка\"') , x='unique_events', ax=axes[0])\n",
    "sns.histplot(data = df_filters_types.query('label_value== \"Категории\"') , x='unique_events', ax=axes[1])\n",
    "sns.histplot(data = df_filters_types.query('label_value== \"Фильтры\"') , x='unique_events', ax=axes[2])\n",
    "axes[0].set_title(\"Сортировка\")\n",
    "axes[1].set_title(\"Категории\")\n",
    "axes[2].set_title(\"Фильтры\")"
   ]
  },
  {
   "cell_type": "code",
   "execution_count": 34,
   "id": "512cabbf",
   "metadata": {},
   "outputs": [
    {
     "name": "stdout",
     "output_type": "stream",
     "text": [
      "sort_sample_size = 261\n",
      "categories_sample_size = 282\n",
      "filt_sample_size = 294\n"
     ]
    }
   ],
   "source": [
    "print('sort_sample_size =', df_filters_types.query('label_value== \"Сортировка\"').shape[0])\n",
    "print('categories_sample_size =', df_filters_types.query('label_value== \"Категории\"').shape[0])\n",
    "print('filt_sample_size =', df_filters_types.query('label_value== \"Фильтры\"').shape[0])"
   ]
  },
  {
   "cell_type": "markdown",
   "id": "e98cfb5a",
   "metadata": {},
   "source": [
    "Сразу видно, что распределение кликов само по себе не нормально и имеет выбросы в каждом из случаев. Такова природа распределения кликов, и мне потребовалось время, чтобы принять решение по поводу статистического метода. \n",
    "\n",
    "В результате я выбрала t тест, так как посчитала, что выборки достаточно большие(261), чтобы пренебречь их нормальностью. Также одинаковое распределение выборок говорит об их однородности, потому я решила, что имеет смысл оценить средние. Из альтернатив есть Манна-Уитни и Краскела — Уоллиса, но я изебагаю их из-за неоднозначности интерпретации и меньшей мощности. От ANOVA же я отказалась, так как ANOVA более чувствительна к нормальности."
   ]
  },
  {
   "cell_type": "markdown",
   "id": "27411344",
   "metadata": {},
   "source": [
    "Выравниваю количество наблюдений в выборках по наименьшей(Сортировка)"
   ]
  },
  {
   "cell_type": "code",
   "execution_count": 35,
   "id": "8dfdf668",
   "metadata": {},
   "outputs": [],
   "source": [
    "min_sample_size = df_filters_types.query('label_value== \"Сортировка\"').shape[0]"
   ]
  },
  {
   "cell_type": "code",
   "execution_count": 36,
   "id": "869bd0e8",
   "metadata": {},
   "outputs": [],
   "source": [
    "sort_sample = df_filters_types.query('label_value== \"Сортировка\"').unique_events"
   ]
  },
  {
   "cell_type": "code",
   "execution_count": 37,
   "id": "974de4ee",
   "metadata": {},
   "outputs": [],
   "source": [
    "categories_sample = df_filters_types.query('label_value== \"Категории\"').unique_events.sample(n=min_sample_size, random_state=42)"
   ]
  },
  {
   "cell_type": "code",
   "execution_count": 38,
   "id": "f3dbe532",
   "metadata": {},
   "outputs": [],
   "source": [
    "filters_sample = df_filters_types.query('label_value== \"Фильтры\"').unique_events.sample(n=min_sample_size, random_state=42)"
   ]
  },
  {
   "cell_type": "code",
   "execution_count": 39,
   "id": "7f4278d2",
   "metadata": {
    "scrolled": true
   },
   "outputs": [
    {
     "data": {
      "text/plain": [
       "Ttest_indResult(statistic=-0.7076006693588016, pvalue=0.47953599550359416)"
      ]
     },
     "execution_count": 39,
     "metadata": {},
     "output_type": "execute_result"
    }
   ],
   "source": [
    "stats.ttest_ind(sort_sample, categories_sample,  equal_var = False)"
   ]
  },
  {
   "cell_type": "markdown",
   "id": "d2bdeb3a",
   "metadata": {},
   "source": [
    "Вывод: p = 0.47, p>0.05, нулевая гипотеза не отклонена. Статистически значимой разницы средних количества уникальных пользователей, кликнувших на сортировку, и количества уникальных пользователей, кликнувших на категории, не выявлено."
   ]
  },
  {
   "cell_type": "code",
   "execution_count": 40,
   "id": "1b176b1b",
   "metadata": {
    "scrolled": true
   },
   "outputs": [
    {
     "data": {
      "text/plain": [
       "Ttest_indResult(statistic=-2.5812234832464847, pvalue=0.010257897934180733)"
      ]
     },
     "execution_count": 40,
     "metadata": {},
     "output_type": "execute_result"
    }
   ],
   "source": [
    "stats.ttest_ind(sort_sample, filters_sample ,  equal_var = False)"
   ]
  },
  {
   "cell_type": "markdown",
   "id": "c4a78dd7",
   "metadata": {},
   "source": [
    "Вывод: p = 0.01, p<0.05, отклоняем нулевую гипотезу. Выявлена статистически значимая разница средних количества уникальных пользователей, кликнувших на сортировку, и количества уникальных пользователей, кликнувших на фильтры."
   ]
  },
  {
   "cell_type": "code",
   "execution_count": 41,
   "id": "f24f57ee",
   "metadata": {},
   "outputs": [
    {
     "data": {
      "text/plain": [
       "Ttest_indResult(statistic=-2.0213802983121947, pvalue=0.043900667648088254)"
      ]
     },
     "execution_count": 41,
     "metadata": {},
     "output_type": "execute_result"
    }
   ],
   "source": [
    "stats.ttest_ind(categories_sample, filters_sample ,  equal_var = False)"
   ]
  },
  {
   "cell_type": "markdown",
   "id": "2c5b0ef1",
   "metadata": {},
   "source": [
    "Вывод: p = 0.043, p<0.05, отклоняем нулевую гипотезу. Выявлена статистически значимая разница средних количества уникальных пользователей, кликнувших на категории, и количества уникальных пользователей, кликнувших на фильтры."
   ]
  },
  {
   "cell_type": "markdown",
   "id": "9e7032db",
   "metadata": {},
   "source": [
    "Одно из p = 0.043, что очень близко к границе. Помочь дополнительно оценить статистическую значимость разницы можно с помощью графика"
   ]
  },
  {
   "cell_type": "code",
   "execution_count": 42,
   "id": "70ffc84a",
   "metadata": {},
   "outputs": [
    {
     "data": {
      "text/plain": [
       "<AxesSubplot:xlabel='label_value', ylabel='unique_events'>"
      ]
     },
     "execution_count": 42,
     "metadata": {},
     "output_type": "execute_result"
    },
    {
     "data": {
      "image/png": "[encoded data removed]",
      "text/plain": [
       "<Figure size 1584x504 with 1 Axes>"
      ]
     },
     "metadata": {},
     "output_type": "display_data"
    }
   ],
   "source": [
    "sns.barplot(data = df_filters_types, x = 'label_value', y = 'unique_events' )"
   ]
  },
  {
   "cell_type": "markdown",
   "id": "b422b86b",
   "metadata": {},
   "source": [
    "Видно следующее: доверительные интервалы средних для Сортировки и Категорий перекрываются, а так же для Категорий и Фильтров. Всё ещё остаётся статистически значимая разница между Сортировкой и Фильтрами."
   ]
  },
  {
   "cell_type": "markdown",
   "id": "ffa18e46",
   "metadata": {},
   "source": [
    "**Вывод**\n",
    "\n",
    "Если смотреть просто на суммы уникальных действий, то наиболее востребованным видом фильтрации являются фильтры, затем категории, и затем сортировка. Статистически значимой разница средних оказалась только для пары Фильтры-Сортировка. В общем и целом, фильтры всё же можно посчитать самым востребованном разделом."
   ]
  },
  {
   "cell_type": "markdown",
   "id": "5fdb2ac9",
   "metadata": {},
   "source": [
    "**Как часто люди пользуются выбором цены?**"
   ]
  },
  {
   "cell_type": "markdown",
   "id": "5e4f155a",
   "metadata": {},
   "source": [
    "В event_action выбору цены соответсвуют price_first, price_second,  price_third"
   ]
  },
  {
   "cell_type": "code",
   "execution_count": 43,
   "id": "4525727b",
   "metadata": {},
   "outputs": [],
   "source": [
    "prices_df = df_events.query('event_action == \"price_first\" | event_action == \"price_second\" | event_action == \"price_third\"')"
   ]
  },
  {
   "cell_type": "code",
   "execution_count": 44,
   "id": "e5196b5e",
   "metadata": {},
   "outputs": [],
   "source": [
    "prices_events_df = prices_df.groupby('event_action', as_index = False).agg({'total_events' :'sum', 'unique_events' :'sum'})"
   ]
  },
  {
   "cell_type": "code",
   "execution_count": 45,
   "id": "f1d0b491",
   "metadata": {},
   "outputs": [
    {
     "data": {
      "text/html": [
       "<div>\n",
       "<style scoped>\n",
       "    .dataframe tbody tr th:only-of-type {\n",
       "        vertical-align: middle;\n",
       "    }\n",
       "\n",
       "    .dataframe tbody tr th {\n",
       "        vertical-align: top;\n",
       "    }\n",
       "\n",
       "    .dataframe thead th {\n",
       "        text-align: right;\n",
       "    }\n",
       "</style>\n",
       "<table border=\"1\" class=\"dataframe\">\n",
       "  <thead>\n",
       "    <tr style=\"text-align: right;\">\n",
       "      <th></th>\n",
       "      <th>event_action</th>\n",
       "      <th>total_events</th>\n",
       "      <th>unique_events</th>\n",
       "    </tr>\n",
       "  </thead>\n",
       "  <tbody>\n",
       "    <tr>\n",
       "      <th>0</th>\n",
       "      <td>price_first</td>\n",
       "      <td>8572</td>\n",
       "      <td>6676</td>\n",
       "    </tr>\n",
       "    <tr>\n",
       "      <th>1</th>\n",
       "      <td>price_second</td>\n",
       "      <td>2826</td>\n",
       "      <td>1995</td>\n",
       "    </tr>\n",
       "    <tr>\n",
       "      <th>2</th>\n",
       "      <td>price_third</td>\n",
       "      <td>904</td>\n",
       "      <td>595</td>\n",
       "    </tr>\n",
       "  </tbody>\n",
       "</table>\n",
       "</div>"
      ],
      "text/plain": [
       "   event_action  total_events  unique_events\n",
       "0   price_first          8572           6676\n",
       "1  price_second          2826           1995\n",
       "2   price_third           904            595"
      ]
     },
     "execution_count": 45,
     "metadata": {},
     "output_type": "execute_result"
    }
   ],
   "source": [
    "prices_events_df "
   ]
  },
  {
   "cell_type": "markdown",
   "id": "48b78d16",
   "metadata": {},
   "source": [
    "Добавлю пропорции:"
   ]
  },
  {
   "cell_type": "code",
   "execution_count": 46,
   "id": "c21d85b2",
   "metadata": {},
   "outputs": [],
   "source": [
    "prices_events_df['total_events_proportion'] = round(prices_events_df.total_events / prices_events_df.total_events.sum() *100, 2)"
   ]
  },
  {
   "cell_type": "code",
   "execution_count": 47,
   "id": "9f365575",
   "metadata": {},
   "outputs": [],
   "source": [
    "prices_events_df['unique_events_proportion'] = round(prices_events_df.unique_events / prices_events_df.unique_events.sum() *100, 2)"
   ]
  },
  {
   "cell_type": "code",
   "execution_count": 48,
   "id": "ba09d264",
   "metadata": {},
   "outputs": [
    {
     "data": {
      "text/html": [
       "<div>\n",
       "<style scoped>\n",
       "    .dataframe tbody tr th:only-of-type {\n",
       "        vertical-align: middle;\n",
       "    }\n",
       "\n",
       "    .dataframe tbody tr th {\n",
       "        vertical-align: top;\n",
       "    }\n",
       "\n",
       "    .dataframe thead th {\n",
       "        text-align: right;\n",
       "    }\n",
       "</style>\n",
       "<table border=\"1\" class=\"dataframe\">\n",
       "  <thead>\n",
       "    <tr style=\"text-align: right;\">\n",
       "      <th></th>\n",
       "      <th>event_action</th>\n",
       "      <th>total_events</th>\n",
       "      <th>unique_events</th>\n",
       "      <th>total_events_proportion</th>\n",
       "      <th>unique_events_proportion</th>\n",
       "    </tr>\n",
       "  </thead>\n",
       "  <tbody>\n",
       "    <tr>\n",
       "      <th>0</th>\n",
       "      <td>price_first</td>\n",
       "      <td>8572</td>\n",
       "      <td>6676</td>\n",
       "      <td>69.68</td>\n",
       "      <td>72.05</td>\n",
       "    </tr>\n",
       "    <tr>\n",
       "      <th>1</th>\n",
       "      <td>price_second</td>\n",
       "      <td>2826</td>\n",
       "      <td>1995</td>\n",
       "      <td>22.97</td>\n",
       "      <td>21.53</td>\n",
       "    </tr>\n",
       "    <tr>\n",
       "      <th>2</th>\n",
       "      <td>price_third</td>\n",
       "      <td>904</td>\n",
       "      <td>595</td>\n",
       "      <td>7.35</td>\n",
       "      <td>6.42</td>\n",
       "    </tr>\n",
       "  </tbody>\n",
       "</table>\n",
       "</div>"
      ],
      "text/plain": [
       "   event_action  total_events  unique_events  total_events_proportion  \\\n",
       "0   price_first          8572           6676                    69.68   \n",
       "1  price_second          2826           1995                    22.97   \n",
       "2   price_third           904            595                     7.35   \n",
       "\n",
       "   unique_events_proportion  \n",
       "0                     72.05  \n",
       "1                     21.53  \n",
       "2                      6.42  "
      ]
     },
     "execution_count": 48,
     "metadata": {},
     "output_type": "execute_result"
    }
   ],
   "source": [
    "prices_events_df"
   ]
  },
  {
   "cell_type": "markdown",
   "id": "05fd9bf2",
   "metadata": {},
   "source": [
    "**Вывод**"
   ]
  },
  {
   "cell_type": "markdown",
   "id": "8628550d",
   "metadata": {},
   "source": [
    "Результаты вполне ожидаемы: чаще всего люди используют первый фильтр по цене, отбирая предложения дешевле, за ним идёт второй и третий. Это справедливо и для total_events и для unique_events"
   ]
  },
  {
   "cell_type": "markdown",
   "id": "c37dbc9b",
   "metadata": {},
   "source": [
    "График:"
   ]
  },
  {
   "cell_type": "code",
   "execution_count": 49,
   "id": "aa2903e2",
   "metadata": {},
   "outputs": [
    {
     "data": {
      "text/plain": [
       "Text(0.5, 1.0, 'Фильтр цены')"
      ]
     },
     "execution_count": 49,
     "metadata": {},
     "output_type": "execute_result"
    },
    {
     "data": {
      "image/png": "[encoded data removed]",
      "text/plain": [
       "<Figure size 1584x504 with 1 Axes>"
      ]
     },
     "metadata": {},
     "output_type": "display_data"
    }
   ],
   "source": [
    "prices_events_df[['event_action','total_events', 'unique_events']].plot.bar(x ='event_action')\n",
    "plt.xlabel('')\n",
    "plt.title('Фильтр цены')"
   ]
  },
  {
   "cell_type": "markdown",
   "id": "c71bc5a7",
   "metadata": {},
   "source": [
    "**Как часто люди фильтруют по ценам? по датам?**"
   ]
  },
  {
   "cell_type": "markdown",
   "id": "ce19ccda",
   "metadata": {},
   "source": [
    "Для ответа на вопрос фильтрации по ценам есть ранее сформированный датасет"
   ]
  },
  {
   "cell_type": "code",
   "execution_count": 50,
   "id": "fd7142b2",
   "metadata": {},
   "outputs": [
    {
     "data": {
      "text/html": [
       "<div>\n",
       "<style scoped>\n",
       "    .dataframe tbody tr th:only-of-type {\n",
       "        vertical-align: middle;\n",
       "    }\n",
       "\n",
       "    .dataframe tbody tr th {\n",
       "        vertical-align: top;\n",
       "    }\n",
       "\n",
       "    .dataframe thead th {\n",
       "        text-align: right;\n",
       "    }\n",
       "</style>\n",
       "<table border=\"1\" class=\"dataframe\">\n",
       "  <thead>\n",
       "    <tr style=\"text-align: right;\">\n",
       "      <th></th>\n",
       "      <th>event_action</th>\n",
       "      <th>total_events</th>\n",
       "      <th>unique_events</th>\n",
       "      <th>total_events_proportion</th>\n",
       "      <th>unique_events_proportion</th>\n",
       "    </tr>\n",
       "  </thead>\n",
       "  <tbody>\n",
       "    <tr>\n",
       "      <th>0</th>\n",
       "      <td>price_first</td>\n",
       "      <td>8572</td>\n",
       "      <td>6676</td>\n",
       "      <td>69.68</td>\n",
       "      <td>72.05</td>\n",
       "    </tr>\n",
       "    <tr>\n",
       "      <th>1</th>\n",
       "      <td>price_second</td>\n",
       "      <td>2826</td>\n",
       "      <td>1995</td>\n",
       "      <td>22.97</td>\n",
       "      <td>21.53</td>\n",
       "    </tr>\n",
       "    <tr>\n",
       "      <th>2</th>\n",
       "      <td>price_third</td>\n",
       "      <td>904</td>\n",
       "      <td>595</td>\n",
       "      <td>7.35</td>\n",
       "      <td>6.42</td>\n",
       "    </tr>\n",
       "  </tbody>\n",
       "</table>\n",
       "</div>"
      ],
      "text/plain": [
       "   event_action  total_events  unique_events  total_events_proportion  \\\n",
       "0   price_first          8572           6676                    69.68   \n",
       "1  price_second          2826           1995                    22.97   \n",
       "2   price_third           904            595                     7.35   \n",
       "\n",
       "   unique_events_proportion  \n",
       "0                     72.05  \n",
       "1                     21.53  \n",
       "2                      6.42  "
      ]
     },
     "execution_count": 50,
     "metadata": {},
     "output_type": "execute_result"
    }
   ],
   "source": [
    "prices_events_df"
   ]
  },
  {
   "cell_type": "code",
   "execution_count": 84,
   "id": "a2918fc5",
   "metadata": {},
   "outputs": [
    {
     "name": "stdout",
     "output_type": "stream",
     "text": [
      "всего событий =  12302\n"
     ]
    }
   ],
   "source": [
    "print('всего событий = ', prices_events_df.total_events.sum())"
   ]
  },
  {
   "cell_type": "code",
   "execution_count": 85,
   "id": "636cd2d5",
   "metadata": {},
   "outputs": [
    {
     "name": "stdout",
     "output_type": "stream",
     "text": [
      "всего уникальных событий =  9266\n"
     ]
    }
   ],
   "source": [
    "print('всего уникальных событий = ', prices_events_df.unique_events.sum())"
   ]
  },
  {
   "cell_type": "markdown",
   "id": "fbd627fb",
   "metadata": {},
   "source": [
    "Для оценки фильтрации по датам в документации есть два три event_action - start_date_click and end_date_click , dates_filter_mobile - дополнительные кнопки со значениями сегодня-завтра."
   ]
  },
  {
   "cell_type": "code",
   "execution_count": 69,
   "id": "5937fba6",
   "metadata": {},
   "outputs": [],
   "source": [
    "df_date_filter = df_events.query('event_action == \"start_date_click\" | event_action == \"end_date_click\" | event_action == \"dates_filter_mobile\"').groupby('event_action', as_index = False) \\\n",
    "    .agg({'total_events' :'sum', 'unique_events': 'sum'})"
   ]
  },
  {
   "cell_type": "code",
   "execution_count": 70,
   "id": "cab243a8",
   "metadata": {},
   "outputs": [],
   "source": [
    "df_date_filter['total_events_proportion'] = round(df_date_filter.total_events / df_date_filter.total_events.sum() *100, 2)"
   ]
  },
  {
   "cell_type": "code",
   "execution_count": 71,
   "id": "9f909612",
   "metadata": {},
   "outputs": [],
   "source": [
    "df_date_filter['unique_events_proportion'] = round(df_date_filter.unique_events / df_date_filter.unique_events.sum() *100, 2)"
   ]
  },
  {
   "cell_type": "code",
   "execution_count": 72,
   "id": "862b95e1",
   "metadata": {},
   "outputs": [
    {
     "data": {
      "text/html": [
       "<div>\n",
       "<style scoped>\n",
       "    .dataframe tbody tr th:only-of-type {\n",
       "        vertical-align: middle;\n",
       "    }\n",
       "\n",
       "    .dataframe tbody tr th {\n",
       "        vertical-align: top;\n",
       "    }\n",
       "\n",
       "    .dataframe thead th {\n",
       "        text-align: right;\n",
       "    }\n",
       "</style>\n",
       "<table border=\"1\" class=\"dataframe\">\n",
       "  <thead>\n",
       "    <tr style=\"text-align: right;\">\n",
       "      <th></th>\n",
       "      <th>event_action</th>\n",
       "      <th>total_events</th>\n",
       "      <th>unique_events</th>\n",
       "      <th>total_events_proportion</th>\n",
       "      <th>unique_events_proportion</th>\n",
       "    </tr>\n",
       "  </thead>\n",
       "  <tbody>\n",
       "    <tr>\n",
       "      <th>0</th>\n",
       "      <td>dates_filter_mobile</td>\n",
       "      <td>13038</td>\n",
       "      <td>10272</td>\n",
       "      <td>27.38</td>\n",
       "      <td>28.13</td>\n",
       "    </tr>\n",
       "    <tr>\n",
       "      <th>1</th>\n",
       "      <td>end_date_click</td>\n",
       "      <td>14638</td>\n",
       "      <td>11738</td>\n",
       "      <td>30.74</td>\n",
       "      <td>32.15</td>\n",
       "    </tr>\n",
       "    <tr>\n",
       "      <th>2</th>\n",
       "      <td>start_date_click</td>\n",
       "      <td>19939</td>\n",
       "      <td>14501</td>\n",
       "      <td>41.88</td>\n",
       "      <td>39.72</td>\n",
       "    </tr>\n",
       "  </tbody>\n",
       "</table>\n",
       "</div>"
      ],
      "text/plain": [
       "          event_action  total_events  unique_events  total_events_proportion  \\\n",
       "0  dates_filter_mobile         13038          10272                    27.38   \n",
       "1       end_date_click         14638          11738                    30.74   \n",
       "2     start_date_click         19939          14501                    41.88   \n",
       "\n",
       "   unique_events_proportion  \n",
       "0                     28.13  \n",
       "1                     32.15  \n",
       "2                     39.72  "
      ]
     },
     "execution_count": 72,
     "metadata": {},
     "output_type": "execute_result"
    }
   ],
   "source": [
    "df_date_filter "
   ]
  },
  {
   "cell_type": "markdown",
   "id": "6d16f448",
   "metadata": {},
   "source": [
    "**Вывод**\n"
   ]
  },
  {
   "cell_type": "markdown",
   "id": "f4488621",
   "metadata": {},
   "source": [
    "Для цен: чаще всего люди используют первый фильтр по цене, отбирая предложения дешевле, за ним идёт второй и третий. Это справедливо и для total_events и для unique_events\n",
    "\n",
    "Для даты: фильтрами даты пользуются чаще, чем фильтрами цены. Число поставивших первую дату больше, чем число поставивших вторую дату(завершения).Это может быть связано как с оттоком пользователей, так и с особенностями интерфейса: например, первая дата уже проставлена, потому остаётся лишь добавить вторую.\n",
    "Также интересно, что много людей пользуется кнопками сегодня/завтра,их число практически не уступает числу, пользующихся фильтрами даты."
   ]
  },
  {
   "cell_type": "code",
   "execution_count": 73,
   "id": "01ebc8df",
   "metadata": {},
   "outputs": [
    {
     "data": {
      "text/plain": [
       "Text(0.5, 1.0, 'Фильтры дат')"
      ]
     },
     "execution_count": 73,
     "metadata": {},
     "output_type": "execute_result"
    },
    {
     "data": {
      "image/png": "[encoded data removed]",
      "text/plain": [
       "<Figure size 1584x504 with 1 Axes>"
      ]
     },
     "metadata": {},
     "output_type": "display_data"
    }
   ],
   "source": [
    "df_date_filter [['event_action','total_events', 'unique_events']].plot.bar(x ='event_action')\n",
    "plt.xlabel('')\n",
    "plt.title('Фильтры дат')"
   ]
  },
  {
   "cell_type": "markdown",
   "id": "d3486d64",
   "metadata": {},
   "source": [
    "**Какие фильтры лишние, невостребованные?**"
   ]
  },
  {
   "cell_type": "markdown",
   "id": "c42d9639",
   "metadata": {},
   "source": [
    "Интересный вопрос! Из заданий ранее вспомнилось только два элемента с наименьшим количеством кликов - это третья категория цены(большие цены) и сортировка."
   ]
  },
  {
   "cell_type": "code",
   "execution_count": 75,
   "id": "13267008",
   "metadata": {},
   "outputs": [
    {
     "data": {
      "text/html": [
       "<div>\n",
       "<style scoped>\n",
       "    .dataframe tbody tr th:only-of-type {\n",
       "        vertical-align: middle;\n",
       "    }\n",
       "\n",
       "    .dataframe tbody tr th {\n",
       "        vertical-align: top;\n",
       "    }\n",
       "\n",
       "    .dataframe thead th {\n",
       "        text-align: right;\n",
       "    }\n",
       "</style>\n",
       "<table border=\"1\" class=\"dataframe\">\n",
       "  <thead>\n",
       "    <tr style=\"text-align: right;\">\n",
       "      <th></th>\n",
       "      <th>label_value</th>\n",
       "      <th>unique_events</th>\n",
       "    </tr>\n",
       "  </thead>\n",
       "  <tbody>\n",
       "    <tr>\n",
       "      <th>0</th>\n",
       "      <td>Категории</td>\n",
       "      <td>9329</td>\n",
       "    </tr>\n",
       "    <tr>\n",
       "      <th>1</th>\n",
       "      <td>Сортировка</td>\n",
       "      <td>7556</td>\n",
       "    </tr>\n",
       "    <tr>\n",
       "      <th>2</th>\n",
       "      <td>Фильтры</td>\n",
       "      <td>17188</td>\n",
       "    </tr>\n",
       "  </tbody>\n",
       "</table>\n",
       "</div>"
      ],
      "text/plain": [
       "  label_value  unique_events\n",
       "0   Категории           9329\n",
       "1  Сортировка           7556\n",
       "2     Фильтры          17188"
      ]
     },
     "execution_count": 75,
     "metadata": {},
     "output_type": "execute_result"
    }
   ],
   "source": [
    "df_filters_types.groupby('label_value', as_index = False).agg({'unique_events': 'sum'})"
   ]
  },
  {
   "cell_type": "code",
   "execution_count": 76,
   "id": "77ea1d8e",
   "metadata": {},
   "outputs": [
    {
     "data": {
      "text/html": [
       "<div>\n",
       "<style scoped>\n",
       "    .dataframe tbody tr th:only-of-type {\n",
       "        vertical-align: middle;\n",
       "    }\n",
       "\n",
       "    .dataframe tbody tr th {\n",
       "        vertical-align: top;\n",
       "    }\n",
       "\n",
       "    .dataframe thead th {\n",
       "        text-align: right;\n",
       "    }\n",
       "</style>\n",
       "<table border=\"1\" class=\"dataframe\">\n",
       "  <thead>\n",
       "    <tr style=\"text-align: right;\">\n",
       "      <th></th>\n",
       "      <th>event_action</th>\n",
       "      <th>total_events</th>\n",
       "      <th>unique_events</th>\n",
       "      <th>total_events_proportion</th>\n",
       "      <th>unique_events_proportion</th>\n",
       "    </tr>\n",
       "  </thead>\n",
       "  <tbody>\n",
       "    <tr>\n",
       "      <th>0</th>\n",
       "      <td>price_first</td>\n",
       "      <td>8572</td>\n",
       "      <td>6676</td>\n",
       "      <td>69.68</td>\n",
       "      <td>72.05</td>\n",
       "    </tr>\n",
       "    <tr>\n",
       "      <th>1</th>\n",
       "      <td>price_second</td>\n",
       "      <td>2826</td>\n",
       "      <td>1995</td>\n",
       "      <td>22.97</td>\n",
       "      <td>21.53</td>\n",
       "    </tr>\n",
       "    <tr>\n",
       "      <th>2</th>\n",
       "      <td>price_third</td>\n",
       "      <td>904</td>\n",
       "      <td>595</td>\n",
       "      <td>7.35</td>\n",
       "      <td>6.42</td>\n",
       "    </tr>\n",
       "  </tbody>\n",
       "</table>\n",
       "</div>"
      ],
      "text/plain": [
       "   event_action  total_events  unique_events  total_events_proportion  \\\n",
       "0   price_first          8572           6676                    69.68   \n",
       "1  price_second          2826           1995                    22.97   \n",
       "2   price_third           904            595                     7.35   \n",
       "\n",
       "   unique_events_proportion  \n",
       "0                     72.05  \n",
       "1                     21.53  \n",
       "2                      6.42  "
      ]
     },
     "execution_count": 76,
     "metadata": {},
     "output_type": "execute_result"
    }
   ],
   "source": [
    "prices_events_df "
   ]
  },
  {
   "cell_type": "markdown",
   "id": "eb5d6ced",
   "metadata": {},
   "source": [
    "Тем не менее, не осмелюсь назвать лишними ни то, ни другое: сортировка всё равно важный элементлюбого интерфейса. Другое дело, что ей ставят активно значение по умолчанию \"популярное\", которое к некоторой степени вмещает в себя и доступную цену(популярное значит, что и доступное для многих людей).\n",
    "С третьим чекбоксом цены то же самое - учитывая то, какой может быть средний чек пользователей, которые выбирают самые дорогие экскурсии, признать его просто лишним нельзя."
   ]
  },
  {
   "cell_type": "markdown",
   "id": "45753210",
   "metadata": {},
   "source": [
    "В документации есть ранее неупомянутые в заданиях pay-type_checkbox- оплата наличными и ticket-type_checkbox - тип экскурсии(индивидуальная, группа). Можно посмотреть их, хотя я сразу могу сказать, что сомневаюсь, что тип группы может быть невостребованным"
   ]
  },
  {
   "cell_type": "code",
   "execution_count": 78,
   "id": "c15e75ac",
   "metadata": {},
   "outputs": [
    {
     "data": {
      "text/html": [
       "<div>\n",
       "<style scoped>\n",
       "    .dataframe tbody tr th:only-of-type {\n",
       "        vertical-align: middle;\n",
       "    }\n",
       "\n",
       "    .dataframe tbody tr th {\n",
       "        vertical-align: top;\n",
       "    }\n",
       "\n",
       "    .dataframe thead th {\n",
       "        text-align: right;\n",
       "    }\n",
       "</style>\n",
       "<table border=\"1\" class=\"dataframe\">\n",
       "  <thead>\n",
       "    <tr style=\"text-align: right;\">\n",
       "      <th></th>\n",
       "      <th>event_action</th>\n",
       "      <th>total_events</th>\n",
       "      <th>unique_events</th>\n",
       "    </tr>\n",
       "  </thead>\n",
       "  <tbody>\n",
       "    <tr>\n",
       "      <th>0</th>\n",
       "      <td>pay-type_checkbox</td>\n",
       "      <td>7321</td>\n",
       "      <td>5465</td>\n",
       "    </tr>\n",
       "    <tr>\n",
       "      <th>1</th>\n",
       "      <td>ticket-type_checkbox</td>\n",
       "      <td>22882</td>\n",
       "      <td>17918</td>\n",
       "    </tr>\n",
       "  </tbody>\n",
       "</table>\n",
       "</div>"
      ],
      "text/plain": [
       "           event_action  total_events  unique_events\n",
       "0     pay-type_checkbox          7321           5465\n",
       "1  ticket-type_checkbox         22882          17918"
      ]
     },
     "execution_count": 78,
     "metadata": {},
     "output_type": "execute_result"
    }
   ],
   "source": [
    "df_events.query('event_action == \"pay-type_checkbox\" | event_action == \"ticket-type_checkbox\"').groupby('event_action', as_index = False) \\\n",
    "    .agg({'total_events' :'sum', 'unique_events': 'sum'})"
   ]
  },
  {
   "cell_type": "markdown",
   "id": "9b48ff49",
   "metadata": {},
   "source": [
    "Как видим, ticket-type_checkbox как раз очень популярен, а вот оплата наличными... Учитывая то, что 5456 - это точно максимальное число уникальных пльзователей, кликнувших на этот фильтр, он кажется лишним. Например, у той же сортировки, как я уже описывала, может быть подходящее исходное значения для пользователя, потому на неё не жмут часто - и так удобно. С оплатой наличными такого нет."
   ]
  },
  {
   "cell_type": "markdown",
   "id": "d1d24103",
   "metadata": {},
   "source": [
    "**Вывод** \n",
    "\n",
    "Так что если ставить вопрос о лишних фильтрах, то **оплата наличными может являться лишним фильтром**"
   ]
  }
 ],
 "metadata": {
  "kernelspec": {
   "display_name": "Python 3",
   "language": "python",
   "name": "python3"
  },
  "language_info": {
   "codemirror_mode": {
    "name": "ipython",
    "version": 3
   },
   "file_extension": ".py",
   "mimetype": "text/x-python",
   "name": "python",
   "nbconvert_exporter": "python",
   "pygments_lexer": "ipython3",
   "version": "3.8.8"
  }
 },
 "nbformat": 4,
 "nbformat_minor": 5
}
