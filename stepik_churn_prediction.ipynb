{
 "cells": [
  {
   "cell_type": "markdown",
   "id": "d0ee2c4d",
   "metadata": {},
   "source": [
    "# Задача: построить модель, которая за первые 3 дня позволит предсказать, дропнется ли пользователь с курса\n",
    "\n",
    "### Информация о данных\n",
    "\n",
    "Два датасета представляют из себя информацию о пользователях-студентах курса статистики за 3 года на Степик. \n",
    "- data_events содержит информацию о дате и типе действия юзера \n",
    "- data_submissions -информацию о пользователе, дате сабмита и и значении сабмита: true/ false\n",
    "\n",
    "## Этапы работы\n",
    "\n",
    "\n",
    "- #### Общий обзор данных, первичная предподготовка\n",
    "- #### Разметка данных\n",
    "    ##### Target переменная: получил ли сертификат (certificated)\n",
    "        - Курс считается законченным, если пользователь набрал больше 170 баллов\n",
    "    \n",
    "    ##### Вспомогательная переменная для того, чтобы не включать  \"Юзеров \"в пути\" из тренировочного датасета (churn_out)\n",
    "\n",
    "        - Эта переменная позволяет отделить юзеров, которые ещё проходят курс, от юзеров, которые уже забросили курс. \"Юзеры \" в пути\" не нужны в тренировочном датасете. Churn_out вычислялась через среднее время перерывов для каждого успешно прошедшего юзера, конкретно был взят квантиль 0.95, который оказался равен 43 дням. Если юзер не заходит больше 43 дней, он считается ушедшим\n",
    "   ##### Сам тренировочный датасет состоял из переменных:\n",
    "     - correct - количество правильно решённых практических заданий\n",
    "     - wrong - количество неверно решённых практических заданий\n",
    "     - discovered - количество открытых разделов\t\n",
    "     - passed -\tколичество пройденных степов\n",
    "     - started_attempt - количество первых попыток решить задачу\n",
    "     - viewed - количество просмотренных степов\n",
    "     *Все переменные были отобраны за 3 первых дня на курсе\n",
    "- #### Прогнозирование\n",
    "        - Desicion Tree. Первая обзорная модель, позволяющая оценить важность данных \n",
    "        - Random Forest. Второй метод, было построено две модели: одна с со всеми отобранными train фичами и вторая без части фич, показавшихся избыточными после desicion tree: started_attempt, discovered, viewed.\n",
    "        - logit. Модель с единственной НП - correct.\n",
    "- ### Результат   \n",
    "Как оказалось, train датасет получился очень простым с точки зрения важности фич - самой важной оказалась фича correct, отражающая количество правильно выполненных заданий. Из-за этого основные показатели: accuracy, precion, recall, и ROC оказались практически одинаковыми для всех вариантов моделей(accuracy=0.99 для тренировочных и тестовых выборок, ROC = 1). **Тем не менее, самый большой ROC score продемонстрировал Random Forest cо всеми фичами train датасета - ROC score на степике составил 0.799**. Второй rf без фич started_attempt, discovered, viewed и Logit показали меньший ROC score. \n",
    "\n",
    "Так что для предсказания успеха пользователей стоит выбрать именно random forest!"
   ]
  },
  {
   "cell_type": "markdown",
   "id": "1cc815b6",
   "metadata": {},
   "source": [
    "## Общий обзор данных, первичная предподготовка"
   ]
  },
  {
   "cell_type": "code",
   "execution_count": 1,
   "id": "10d34926",
   "metadata": {},
   "outputs": [],
   "source": [
    "import pandas as pd\n",
    "import numpy as np\n",
    "\n",
    "import matplotlib.pyplot as plt\n",
    "import seaborn as sns\n",
    "\n",
    "\n",
    "from sklearn.tree import DecisionTreeClassifier\n",
    "from sklearn.model_selection import train_test_split\n",
    "from sklearn import tree\n",
    "from sklearn.model_selection import GridSearchCV\n",
    "from sklearn.model_selection import RandomizedSearchCV\n",
    "from sklearn.metrics import confusion_matrix\n",
    "from sklearn.metrics import plot_confusion_matrix\n",
    "from sklearn.metrics import classification_report\n",
    "from sklearn.metrics import plot_roc_curve\n",
    "from sklearn.ensemble import RandomForestClassifier\n",
    "\n",
    "from sklearn.linear_model import LogisticRegressionCV\n",
    "import statsmodels.api as sm \n",
    "import statsmodels.formula.api as sf\n",
    "\n",
    "import math as m"
   ]
  },
  {
   "cell_type": "code",
   "execution_count": 2,
   "id": "53383d68",
   "metadata": {},
   "outputs": [],
   "source": [
    "#задаём стиль графикам\n",
    "sns.set (\n",
    "    font_scale =2,\n",
    "    style = 'whitegrid',\n",
    "    rc= {'figure.figsize': (30,7)}\n",
    ")"
   ]
  },
  {
   "cell_type": "code",
   "execution_count": 3,
   "id": "6d83e280",
   "metadata": {},
   "outputs": [],
   "source": [
    "event_data = pd.read_csv('C:/Users/cbata/stepik_ml_practice/Ml_project/event_data_train.csv')"
   ]
  },
  {
   "cell_type": "code",
   "execution_count": 4,
   "id": "c9d2c75b",
   "metadata": {},
   "outputs": [],
   "source": [
    "submissions_data = pd.read_csv('C:/Users/cbata/stepik_ml_practice/Ml_project/submissions_data_train.csv')"
   ]
  },
  {
   "cell_type": "markdown",
   "id": "042c7326",
   "metadata": {},
   "source": [
    "## Общий обзор данных:"
   ]
  },
  {
   "cell_type": "markdown",
   "id": "6fe812cf",
   "metadata": {},
   "source": [
    "Далее я просто посмотрю содержимое, нет ли ошибок, пропусков"
   ]
  },
  {
   "cell_type": "code",
   "execution_count": 5,
   "id": "94b927bb",
   "metadata": {},
   "outputs": [
    {
     "data": {
      "text/html": [
       "<div>\n",
       "<style scoped>\n",
       "    .dataframe tbody tr th:only-of-type {\n",
       "        vertical-align: middle;\n",
       "    }\n",
       "\n",
       "    .dataframe tbody tr th {\n",
       "        vertical-align: top;\n",
       "    }\n",
       "\n",
       "    .dataframe thead th {\n",
       "        text-align: right;\n",
       "    }\n",
       "</style>\n",
       "<table border=\"1\" class=\"dataframe\">\n",
       "  <thead>\n",
       "    <tr style=\"text-align: right;\">\n",
       "      <th></th>\n",
       "      <th>step_id</th>\n",
       "      <th>timestamp</th>\n",
       "      <th>action</th>\n",
       "      <th>user_id</th>\n",
       "    </tr>\n",
       "  </thead>\n",
       "  <tbody>\n",
       "    <tr>\n",
       "      <th>0</th>\n",
       "      <td>32815</td>\n",
       "      <td>1434340848</td>\n",
       "      <td>viewed</td>\n",
       "      <td>17632</td>\n",
       "    </tr>\n",
       "    <tr>\n",
       "      <th>1</th>\n",
       "      <td>32815</td>\n",
       "      <td>1434340848</td>\n",
       "      <td>passed</td>\n",
       "      <td>17632</td>\n",
       "    </tr>\n",
       "    <tr>\n",
       "      <th>2</th>\n",
       "      <td>32815</td>\n",
       "      <td>1434340848</td>\n",
       "      <td>discovered</td>\n",
       "      <td>17632</td>\n",
       "    </tr>\n",
       "  </tbody>\n",
       "</table>\n",
       "</div>"
      ],
      "text/plain": [
       "   step_id   timestamp      action  user_id\n",
       "0    32815  1434340848      viewed    17632\n",
       "1    32815  1434340848      passed    17632\n",
       "2    32815  1434340848  discovered    17632"
      ]
     },
     "execution_count": 5,
     "metadata": {},
     "output_type": "execute_result"
    }
   ],
   "source": [
    "event_data.head(3)"
   ]
  },
  {
   "cell_type": "code",
   "execution_count": 6,
   "id": "ee2d4082",
   "metadata": {},
   "outputs": [
    {
     "data": {
      "text/html": [
       "<div>\n",
       "<style scoped>\n",
       "    .dataframe tbody tr th:only-of-type {\n",
       "        vertical-align: middle;\n",
       "    }\n",
       "\n",
       "    .dataframe tbody tr th {\n",
       "        vertical-align: top;\n",
       "    }\n",
       "\n",
       "    .dataframe thead th {\n",
       "        text-align: right;\n",
       "    }\n",
       "</style>\n",
       "<table border=\"1\" class=\"dataframe\">\n",
       "  <thead>\n",
       "    <tr style=\"text-align: right;\">\n",
       "      <th></th>\n",
       "      <th>step_id</th>\n",
       "      <th>timestamp</th>\n",
       "      <th>submission_status</th>\n",
       "      <th>user_id</th>\n",
       "    </tr>\n",
       "  </thead>\n",
       "  <tbody>\n",
       "    <tr>\n",
       "      <th>0</th>\n",
       "      <td>31971</td>\n",
       "      <td>1434349275</td>\n",
       "      <td>correct</td>\n",
       "      <td>15853</td>\n",
       "    </tr>\n",
       "    <tr>\n",
       "      <th>1</th>\n",
       "      <td>31972</td>\n",
       "      <td>1434348300</td>\n",
       "      <td>correct</td>\n",
       "      <td>15853</td>\n",
       "    </tr>\n",
       "    <tr>\n",
       "      <th>2</th>\n",
       "      <td>31972</td>\n",
       "      <td>1478852149</td>\n",
       "      <td>wrong</td>\n",
       "      <td>15853</td>\n",
       "    </tr>\n",
       "  </tbody>\n",
       "</table>\n",
       "</div>"
      ],
      "text/plain": [
       "   step_id   timestamp submission_status  user_id\n",
       "0    31971  1434349275           correct    15853\n",
       "1    31972  1434348300           correct    15853\n",
       "2    31972  1478852149             wrong    15853"
      ]
     },
     "execution_count": 6,
     "metadata": {},
     "output_type": "execute_result"
    }
   ],
   "source": [
    "submissions_data.head(3)"
   ]
  },
  {
   "cell_type": "code",
   "execution_count": 7,
   "id": "6be2aac7",
   "metadata": {},
   "outputs": [
    {
     "name": "stdout",
     "output_type": "stream",
     "text": [
      "event_data \n",
      "\n",
      "shape \n",
      " (3480703, 4) \n",
      "\n",
      "Типы колонок \n",
      " step_id       int64\n",
      "timestamp     int64\n",
      "action       object\n",
      "user_id       int64\n",
      "dtype: object \n",
      "\n",
      "Количество NAN \n",
      " step_id      0\n",
      "timestamp    0\n",
      "action       0\n",
      "user_id      0\n",
      "dtype: int64\n"
     ]
    }
   ],
   "source": [
    "print('event_data \\n')\n",
    "print('shape \\n', event_data.shape, '\\n')\n",
    "print('Типы колонок \\n', event_data.dtypes, '\\n')\n",
    "print('Количество NAN \\n',event_data.isna().sum())"
   ]
  },
  {
   "cell_type": "code",
   "execution_count": 8,
   "id": "69c97d8c",
   "metadata": {},
   "outputs": [
    {
     "name": "stdout",
     "output_type": "stream",
     "text": [
      "submissions_data \n",
      "\n",
      "shape \n",
      " (509104, 4) \n",
      "\n",
      "Типы колонок \n",
      " step_id               int64\n",
      "timestamp             int64\n",
      "submission_status    object\n",
      "user_id               int64\n",
      "dtype: object \n",
      "\n",
      "Количество NAN \n",
      " step_id              0\n",
      "timestamp            0\n",
      "submission_status    0\n",
      "user_id              0\n",
      "dtype: int64\n"
     ]
    }
   ],
   "source": [
    "print('submissions_data \\n')\n",
    "print('shape \\n', submissions_data.shape, '\\n')\n",
    "print('Типы колонок \\n', submissions_data.dtypes, '\\n')\n",
    "print('Количество NAN \\n',submissions_data.isna().sum())"
   ]
  },
  {
   "cell_type": "markdown",
   "id": "f4118728",
   "metadata": {},
   "source": [
    "Одна из главных колонок - действие, которой совершил студент. Какие действия доступны?"
   ]
  },
  {
   "cell_type": "code",
   "execution_count": 9,
   "id": "0d960d4a",
   "metadata": {},
   "outputs": [
    {
     "data": {
      "text/plain": [
       "array(['viewed', 'passed', 'discovered', 'started_attempt'], dtype=object)"
      ]
     },
     "execution_count": 9,
     "metadata": {},
     "output_type": "execute_result"
    }
   ],
   "source": [
    "event_data.action.unique()"
   ]
  },
  {
   "cell_type": "code",
   "execution_count": 10,
   "id": "831a6d2a",
   "metadata": {},
   "outputs": [
    {
     "data": {
      "text/plain": [
       "198"
      ]
     },
     "execution_count": 10,
     "metadata": {},
     "output_type": "execute_result"
    }
   ],
   "source": [
    "event_data.step_id.nunique()"
   ]
  },
  {
   "cell_type": "code",
   "execution_count": 11,
   "id": "1f686a0b",
   "metadata": {},
   "outputs": [
    {
     "data": {
      "text/plain": [
       "76"
      ]
     },
     "execution_count": 11,
     "metadata": {},
     "output_type": "execute_result"
    }
   ],
   "source": [
    "submissions_data.step_id.nunique()"
   ]
  },
  {
   "cell_type": "markdown",
   "id": "ea55ea01",
   "metadata": {},
   "source": [
    "В данных есть timestamp, но это не очень удобно. Добавлю новую колонку - дату, чтобы было удобнее."
   ]
  },
  {
   "cell_type": "code",
   "execution_count": 12,
   "id": "bec2409a",
   "metadata": {},
   "outputs": [],
   "source": [
    "event_data['date'] = pd.to_datetime(event_data.timestamp, unit = 's').dt.date\n",
    "submissions_data['date'] = pd.to_datetime(submissions_data.timestamp, unit = 's').dt.date"
   ]
  },
  {
   "cell_type": "code",
   "execution_count": 13,
   "id": "13a36d0a",
   "metadata": {},
   "outputs": [
    {
     "data": {
      "text/html": [
       "<div>\n",
       "<style scoped>\n",
       "    .dataframe tbody tr th:only-of-type {\n",
       "        vertical-align: middle;\n",
       "    }\n",
       "\n",
       "    .dataframe tbody tr th {\n",
       "        vertical-align: top;\n",
       "    }\n",
       "\n",
       "    .dataframe thead th {\n",
       "        text-align: right;\n",
       "    }\n",
       "</style>\n",
       "<table border=\"1\" class=\"dataframe\">\n",
       "  <thead>\n",
       "    <tr style=\"text-align: right;\">\n",
       "      <th></th>\n",
       "      <th>step_id</th>\n",
       "      <th>timestamp</th>\n",
       "      <th>action</th>\n",
       "      <th>user_id</th>\n",
       "      <th>date</th>\n",
       "    </tr>\n",
       "  </thead>\n",
       "  <tbody>\n",
       "    <tr>\n",
       "      <th>0</th>\n",
       "      <td>32815</td>\n",
       "      <td>1434340848</td>\n",
       "      <td>viewed</td>\n",
       "      <td>17632</td>\n",
       "      <td>2015-06-15</td>\n",
       "    </tr>\n",
       "  </tbody>\n",
       "</table>\n",
       "</div>"
      ],
      "text/plain": [
       "   step_id   timestamp  action  user_id        date\n",
       "0    32815  1434340848  viewed    17632  2015-06-15"
      ]
     },
     "execution_count": 13,
     "metadata": {},
     "output_type": "execute_result"
    }
   ],
   "source": [
    "event_data.head(1)"
   ]
  },
  {
   "cell_type": "code",
   "execution_count": 14,
   "id": "d996ae63",
   "metadata": {},
   "outputs": [
    {
     "data": {
      "text/html": [
       "<div>\n",
       "<style scoped>\n",
       "    .dataframe tbody tr th:only-of-type {\n",
       "        vertical-align: middle;\n",
       "    }\n",
       "\n",
       "    .dataframe tbody tr th {\n",
       "        vertical-align: top;\n",
       "    }\n",
       "\n",
       "    .dataframe thead th {\n",
       "        text-align: right;\n",
       "    }\n",
       "</style>\n",
       "<table border=\"1\" class=\"dataframe\">\n",
       "  <thead>\n",
       "    <tr style=\"text-align: right;\">\n",
       "      <th></th>\n",
       "      <th>step_id</th>\n",
       "      <th>timestamp</th>\n",
       "      <th>submission_status</th>\n",
       "      <th>user_id</th>\n",
       "      <th>date</th>\n",
       "    </tr>\n",
       "  </thead>\n",
       "  <tbody>\n",
       "    <tr>\n",
       "      <th>0</th>\n",
       "      <td>31971</td>\n",
       "      <td>1434349275</td>\n",
       "      <td>correct</td>\n",
       "      <td>15853</td>\n",
       "      <td>2015-06-15</td>\n",
       "    </tr>\n",
       "  </tbody>\n",
       "</table>\n",
       "</div>"
      ],
      "text/plain": [
       "   step_id   timestamp submission_status  user_id        date\n",
       "0    31971  1434349275           correct    15853  2015-06-15"
      ]
     },
     "execution_count": 14,
     "metadata": {},
     "output_type": "execute_result"
    }
   ],
   "source": [
    "submissions_data.head(1)"
   ]
  },
  {
   "cell_type": "markdown",
   "id": "bd5f6c30",
   "metadata": {},
   "source": [
    "Какие временные рамки датасетов?"
   ]
  },
  {
   "cell_type": "code",
   "execution_count": 147,
   "id": "544c5473",
   "metadata": {},
   "outputs": [
    {
     "name": "stdout",
     "output_type": "stream",
     "text": [
      "event_data  2015-06-15 - 2018-05-19\n"
     ]
    }
   ],
   "source": [
    "print('event_data ', event_data.date.min(), '-',event_data.date.max() )"
   ]
  },
  {
   "cell_type": "code",
   "execution_count": 148,
   "id": "32d3441e",
   "metadata": {},
   "outputs": [
    {
     "name": "stdout",
     "output_type": "stream",
     "text": [
      "submissions_data  2015-06-15 - 2018-05-19\n"
     ]
    }
   ],
   "source": [
    "print('submissions_data ',submissions_data.date.min(), '-',submissions_data.date.max() )"
   ]
  },
  {
   "cell_type": "markdown",
   "id": "63bdff89",
   "metadata": {},
   "source": [
    "Одинаково ли количество юзеров в обоих датасетах?"
   ]
  },
  {
   "cell_type": "code",
   "execution_count": 17,
   "id": "5465dcf4",
   "metadata": {
    "scrolled": false
   },
   "outputs": [
    {
     "data": {
      "text/plain": [
       "9940"
      ]
     },
     "execution_count": 17,
     "metadata": {},
     "output_type": "execute_result"
    }
   ],
   "source": [
    "submissions_data.user_id.nunique() "
   ]
  },
  {
   "cell_type": "code",
   "execution_count": 18,
   "id": "010c76b2",
   "metadata": {
    "scrolled": false
   },
   "outputs": [
    {
     "data": {
      "text/plain": [
       "19234"
      ]
     },
     "execution_count": 18,
     "metadata": {},
     "output_type": "execute_result"
    }
   ],
   "source": [
    "event_data.user_id.nunique() "
   ]
  },
  {
   "cell_type": "markdown",
   "id": "0f30dd12",
   "metadata": {},
   "source": [
    "Как мы видим, пользователей, которые просто зашли на курс, почти в 2 раза больше тех, кто что-то решал, что не противоречиво"
   ]
  },
  {
   "cell_type": "markdown",
   "id": "e5fdc4fb",
   "metadata": {},
   "source": [
    "Имеет смысл посмотреть самые общие вещи: распределение уникальных пользователей по дням, сколько действий совершил каждый студент, каково распределение баллов, сколько человек закончили курс. Курс считается законченным, если пользователь набрал больше 170 баллов"
   ]
  },
  {
   "cell_type": "code",
   "execution_count": 19,
   "id": "86d6caef",
   "metadata": {},
   "outputs": [
    {
     "data": {
      "text/plain": [
       "Text(0.5, 1.0, 'Распределение уникальных пользователей по дням')"
      ]
     },
     "execution_count": 19,
     "metadata": {},
     "output_type": "execute_result"
    },
    {
     "data": {
      "image/png": "[encoded data removed]",
      "text/plain": [
       "<Figure size 2160x504 with 1 Axes>"
      ]
     },
     "metadata": {},
     "output_type": "display_data"
    }
   ],
   "source": [
    "event_data.groupby('date').user_id.nunique().plot()\n",
    "plt.title('Распределение уникальных пользователей по дням')"
   ]
  },
  {
   "cell_type": "markdown",
   "id": "1337d2a4",
   "metadata": {},
   "source": [
    "В момент запуска курс был достаточно популярен, но за 3 месяца количество уникальных пользователей снизилось с 700 до приблизительно 50. Тем не менее, спустя 2 года интерес к курсу начал расти, и в среднем заходить на курс стали по 100 человек в день "
   ]
  },
  {
   "cell_type": "markdown",
   "id": "933ca164",
   "metadata": {},
   "source": [
    "Сколько действий совершил каждый студент? Каково распределение баллов? Сколько человек закончили курс? "
   ]
  },
  {
   "cell_type": "code",
   "execution_count": 20,
   "id": "947249d2",
   "metadata": {},
   "outputs": [],
   "source": [
    "action_count_by_user = event_data \\\n",
    "    .pivot_table(index='user_id', columns = 'action', values = 'step_id' ,aggfunc= 'count', fill_value = 0).reset_index()"
   ]
  },
  {
   "cell_type": "code",
   "execution_count": 21,
   "id": "885e15fc",
   "metadata": {},
   "outputs": [
    {
     "data": {
      "text/html": [
       "<div>\n",
       "<style scoped>\n",
       "    .dataframe tbody tr th:only-of-type {\n",
       "        vertical-align: middle;\n",
       "    }\n",
       "\n",
       "    .dataframe tbody tr th {\n",
       "        vertical-align: top;\n",
       "    }\n",
       "\n",
       "    .dataframe thead th {\n",
       "        text-align: right;\n",
       "    }\n",
       "</style>\n",
       "<table border=\"1\" class=\"dataframe\">\n",
       "  <thead>\n",
       "    <tr style=\"text-align: right;\">\n",
       "      <th>action</th>\n",
       "      <th>user_id</th>\n",
       "      <th>discovered</th>\n",
       "      <th>passed</th>\n",
       "      <th>started_attempt</th>\n",
       "      <th>viewed</th>\n",
       "    </tr>\n",
       "  </thead>\n",
       "  <tbody>\n",
       "    <tr>\n",
       "      <th>0</th>\n",
       "      <td>1</td>\n",
       "      <td>1</td>\n",
       "      <td>0</td>\n",
       "      <td>0</td>\n",
       "      <td>1</td>\n",
       "    </tr>\n",
       "    <tr>\n",
       "      <th>1</th>\n",
       "      <td>2</td>\n",
       "      <td>9</td>\n",
       "      <td>9</td>\n",
       "      <td>2</td>\n",
       "      <td>10</td>\n",
       "    </tr>\n",
       "    <tr>\n",
       "      <th>2</th>\n",
       "      <td>3</td>\n",
       "      <td>91</td>\n",
       "      <td>87</td>\n",
       "      <td>30</td>\n",
       "      <td>192</td>\n",
       "    </tr>\n",
       "  </tbody>\n",
       "</table>\n",
       "</div>"
      ],
      "text/plain": [
       "action  user_id  discovered  passed  started_attempt  viewed\n",
       "0             1           1       0                0       1\n",
       "1             2           9       9                2      10\n",
       "2             3          91      87               30     192"
      ]
     },
     "execution_count": 21,
     "metadata": {},
     "output_type": "execute_result"
    }
   ],
   "source": [
    "action_count_by_user.head(3)"
   ]
  },
  {
   "cell_type": "code",
   "execution_count": 22,
   "id": "5d991896",
   "metadata": {},
   "outputs": [
    {
     "data": {
      "text/plain": [
       "Text(0.5, 1.0, 'Распределение баллов')"
      ]
     },
     "execution_count": 22,
     "metadata": {},
     "output_type": "execute_result"
    },
    {
     "data": {
      "image/png": "[encoded data removed]",
      "text/plain": [
       "<Figure size 2160x504 with 1 Axes>"
      ]
     },
     "metadata": {},
     "output_type": "display_data"
    }
   ],
   "source": [
    "action_count_by_user.passed.hist(bins = 60)\n",
    "plt.title('Распределение баллов')"
   ]
  },
  {
   "cell_type": "markdown",
   "id": "9b7cbb5a",
   "metadata": {},
   "source": [
    "Как видно на графике, весьма небольшая доля пользователей прошла курс: практически все отвалились буквально после первых десяти заданий. Подробнее лучше посмотреть через describe:"
   ]
  },
  {
   "cell_type": "code",
   "execution_count": 23,
   "id": "01655ef0",
   "metadata": {
    "scrolled": true
   },
   "outputs": [
    {
     "data": {
      "text/plain": [
       "count    19234.000000\n",
       "mean        33.811532\n",
       "std         54.932368\n",
       "min          0.000000\n",
       "25%          1.000000\n",
       "50%          8.000000\n",
       "75%         39.000000\n",
       "max        198.000000\n",
       "Name: passed, dtype: float64"
      ]
     },
     "execution_count": 23,
     "metadata": {},
     "output_type": "execute_result"
    }
   ],
   "source": [
    "action_count_by_user.passed.describe()"
   ]
  },
  {
   "cell_type": "markdown",
   "id": "d035f15f",
   "metadata": {},
   "source": [
    "Медиана -  всего 8 баллов, 75% пользователей набрали меньше 38, а четверь - меньше одного балла!"
   ]
  },
  {
   "cell_type": "markdown",
   "id": "f86bba5a",
   "metadata": {},
   "source": [
    "Сколько студентов в итоге закончили курс?"
   ]
  },
  {
   "cell_type": "code",
   "execution_count": 24,
   "id": "f55a6d0f",
   "metadata": {},
   "outputs": [
    {
     "data": {
      "text/plain": [
       "1425"
      ]
     },
     "execution_count": 24,
     "metadata": {},
     "output_type": "execute_result"
    }
   ],
   "source": [
    "action_count_by_user.query('passed > 170').shape[0]"
   ]
  },
  {
   "cell_type": "markdown",
   "id": "73c776d0",
   "metadata": {},
   "source": [
    "А в процентах?"
   ]
  },
  {
   "cell_type": "code",
   "execution_count": 25,
   "id": "3b101da3",
   "metadata": {},
   "outputs": [
    {
     "data": {
      "text/plain": [
       "7"
      ]
     },
     "execution_count": 25,
     "metadata": {},
     "output_type": "execute_result"
    }
   ],
   "source": [
    "round(action_count_by_user.query('passed > 170').shape[0] / action_count_by_user.shape[0] *100 )"
   ]
  },
  {
   "cell_type": "markdown",
   "id": "a6ccf785",
   "metadata": {},
   "source": [
    "Итак, мы видимо, что всего 7% студентов прошли курс до конца. Этот датафрейм пригодится далее, потому введём колонку certificated "
   ]
  },
  {
   "cell_type": "code",
   "execution_count": 26,
   "id": "f85f40e9",
   "metadata": {},
   "outputs": [],
   "source": [
    "action_count_by_user['certificated'] = np.where(action_count_by_user.passed > 170, 1,0)"
   ]
  },
  {
   "cell_type": "markdown",
   "id": "32fcc55e",
   "metadata": {},
   "source": [
    "Проверяю:"
   ]
  },
  {
   "cell_type": "code",
   "execution_count": 27,
   "id": "b23c2139",
   "metadata": {},
   "outputs": [
    {
     "data": {
      "text/plain": [
       "1425"
      ]
     },
     "execution_count": 27,
     "metadata": {},
     "output_type": "execute_result"
    }
   ],
   "source": [
    "action_count_by_user.certificated.sum()"
   ]
  },
  {
   "cell_type": "markdown",
   "id": "2333d58b",
   "metadata": {},
   "source": [
    "## Разметка данных"
   ]
  },
  {
   "cell_type": "markdown",
   "id": "44bfecfb",
   "metadata": {},
   "source": [
    "Так как мы хотим предсказывать пользователей, которые дропнули курс, также стоит обратить внимание на временные промежутки в решении задач пользователями. Через какое время следует считать пользователя ушедшим? Имеет смысл посчитать промежутки в датах между действиями пользователя, чтобы выявить некий средний показатель. Я решила, что целесообразно будет посчитать его в днях. Тем не менее, для дальнейших вычислений мне понадобится именно timestamp"
   ]
  },
  {
   "cell_type": "code",
   "execution_count": 28,
   "id": "8bb88b77",
   "metadata": {},
   "outputs": [],
   "source": [
    "user_gaps = event_data[['user_id','date', 'timestamp']] \\\n",
    "    .drop_duplicates(subset = ['user_id','date']).sort_values(by = ['user_id','date']) \\\n",
    "    .groupby('user_id')['timestamp'].apply(list).apply(np.diff).to_frame().reset_index()  #перевожу таймстапп в список, чтобы применить diff"
   ]
  },
  {
   "cell_type": "code",
   "execution_count": 29,
   "id": "ec358226",
   "metadata": {},
   "outputs": [
    {
     "data": {
      "text/html": [
       "<div>\n",
       "<style scoped>\n",
       "    .dataframe tbody tr th:only-of-type {\n",
       "        vertical-align: middle;\n",
       "    }\n",
       "\n",
       "    .dataframe tbody tr th {\n",
       "        vertical-align: top;\n",
       "    }\n",
       "\n",
       "    .dataframe thead th {\n",
       "        text-align: right;\n",
       "    }\n",
       "</style>\n",
       "<table border=\"1\" class=\"dataframe\">\n",
       "  <thead>\n",
       "    <tr style=\"text-align: right;\">\n",
       "      <th></th>\n",
       "      <th>user_id</th>\n",
       "      <th>timestamp</th>\n",
       "    </tr>\n",
       "  </thead>\n",
       "  <tbody>\n",
       "    <tr>\n",
       "      <th>0</th>\n",
       "      <td>1</td>\n",
       "      <td>[]</td>\n",
       "    </tr>\n",
       "    <tr>\n",
       "      <th>1</th>\n",
       "      <td>2</td>\n",
       "      <td>[4843602]</td>\n",
       "    </tr>\n",
       "    <tr>\n",
       "      <th>2</th>\n",
       "      <td>3</td>\n",
       "      <td>[6899249, 182484, 93710, 2768870, 171400, 78712]</td>\n",
       "    </tr>\n",
       "  </tbody>\n",
       "</table>\n",
       "</div>"
      ],
      "text/plain": [
       "   user_id                                         timestamp\n",
       "0        1                                                []\n",
       "1        2                                         [4843602]\n",
       "2        3  [6899249, 182484, 93710, 2768870, 171400, 78712]"
      ]
     },
     "execution_count": 29,
     "metadata": {},
     "output_type": "execute_result"
    }
   ],
   "source": [
    "user_gaps.head(3)"
   ]
  },
  {
   "cell_type": "markdown",
   "id": "eca12820",
   "metadata": {},
   "source": [
    "Теперь нужно вычислить среднее время перерыва для пользователя"
   ]
  },
  {
   "cell_type": "code",
   "execution_count": 30,
   "id": "cc48d05b",
   "metadata": {},
   "outputs": [],
   "source": [
    "user_gaps= user_gaps.explode('timestamp') "
   ]
  },
  {
   "cell_type": "code",
   "execution_count": 31,
   "id": "526add30",
   "metadata": {},
   "outputs": [],
   "source": [
    "user_gaps.timestamp = user_gaps.timestamp.astype(float) "
   ]
  },
  {
   "cell_type": "markdown",
   "id": "a2629ac5",
   "metadata": {},
   "source": [
    "Убираю пустые значения, так как они в данном случае не информативны и мешают работать с данными дальше"
   ]
  },
  {
   "cell_type": "code",
   "execution_count": 32,
   "id": "dca48908",
   "metadata": {},
   "outputs": [],
   "source": [
    "user_gaps_nan_dropped = user_gaps.groupby('user_id', as_index = False).agg({'timestamp': 'mean'}).dropna() \\\n",
    "    .rename(columns= {'timestamp' : 'timestamp_gape'})"
   ]
  },
  {
   "cell_type": "markdown",
   "id": "ad536ca4",
   "metadata": {},
   "source": [
    "Из timestamp значений перевожу средний перерыв в дни:"
   ]
  },
  {
   "cell_type": "code",
   "execution_count": 33,
   "id": "20f4bf75",
   "metadata": {},
   "outputs": [],
   "source": [
    "user_gaps_nan_dropped['days_gape'] = user_gaps_nan_dropped.timestamp_gape /(60*60*24)"
   ]
  },
  {
   "cell_type": "code",
   "execution_count": 34,
   "id": "c7771693",
   "metadata": {},
   "outputs": [
    {
     "data": {
      "text/html": [
       "<div>\n",
       "<style scoped>\n",
       "    .dataframe tbody tr th:only-of-type {\n",
       "        vertical-align: middle;\n",
       "    }\n",
       "\n",
       "    .dataframe tbody tr th {\n",
       "        vertical-align: top;\n",
       "    }\n",
       "\n",
       "    .dataframe thead th {\n",
       "        text-align: right;\n",
       "    }\n",
       "</style>\n",
       "<table border=\"1\" class=\"dataframe\">\n",
       "  <thead>\n",
       "    <tr style=\"text-align: right;\">\n",
       "      <th></th>\n",
       "      <th>user_id</th>\n",
       "      <th>timestamp_gape</th>\n",
       "      <th>days_gape</th>\n",
       "    </tr>\n",
       "  </thead>\n",
       "  <tbody>\n",
       "    <tr>\n",
       "      <th>1</th>\n",
       "      <td>2</td>\n",
       "      <td>4.843602e+06</td>\n",
       "      <td>56.060208</td>\n",
       "    </tr>\n",
       "    <tr>\n",
       "      <th>2</th>\n",
       "      <td>3</td>\n",
       "      <td>1.699071e+06</td>\n",
       "      <td>19.665172</td>\n",
       "    </tr>\n",
       "    <tr>\n",
       "      <th>3</th>\n",
       "      <td>5</td>\n",
       "      <td>3.370281e+07</td>\n",
       "      <td>390.078843</td>\n",
       "    </tr>\n",
       "    <tr>\n",
       "      <th>5</th>\n",
       "      <td>8</td>\n",
       "      <td>8.634840e+05</td>\n",
       "      <td>9.994028</td>\n",
       "    </tr>\n",
       "    <tr>\n",
       "      <th>9</th>\n",
       "      <td>16</td>\n",
       "      <td>3.874390e+06</td>\n",
       "      <td>44.842474</td>\n",
       "    </tr>\n",
       "  </tbody>\n",
       "</table>\n",
       "</div>"
      ],
      "text/plain": [
       "   user_id  timestamp_gape   days_gape\n",
       "1        2    4.843602e+06   56.060208\n",
       "2        3    1.699071e+06   19.665172\n",
       "3        5    3.370281e+07  390.078843\n",
       "5        8    8.634840e+05    9.994028\n",
       "9       16    3.874390e+06   44.842474"
      ]
     },
     "execution_count": 34,
     "metadata": {},
     "output_type": "execute_result"
    }
   ],
   "source": [
    "user_gaps_nan_dropped.head()"
   ]
  },
  {
   "cell_type": "markdown",
   "id": "02e6b6f8",
   "metadata": {},
   "source": [
    "Хочу перепроверить себя и проверяю, есть ли days_gape <1, по идее такого быть не должно:"
   ]
  },
  {
   "cell_type": "code",
   "execution_count": 35,
   "id": "fed46e32",
   "metadata": {},
   "outputs": [
    {
     "data": {
      "text/plain": [
       "794"
      ]
     },
     "execution_count": 35,
     "metadata": {},
     "output_type": "execute_result"
    }
   ],
   "source": [
    "sum(user_gaps_nan_dropped.days_gape <1)"
   ]
  },
  {
   "cell_type": "markdown",
   "id": "ed4941ce",
   "metadata": {},
   "source": [
    "Это сбило меня с толку и я решила посмотреть, где закралась ошибка. Проблема вот в чём: дубликаты были дропнуты по дате, тогда как разница таймстамп значений может быть меньше 24 часов. Для того, чтобы наступил новый день, необязательно должно пройти 24 часа с предыдущего. Я решила, что в таком случае стоит округлить значения days_gape, чтобы минимальным значением стал 1 день"
   ]
  },
  {
   "cell_type": "code",
   "execution_count": 36,
   "id": "c965e887",
   "metadata": {},
   "outputs": [],
   "source": [
    "user_gaps_nan_dropped['days_gape'] = np.where(user_gaps_nan_dropped.days_gape <1,\n",
    "                                              np.ceil(user_gaps_nan_dropped.days_gape), round(user_gaps_nan_dropped.days_gape))"
   ]
  },
  {
   "cell_type": "code",
   "execution_count": 37,
   "id": "bc974368",
   "metadata": {},
   "outputs": [
    {
     "data": {
      "text/html": [
       "<div>\n",
       "<style scoped>\n",
       "    .dataframe tbody tr th:only-of-type {\n",
       "        vertical-align: middle;\n",
       "    }\n",
       "\n",
       "    .dataframe tbody tr th {\n",
       "        vertical-align: top;\n",
       "    }\n",
       "\n",
       "    .dataframe thead th {\n",
       "        text-align: right;\n",
       "    }\n",
       "</style>\n",
       "<table border=\"1\" class=\"dataframe\">\n",
       "  <thead>\n",
       "    <tr style=\"text-align: right;\">\n",
       "      <th></th>\n",
       "      <th>user_id</th>\n",
       "      <th>timestamp_gape</th>\n",
       "      <th>days_gape</th>\n",
       "    </tr>\n",
       "  </thead>\n",
       "  <tbody>\n",
       "    <tr>\n",
       "      <th>1</th>\n",
       "      <td>2</td>\n",
       "      <td>4.843602e+06</td>\n",
       "      <td>56.0</td>\n",
       "    </tr>\n",
       "    <tr>\n",
       "      <th>2</th>\n",
       "      <td>3</td>\n",
       "      <td>1.699071e+06</td>\n",
       "      <td>20.0</td>\n",
       "    </tr>\n",
       "    <tr>\n",
       "      <th>3</th>\n",
       "      <td>5</td>\n",
       "      <td>3.370281e+07</td>\n",
       "      <td>390.0</td>\n",
       "    </tr>\n",
       "  </tbody>\n",
       "</table>\n",
       "</div>"
      ],
      "text/plain": [
       "   user_id  timestamp_gape  days_gape\n",
       "1        2    4.843602e+06       56.0\n",
       "2        3    1.699071e+06       20.0\n",
       "3        5    3.370281e+07      390.0"
      ]
     },
     "execution_count": 37,
     "metadata": {},
     "output_type": "execute_result"
    }
   ],
   "source": [
    "user_gaps_nan_dropped.head(3)"
   ]
  },
  {
   "cell_type": "markdown",
   "id": "e66cec8a",
   "metadata": {},
   "source": [
    "Проверим снова, не осталось ли значений меньше одного дня:"
   ]
  },
  {
   "cell_type": "code",
   "execution_count": 38,
   "id": "7728e3cc",
   "metadata": {},
   "outputs": [
    {
     "data": {
      "text/plain": [
       "0"
      ]
     },
     "execution_count": 38,
     "metadata": {},
     "output_type": "execute_result"
    }
   ],
   "source": [
    "sum(round(user_gaps_nan_dropped.days_gape) <1)"
   ]
  },
  {
   "cell_type": "markdown",
   "id": "4c411511",
   "metadata": {},
   "source": [
    "Отлично, теперь можно посмотреть график распределения и квантили:"
   ]
  },
  {
   "cell_type": "code",
   "execution_count": 39,
   "id": "a1011ae7",
   "metadata": {},
   "outputs": [
    {
     "data": {
      "text/plain": [
       "Text(0.5, 1.0, 'Распределение перерывов между занятиями')"
      ]
     },
     "execution_count": 39,
     "metadata": {},
     "output_type": "execute_result"
    },
    {
     "data": {
      "image/png": "[encoded data removed]",
      "text/plain": [
       "<Figure size 2160x504 with 1 Axes>"
      ]
     },
     "metadata": {},
     "output_type": "display_data"
    }
   ],
   "source": [
    "user_gaps_nan_dropped.days_gape.hist(bins = 60)\n",
    "plt.title('Распределение перерывов между занятиями')"
   ]
  },
  {
   "cell_type": "markdown",
   "id": "d6a1c6fb",
   "metadata": {},
   "source": [
    "Из-за выбросов график не очень понятно отображает происходящее. Перейдём к квантилям:"
   ]
  },
  {
   "cell_type": "code",
   "execution_count": 40,
   "id": "f867be9e",
   "metadata": {
    "scrolled": false
   },
   "outputs": [
    {
     "data": {
      "text/plain": [
       "count    9526.000000\n",
       "mean       25.843376\n",
       "std        68.760587\n",
       "min         1.000000\n",
       "25%         2.000000\n",
       "50%         6.000000\n",
       "75%        20.000000\n",
       "max      1054.000000\n",
       "Name: days_gape, dtype: float64"
      ]
     },
     "execution_count": 40,
     "metadata": {},
     "output_type": "execute_result"
    }
   ],
   "source": [
    "user_gaps_nan_dropped.days_gape.describe()"
   ]
  },
  {
   "cell_type": "markdown",
   "id": "94baa2ea",
   "metadata": {},
   "source": [
    "Это общие данные по перерывам для всех пользователей. Медианное значение - 6 дней, максимальное - считай что 3 года, минимальное - 1 день.\n",
    "Так как у нас есть информация о юзерах, уже прошедших курс, следует ориентироваться на перерывы в занятиях именно этих юзеров, так как скорее всего это будет меньший промежуток времени"
   ]
  },
  {
   "cell_type": "code",
   "execution_count": 41,
   "id": "5c4b3ff9",
   "metadata": {},
   "outputs": [],
   "source": [
    "user_gaps_nan_dropped_certificated = user_gaps_nan_dropped \\\n",
    "    .merge(action_count_by_user[['certificated', 'user_id']], on = 'user_id')"
   ]
  },
  {
   "cell_type": "code",
   "execution_count": 42,
   "id": "0cb0bff2",
   "metadata": {},
   "outputs": [
    {
     "data": {
      "text/plain": [
       "Text(0.5, 1.0, 'Распределение перерывов между занятиями для прошедших и не прошедших курс')"
      ]
     },
     "execution_count": 42,
     "metadata": {},
     "output_type": "execute_result"
    },
    {
     "data": {
      "image/png": "[encoded data removed]",
      "text/plain": [
       "<Figure size 2160x504 with 1 Axes>"
      ]
     },
     "metadata": {},
     "output_type": "display_data"
    }
   ],
   "source": [
    "sns.histplot(user_gaps_nan_dropped_certificated.query('days_gape<50'), x ='days_gape', hue = 'certificated')\n",
    "plt.title('Распределение перерывов между занятиями для прошедших и не прошедших курс')"
   ]
  },
  {
   "cell_type": "markdown",
   "id": "d73518a3",
   "metadata": {},
   "source": [
    "Перерывы прошедших курс:"
   ]
  },
  {
   "cell_type": "code",
   "execution_count": 43,
   "id": "cee1870b",
   "metadata": {},
   "outputs": [
    {
     "data": {
      "text/plain": [
       "count    1424.000000\n",
       "mean       13.154494\n",
       "std        16.949929\n",
       "min         1.000000\n",
       "25%         3.000000\n",
       "50%         7.000000\n",
       "75%        17.250000\n",
       "max       223.000000\n",
       "Name: days_gape, dtype: float64"
      ]
     },
     "execution_count": 43,
     "metadata": {},
     "output_type": "execute_result"
    }
   ],
   "source": [
    "user_gaps_nan_dropped_certificated.query('certificated == 1').days_gape.describe()"
   ]
  },
  {
   "cell_type": "markdown",
   "id": "ce6479b1",
   "metadata": {},
   "source": [
    "Медианное значение - 7 дней, максимальное - считай что 223 дня(выброс), минимальное - 1 день"
   ]
  },
  {
   "cell_type": "code",
   "execution_count": 44,
   "id": "26e9a0d4",
   "metadata": {
    "scrolled": true
   },
   "outputs": [
    {
     "data": {
      "text/plain": [
       "Text(0.5, 1.0, 'Распределение перерывов между занятиями для прошедших курс')"
      ]
     },
     "execution_count": 44,
     "metadata": {},
     "output_type": "execute_result"
    },
    {
     "data": {
      "image/png": "[encoded data removed]",
      "text/plain": [
       "<Figure size 2160x504 with 1 Axes>"
      ]
     },
     "metadata": {},
     "output_type": "display_data"
    }
   ],
   "source": [
    "user_gaps_nan_dropped_certificated.query('certificated == 1').days_gape.hist()\n",
    "plt.title('Распределение перерывов между занятиями для прошедших курс')"
   ]
  },
  {
   "cell_type": "markdown",
   "id": "0b9c7ce7",
   "metadata": {},
   "source": [
    "По доброй традиции, будем ориентироваться на 95% процентов. "
   ]
  },
  {
   "cell_type": "code",
   "execution_count": 45,
   "id": "2d80d410",
   "metadata": {},
   "outputs": [],
   "source": [
    "drop_days = user_gaps_nan_dropped_certificated.query('certificated == 1').days_gape.quantile(q=0.95)"
   ]
  },
  {
   "cell_type": "code",
   "execution_count": 46,
   "id": "5698260e",
   "metadata": {},
   "outputs": [
    {
     "data": {
      "text/plain": [
       "43.0"
      ]
     },
     "execution_count": 46,
     "metadata": {},
     "output_type": "execute_result"
    }
   ],
   "source": [
    "drop_days"
   ]
  },
  {
   "cell_type": "code",
   "execution_count": 47,
   "id": "96286c66",
   "metadata": {},
   "outputs": [],
   "source": [
    "drop_time = drop_days * (60*60*24)"
   ]
  },
  {
   "cell_type": "code",
   "execution_count": 48,
   "id": "0f543b79",
   "metadata": {},
   "outputs": [
    {
     "data": {
      "text/plain": [
       "3715200.0"
      ]
     },
     "execution_count": 48,
     "metadata": {},
     "output_type": "execute_result"
    }
   ],
   "source": [
    "drop_time "
   ]
  },
  {
   "cell_type": "markdown",
   "id": "2eba6d04",
   "metadata": {},
   "source": [
    "Теперь мы стали ближе к разметке данных по признаку бросил пользователь курс/не бросил. Для того, чтобы пользователь считался ушедшим, условие будет следующим: \n",
    "- с последней даты посещения прошло более 43 дней(относительно последней даты в дф - 2018-05-19)\n",
    "- сертификат не получен. Для этого у нас уже есть датафрейм action_count_by_user "
   ]
  },
  {
   "cell_type": "markdown",
   "id": "46f6d9c9",
   "metadata": {},
   "source": [
    "Сначала вычислим, какие пользователи отсутсвуют слишком долго. Считаем таймстемп последнего дня, вычитаем последний таймстемп пользователя, смотрим, привышает ли разница допустимое значение отсутсвия"
   ]
  },
  {
   "cell_type": "code",
   "execution_count": 49,
   "id": "cc2baefc",
   "metadata": {},
   "outputs": [],
   "source": [
    "last_date = event_data.tail(1).timestamp.values[0] "
   ]
  },
  {
   "cell_type": "code",
   "execution_count": 50,
   "id": "dda4ef98",
   "metadata": {},
   "outputs": [
    {
     "data": {
      "text/plain": [
       "1526772811"
      ]
     },
     "execution_count": 50,
     "metadata": {},
     "output_type": "execute_result"
    }
   ],
   "source": [
    "last_date"
   ]
  },
  {
   "cell_type": "code",
   "execution_count": 51,
   "id": "aa15d1d0",
   "metadata": {},
   "outputs": [],
   "source": [
    "users_data = event_data.groupby('user_id', as_index= False).agg({'timestamp': 'max'}) \\\n",
    "    .rename(columns ={'timestamp' : 'last_timestamp'})"
   ]
  },
  {
   "cell_type": "code",
   "execution_count": 52,
   "id": "23bb704e",
   "metadata": {},
   "outputs": [
    {
     "data": {
      "text/html": [
       "<div>\n",
       "<style scoped>\n",
       "    .dataframe tbody tr th:only-of-type {\n",
       "        vertical-align: middle;\n",
       "    }\n",
       "\n",
       "    .dataframe tbody tr th {\n",
       "        vertical-align: top;\n",
       "    }\n",
       "\n",
       "    .dataframe thead th {\n",
       "        text-align: right;\n",
       "    }\n",
       "</style>\n",
       "<table border=\"1\" class=\"dataframe\">\n",
       "  <thead>\n",
       "    <tr style=\"text-align: right;\">\n",
       "      <th></th>\n",
       "      <th>user_id</th>\n",
       "      <th>last_timestamp</th>\n",
       "    </tr>\n",
       "  </thead>\n",
       "  <tbody>\n",
       "    <tr>\n",
       "      <th>0</th>\n",
       "      <td>1</td>\n",
       "      <td>1472827464</td>\n",
       "    </tr>\n",
       "    <tr>\n",
       "      <th>1</th>\n",
       "      <td>2</td>\n",
       "      <td>1519226966</td>\n",
       "    </tr>\n",
       "    <tr>\n",
       "      <th>2</th>\n",
       "      <td>3</td>\n",
       "      <td>1444581588</td>\n",
       "    </tr>\n",
       "  </tbody>\n",
       "</table>\n",
       "</div>"
      ],
      "text/plain": [
       "   user_id  last_timestamp\n",
       "0        1      1472827464\n",
       "1        2      1519226966\n",
       "2        3      1444581588"
      ]
     },
     "execution_count": 52,
     "metadata": {},
     "output_type": "execute_result"
    }
   ],
   "source": [
    "users_data.head(3)"
   ]
  },
  {
   "cell_type": "code",
   "execution_count": 53,
   "id": "6d07a324",
   "metadata": {},
   "outputs": [],
   "source": [
    "users_data['churn_out'] = (last_date - event_data.groupby('user_id', as_index= False) \\\n",
    "                           .agg({'timestamp': 'max'}).timestamp ) > drop_time"
   ]
  },
  {
   "cell_type": "code",
   "execution_count": 54,
   "id": "202db40a",
   "metadata": {},
   "outputs": [
    {
     "data": {
      "text/html": [
       "<div>\n",
       "<style scoped>\n",
       "    .dataframe tbody tr th:only-of-type {\n",
       "        vertical-align: middle;\n",
       "    }\n",
       "\n",
       "    .dataframe tbody tr th {\n",
       "        vertical-align: top;\n",
       "    }\n",
       "\n",
       "    .dataframe thead th {\n",
       "        text-align: right;\n",
       "    }\n",
       "</style>\n",
       "<table border=\"1\" class=\"dataframe\">\n",
       "  <thead>\n",
       "    <tr style=\"text-align: right;\">\n",
       "      <th></th>\n",
       "      <th>user_id</th>\n",
       "      <th>last_timestamp</th>\n",
       "      <th>churn_out</th>\n",
       "    </tr>\n",
       "  </thead>\n",
       "  <tbody>\n",
       "    <tr>\n",
       "      <th>0</th>\n",
       "      <td>1</td>\n",
       "      <td>1472827464</td>\n",
       "      <td>True</td>\n",
       "    </tr>\n",
       "    <tr>\n",
       "      <th>1</th>\n",
       "      <td>2</td>\n",
       "      <td>1519226966</td>\n",
       "      <td>True</td>\n",
       "    </tr>\n",
       "    <tr>\n",
       "      <th>2</th>\n",
       "      <td>3</td>\n",
       "      <td>1444581588</td>\n",
       "      <td>True</td>\n",
       "    </tr>\n",
       "  </tbody>\n",
       "</table>\n",
       "</div>"
      ],
      "text/plain": [
       "   user_id  last_timestamp  churn_out\n",
       "0        1      1472827464       True\n",
       "1        2      1519226966       True\n",
       "2        3      1444581588       True"
      ]
     },
     "execution_count": 54,
     "metadata": {},
     "output_type": "execute_result"
    }
   ],
   "source": [
    "users_data.head(3)"
   ]
  },
  {
   "cell_type": "markdown",
   "id": "abc078c5",
   "metadata": {},
   "source": [
    "Теперь у нас есть небольшой дф с информацией о таймстемпе последнего действия и факте слишком долгого отсутсвия. Нужно добавить информацию о том, прошёл пользователь курс или нет - этому соответсвует колонка certificated из action_count_by_user"
   ]
  },
  {
   "cell_type": "code",
   "execution_count": 55,
   "id": "8d6bf8b0",
   "metadata": {},
   "outputs": [],
   "source": [
    "users_data = users_data.merge(action_count_by_user[['certificated', 'user_id']], how = 'left')"
   ]
  },
  {
   "cell_type": "code",
   "execution_count": 56,
   "id": "2e00f746",
   "metadata": {},
   "outputs": [
    {
     "data": {
      "text/html": [
       "<div>\n",
       "<style scoped>\n",
       "    .dataframe tbody tr th:only-of-type {\n",
       "        vertical-align: middle;\n",
       "    }\n",
       "\n",
       "    .dataframe tbody tr th {\n",
       "        vertical-align: top;\n",
       "    }\n",
       "\n",
       "    .dataframe thead th {\n",
       "        text-align: right;\n",
       "    }\n",
       "</style>\n",
       "<table border=\"1\" class=\"dataframe\">\n",
       "  <thead>\n",
       "    <tr style=\"text-align: right;\">\n",
       "      <th></th>\n",
       "      <th>user_id</th>\n",
       "      <th>last_timestamp</th>\n",
       "      <th>churn_out</th>\n",
       "      <th>certificated</th>\n",
       "    </tr>\n",
       "  </thead>\n",
       "  <tbody>\n",
       "    <tr>\n",
       "      <th>0</th>\n",
       "      <td>1</td>\n",
       "      <td>1472827464</td>\n",
       "      <td>True</td>\n",
       "      <td>0</td>\n",
       "    </tr>\n",
       "    <tr>\n",
       "      <th>1</th>\n",
       "      <td>2</td>\n",
       "      <td>1519226966</td>\n",
       "      <td>True</td>\n",
       "      <td>0</td>\n",
       "    </tr>\n",
       "    <tr>\n",
       "      <th>2</th>\n",
       "      <td>3</td>\n",
       "      <td>1444581588</td>\n",
       "      <td>True</td>\n",
       "      <td>0</td>\n",
       "    </tr>\n",
       "  </tbody>\n",
       "</table>\n",
       "</div>"
      ],
      "text/plain": [
       "   user_id  last_timestamp  churn_out  certificated\n",
       "0        1      1472827464       True             0\n",
       "1        2      1519226966       True             0\n",
       "2        3      1444581588       True             0"
      ]
     },
     "execution_count": 56,
     "metadata": {},
     "output_type": "execute_result"
    }
   ],
   "source": [
    "users_data.head(3)"
   ]
  },
  {
   "cell_type": "markdown",
   "id": "1ee43d26",
   "metadata": {},
   "source": [
    "Уберём юзеров \" в  пути\" - они не сертифицированы, но и отсутсвуют недостаточно долго, чтобы считаться ушедшими"
   ]
  },
  {
   "cell_type": "code",
   "execution_count": 57,
   "id": "801165d4",
   "metadata": {},
   "outputs": [],
   "source": [
    "users_data_target = users_data.query('~(churn_out == False and certificated == 0)')"
   ]
  },
  {
   "cell_type": "code",
   "execution_count": 58,
   "id": "cf5376fd",
   "metadata": {},
   "outputs": [
    {
     "data": {
      "text/html": [
       "<div>\n",
       "<style scoped>\n",
       "    .dataframe tbody tr th:only-of-type {\n",
       "        vertical-align: middle;\n",
       "    }\n",
       "\n",
       "    .dataframe tbody tr th {\n",
       "        vertical-align: top;\n",
       "    }\n",
       "\n",
       "    .dataframe thead th {\n",
       "        text-align: right;\n",
       "    }\n",
       "</style>\n",
       "<table border=\"1\" class=\"dataframe\">\n",
       "  <thead>\n",
       "    <tr style=\"text-align: right;\">\n",
       "      <th></th>\n",
       "      <th>user_id</th>\n",
       "      <th>last_timestamp</th>\n",
       "      <th>churn_out</th>\n",
       "      <th>certificated</th>\n",
       "    </tr>\n",
       "  </thead>\n",
       "  <tbody>\n",
       "    <tr>\n",
       "      <th>0</th>\n",
       "      <td>1</td>\n",
       "      <td>1472827464</td>\n",
       "      <td>True</td>\n",
       "      <td>0</td>\n",
       "    </tr>\n",
       "    <tr>\n",
       "      <th>1</th>\n",
       "      <td>2</td>\n",
       "      <td>1519226966</td>\n",
       "      <td>True</td>\n",
       "      <td>0</td>\n",
       "    </tr>\n",
       "    <tr>\n",
       "      <th>2</th>\n",
       "      <td>3</td>\n",
       "      <td>1444581588</td>\n",
       "      <td>True</td>\n",
       "      <td>0</td>\n",
       "    </tr>\n",
       "  </tbody>\n",
       "</table>\n",
       "</div>"
      ],
      "text/plain": [
       "   user_id  last_timestamp  churn_out  certificated\n",
       "0        1      1472827464       True             0\n",
       "1        2      1519226966       True             0\n",
       "2        3      1444581588       True             0"
      ]
     },
     "execution_count": 58,
     "metadata": {},
     "output_type": "execute_result"
    }
   ],
   "source": [
    "users_data_target.head(3)"
   ]
  },
  {
   "cell_type": "markdown",
   "id": "f04fcab2",
   "metadata": {},
   "source": [
    "Проверка:"
   ]
  },
  {
   "cell_type": "code",
   "execution_count": 59,
   "id": "ce8056a5",
   "metadata": {
    "scrolled": true
   },
   "outputs": [
    {
     "data": {
      "text/html": [
       "<div>\n",
       "<style scoped>\n",
       "    .dataframe tbody tr th:only-of-type {\n",
       "        vertical-align: middle;\n",
       "    }\n",
       "\n",
       "    .dataframe tbody tr th {\n",
       "        vertical-align: top;\n",
       "    }\n",
       "\n",
       "    .dataframe thead th {\n",
       "        text-align: right;\n",
       "    }\n",
       "</style>\n",
       "<table border=\"1\" class=\"dataframe\">\n",
       "  <thead>\n",
       "    <tr style=\"text-align: right;\">\n",
       "      <th></th>\n",
       "      <th>user_id</th>\n",
       "      <th>last_timestamp</th>\n",
       "      <th>churn_out</th>\n",
       "      <th>certificated</th>\n",
       "    </tr>\n",
       "  </thead>\n",
       "  <tbody>\n",
       "  </tbody>\n",
       "</table>\n",
       "</div>"
      ],
      "text/plain": [
       "Empty DataFrame\n",
       "Columns: [user_id, last_timestamp, churn_out, certificated]\n",
       "Index: []"
      ]
     },
     "execution_count": 59,
     "metadata": {},
     "output_type": "execute_result"
    }
   ],
   "source": [
    "users_data_target.query('(churn_out == False and certificated == 0)')"
   ]
  },
  {
   "cell_type": "code",
   "execution_count": 60,
   "id": "c0531530",
   "metadata": {},
   "outputs": [
    {
     "data": {
      "text/plain": [
       "17633"
      ]
     },
     "execution_count": 60,
     "metadata": {},
     "output_type": "execute_result"
    }
   ],
   "source": [
    "users_data_target.user_id.nunique()"
   ]
  },
  {
   "cell_type": "markdown",
   "id": "0b7ad08e",
   "metadata": {},
   "source": [
    "Сколько юзеров в процессе прохождения?"
   ]
  },
  {
   "cell_type": "code",
   "execution_count": 61,
   "id": "980cb93e",
   "metadata": {},
   "outputs": [
    {
     "data": {
      "text/plain": [
       "0.09079566721488119"
      ]
     },
     "execution_count": 61,
     "metadata": {},
     "output_type": "execute_result"
    }
   ],
   "source": [
    "users_data.query('(churn_out == False and certificated == 0)').shape[0] / users_data_target.shape[0]"
   ]
  },
  {
   "cell_type": "markdown",
   "id": "8ef0abc9",
   "metadata": {},
   "source": [
    "#### Итак, первая часть предподготовки пройдена: у нас есть список пользователей, о которых нам точно известно, ушли они или прошли курс."
   ]
  },
  {
   "cell_type": "markdown",
   "id": "83e20169",
   "metadata": {},
   "source": [
    "Но для тренировочного датасета этого не хватает. Цель будущей модели - как можно быстрее определить, уйдёт юзер или пройдёт курс. Для этого нам нужно собрать датасет с разными свойствами пользователей за небольшой начальный период времени."
   ]
  },
  {
   "cell_type": "markdown",
   "id": "68bee0ca",
   "metadata": {},
   "source": [
    "Отберём записи за 3 дня и используем их в качестве train выборки"
   ]
  },
  {
   "cell_type": "code",
   "execution_count": 62,
   "id": "7927c724",
   "metadata": {},
   "outputs": [],
   "source": [
    "time_border = 3* 60*60*24"
   ]
  },
  {
   "cell_type": "code",
   "execution_count": 63,
   "id": "525ac94b",
   "metadata": {
    "scrolled": true
   },
   "outputs": [],
   "source": [
    "min_timestamp_df = event_data.groupby('user_id', as_index =False) \\\n",
    "    .agg({'timestamp': 'min'}) \\\n",
    "    .rename(columns = {'timestamp' :'min_timestamp'})"
   ]
  },
  {
   "cell_type": "code",
   "execution_count": 64,
   "id": "d176499b",
   "metadata": {},
   "outputs": [
    {
     "data": {
      "text/html": [
       "<div>\n",
       "<style scoped>\n",
       "    .dataframe tbody tr th:only-of-type {\n",
       "        vertical-align: middle;\n",
       "    }\n",
       "\n",
       "    .dataframe tbody tr th {\n",
       "        vertical-align: top;\n",
       "    }\n",
       "\n",
       "    .dataframe thead th {\n",
       "        text-align: right;\n",
       "    }\n",
       "</style>\n",
       "<table border=\"1\" class=\"dataframe\">\n",
       "  <thead>\n",
       "    <tr style=\"text-align: right;\">\n",
       "      <th></th>\n",
       "      <th>user_id</th>\n",
       "      <th>min_timestamp</th>\n",
       "    </tr>\n",
       "  </thead>\n",
       "  <tbody>\n",
       "    <tr>\n",
       "      <th>0</th>\n",
       "      <td>1</td>\n",
       "      <td>1472827464</td>\n",
       "    </tr>\n",
       "    <tr>\n",
       "      <th>1</th>\n",
       "      <td>2</td>\n",
       "      <td>1514383364</td>\n",
       "    </tr>\n",
       "    <tr>\n",
       "      <th>2</th>\n",
       "      <td>3</td>\n",
       "      <td>1434358476</td>\n",
       "    </tr>\n",
       "  </tbody>\n",
       "</table>\n",
       "</div>"
      ],
      "text/plain": [
       "   user_id  min_timestamp\n",
       "0        1     1472827464\n",
       "1        2     1514383364\n",
       "2        3     1434358476"
      ]
     },
     "execution_count": 64,
     "metadata": {},
     "output_type": "execute_result"
    }
   ],
   "source": [
    "min_timestamp_df.head(3)"
   ]
  },
  {
   "cell_type": "code",
   "execution_count": 65,
   "id": "268e4629",
   "metadata": {
    "scrolled": true
   },
   "outputs": [],
   "source": [
    "event_data = event_data.merge(min_timestamp_df, how = 'left')"
   ]
  },
  {
   "cell_type": "code",
   "execution_count": 66,
   "id": "76a5f128",
   "metadata": {},
   "outputs": [],
   "source": [
    "event_data['time_border_for_user'] = event_data.min_timestamp + time_border"
   ]
  },
  {
   "cell_type": "code",
   "execution_count": 67,
   "id": "b9cf4701",
   "metadata": {},
   "outputs": [],
   "source": [
    "event_data_train = event_data.query('timestamp < time_border_for_user')"
   ]
  },
  {
   "cell_type": "code",
   "execution_count": 68,
   "id": "6db5c9a1",
   "metadata": {},
   "outputs": [
    {
     "data": {
      "text/html": [
       "<div>\n",
       "<style scoped>\n",
       "    .dataframe tbody tr th:only-of-type {\n",
       "        vertical-align: middle;\n",
       "    }\n",
       "\n",
       "    .dataframe tbody tr th {\n",
       "        vertical-align: top;\n",
       "    }\n",
       "\n",
       "    .dataframe thead th {\n",
       "        text-align: right;\n",
       "    }\n",
       "</style>\n",
       "<table border=\"1\" class=\"dataframe\">\n",
       "  <thead>\n",
       "    <tr style=\"text-align: right;\">\n",
       "      <th></th>\n",
       "      <th>step_id</th>\n",
       "      <th>timestamp</th>\n",
       "      <th>action</th>\n",
       "      <th>user_id</th>\n",
       "      <th>date</th>\n",
       "      <th>min_timestamp</th>\n",
       "      <th>time_border_for_user</th>\n",
       "    </tr>\n",
       "  </thead>\n",
       "  <tbody>\n",
       "    <tr>\n",
       "      <th>0</th>\n",
       "      <td>32815</td>\n",
       "      <td>1434340848</td>\n",
       "      <td>viewed</td>\n",
       "      <td>17632</td>\n",
       "      <td>2015-06-15</td>\n",
       "      <td>1434340848</td>\n",
       "      <td>1434600048</td>\n",
       "    </tr>\n",
       "    <tr>\n",
       "      <th>1</th>\n",
       "      <td>32815</td>\n",
       "      <td>1434340848</td>\n",
       "      <td>passed</td>\n",
       "      <td>17632</td>\n",
       "      <td>2015-06-15</td>\n",
       "      <td>1434340848</td>\n",
       "      <td>1434600048</td>\n",
       "    </tr>\n",
       "    <tr>\n",
       "      <th>2</th>\n",
       "      <td>32815</td>\n",
       "      <td>1434340848</td>\n",
       "      <td>discovered</td>\n",
       "      <td>17632</td>\n",
       "      <td>2015-06-15</td>\n",
       "      <td>1434340848</td>\n",
       "      <td>1434600048</td>\n",
       "    </tr>\n",
       "  </tbody>\n",
       "</table>\n",
       "</div>"
      ],
      "text/plain": [
       "   step_id   timestamp      action  user_id        date  min_timestamp  \\\n",
       "0    32815  1434340848      viewed    17632  2015-06-15     1434340848   \n",
       "1    32815  1434340848      passed    17632  2015-06-15     1434340848   \n",
       "2    32815  1434340848  discovered    17632  2015-06-15     1434340848   \n",
       "\n",
       "   time_border_for_user  \n",
       "0            1434600048  \n",
       "1            1434600048  \n",
       "2            1434600048  "
      ]
     },
     "execution_count": 68,
     "metadata": {},
     "output_type": "execute_result"
    }
   ],
   "source": [
    "event_data_train.head(3)"
   ]
  },
  {
   "cell_type": "code",
   "execution_count": 69,
   "id": "862789cb",
   "metadata": {
    "scrolled": true
   },
   "outputs": [
    {
     "name": "stdout",
     "output_type": "stream",
     "text": [
      "shape  : (1014980, 7)\n",
      "user_id_unique  : 19234\n"
     ]
    }
   ],
   "source": [
    "print ('shape', ' :' , event_data_train.shape)\n",
    "print ('user_id_unique', ' :',  event_data_train.user_id.nunique())"
   ]
  },
  {
   "cell_type": "markdown",
   "id": "0a002006",
   "metadata": {},
   "source": [
    "Осталась только трети записей, все юзеры на месте"
   ]
  },
  {
   "cell_type": "markdown",
   "id": "bb79e957",
   "metadata": {},
   "source": [
    "То же самое проделываю для дф с сабмитами, они пригодятся для тренировочного датасета:"
   ]
  },
  {
   "cell_type": "code",
   "execution_count": 70,
   "id": "7ba440ff",
   "metadata": {},
   "outputs": [],
   "source": [
    "min_sub_timestamp = event_data.groupby('user_id', as_index =False) \\\n",
    "    .agg({'timestamp': 'min'}) \\\n",
    "    .rename(columns = {'timestamp' :'min_timestamp'})\n",
    "submissions_data = submissions_data.merge(min_sub_timestamp)\n",
    "submissions_data ['time_border_for_user'] = submissions_data.min_timestamp + time_border\n",
    "submissions_data_train = submissions_data.query('timestamp < time_border_for_user')"
   ]
  },
  {
   "cell_type": "code",
   "execution_count": 71,
   "id": "c4a153b1",
   "metadata": {},
   "outputs": [
    {
     "data": {
      "text/html": [
       "<div>\n",
       "<style scoped>\n",
       "    .dataframe tbody tr th:only-of-type {\n",
       "        vertical-align: middle;\n",
       "    }\n",
       "\n",
       "    .dataframe tbody tr th {\n",
       "        vertical-align: top;\n",
       "    }\n",
       "\n",
       "    .dataframe thead th {\n",
       "        text-align: right;\n",
       "    }\n",
       "</style>\n",
       "<table border=\"1\" class=\"dataframe\">\n",
       "  <thead>\n",
       "    <tr style=\"text-align: right;\">\n",
       "      <th></th>\n",
       "      <th>step_id</th>\n",
       "      <th>timestamp</th>\n",
       "      <th>submission_status</th>\n",
       "      <th>user_id</th>\n",
       "      <th>date</th>\n",
       "      <th>min_timestamp</th>\n",
       "      <th>time_border_for_user</th>\n",
       "    </tr>\n",
       "  </thead>\n",
       "  <tbody>\n",
       "    <tr>\n",
       "      <th>0</th>\n",
       "      <td>31971</td>\n",
       "      <td>1434349275</td>\n",
       "      <td>correct</td>\n",
       "      <td>15853</td>\n",
       "      <td>2015-06-15</td>\n",
       "      <td>1434345977</td>\n",
       "      <td>1434605177</td>\n",
       "    </tr>\n",
       "    <tr>\n",
       "      <th>1</th>\n",
       "      <td>31972</td>\n",
       "      <td>1434348300</td>\n",
       "      <td>correct</td>\n",
       "      <td>15853</td>\n",
       "      <td>2015-06-15</td>\n",
       "      <td>1434345977</td>\n",
       "      <td>1434605177</td>\n",
       "    </tr>\n",
       "    <tr>\n",
       "      <th>4</th>\n",
       "      <td>31976</td>\n",
       "      <td>1434348123</td>\n",
       "      <td>wrong</td>\n",
       "      <td>15853</td>\n",
       "      <td>2015-06-15</td>\n",
       "      <td>1434345977</td>\n",
       "      <td>1434605177</td>\n",
       "    </tr>\n",
       "  </tbody>\n",
       "</table>\n",
       "</div>"
      ],
      "text/plain": [
       "   step_id   timestamp submission_status  user_id        date  min_timestamp  \\\n",
       "0    31971  1434349275           correct    15853  2015-06-15     1434345977   \n",
       "1    31972  1434348300           correct    15853  2015-06-15     1434345977   \n",
       "4    31976  1434348123             wrong    15853  2015-06-15     1434345977   \n",
       "\n",
       "   time_border_for_user  \n",
       "0            1434605177  \n",
       "1            1434605177  \n",
       "4            1434605177  "
      ]
     },
     "execution_count": 71,
     "metadata": {},
     "output_type": "execute_result"
    }
   ],
   "source": [
    "submissions_data_train.head(3)"
   ]
  },
  {
   "cell_type": "markdown",
   "id": "74946d7d",
   "metadata": {},
   "source": [
    "Так как эти данные также нужны нам в посчитанном виде по correct и wrong, считаем, а после соединяем с event_data_train"
   ]
  },
  {
   "cell_type": "code",
   "execution_count": 72,
   "id": "4c4ac94d",
   "metadata": {},
   "outputs": [],
   "source": [
    "sub_counted = submissions_data \\\n",
    "    .pivot_table(index = 'user_id', columns = 'submission_status', values = 'step_id', aggfunc = 'count') \\\n",
    "    .reset_index().fillna(0)"
   ]
  },
  {
   "cell_type": "code",
   "execution_count": 73,
   "id": "22486842",
   "metadata": {},
   "outputs": [
    {
     "data": {
      "text/html": [
       "<div>\n",
       "<style scoped>\n",
       "    .dataframe tbody tr th:only-of-type {\n",
       "        vertical-align: middle;\n",
       "    }\n",
       "\n",
       "    .dataframe tbody tr th {\n",
       "        vertical-align: top;\n",
       "    }\n",
       "\n",
       "    .dataframe thead th {\n",
       "        text-align: right;\n",
       "    }\n",
       "</style>\n",
       "<table border=\"1\" class=\"dataframe\">\n",
       "  <thead>\n",
       "    <tr style=\"text-align: right;\">\n",
       "      <th>submission_status</th>\n",
       "      <th>user_id</th>\n",
       "      <th>correct</th>\n",
       "      <th>wrong</th>\n",
       "    </tr>\n",
       "  </thead>\n",
       "  <tbody>\n",
       "    <tr>\n",
       "      <th>0</th>\n",
       "      <td>2</td>\n",
       "      <td>2.0</td>\n",
       "      <td>0.0</td>\n",
       "    </tr>\n",
       "    <tr>\n",
       "      <th>1</th>\n",
       "      <td>3</td>\n",
       "      <td>29.0</td>\n",
       "      <td>23.0</td>\n",
       "    </tr>\n",
       "    <tr>\n",
       "      <th>2</th>\n",
       "      <td>5</td>\n",
       "      <td>2.0</td>\n",
       "      <td>2.0</td>\n",
       "    </tr>\n",
       "  </tbody>\n",
       "</table>\n",
       "</div>"
      ],
      "text/plain": [
       "submission_status  user_id  correct  wrong\n",
       "0                        2      2.0    0.0\n",
       "1                        3     29.0   23.0\n",
       "2                        5      2.0    2.0"
      ]
     },
     "execution_count": 73,
     "metadata": {},
     "output_type": "execute_result"
    }
   ],
   "source": [
    "sub_counted.head(3)"
   ]
  },
  {
   "cell_type": "code",
   "execution_count": 74,
   "id": "82decff4",
   "metadata": {},
   "outputs": [],
   "source": [
    "event_data_train = event_data_train.merge(sub_counted[['correct', 'wrong', 'user_id']], how= 'left', on = 'user_id' )"
   ]
  },
  {
   "cell_type": "code",
   "execution_count": 75,
   "id": "6cc92eac",
   "metadata": {},
   "outputs": [
    {
     "data": {
      "text/html": [
       "<div>\n",
       "<style scoped>\n",
       "    .dataframe tbody tr th:only-of-type {\n",
       "        vertical-align: middle;\n",
       "    }\n",
       "\n",
       "    .dataframe tbody tr th {\n",
       "        vertical-align: top;\n",
       "    }\n",
       "\n",
       "    .dataframe thead th {\n",
       "        text-align: right;\n",
       "    }\n",
       "</style>\n",
       "<table border=\"1\" class=\"dataframe\">\n",
       "  <thead>\n",
       "    <tr style=\"text-align: right;\">\n",
       "      <th></th>\n",
       "      <th>step_id</th>\n",
       "      <th>timestamp</th>\n",
       "      <th>action</th>\n",
       "      <th>user_id</th>\n",
       "      <th>date</th>\n",
       "      <th>min_timestamp</th>\n",
       "      <th>time_border_for_user</th>\n",
       "      <th>correct</th>\n",
       "      <th>wrong</th>\n",
       "    </tr>\n",
       "  </thead>\n",
       "  <tbody>\n",
       "    <tr>\n",
       "      <th>0</th>\n",
       "      <td>32815</td>\n",
       "      <td>1434340848</td>\n",
       "      <td>viewed</td>\n",
       "      <td>17632</td>\n",
       "      <td>2015-06-15</td>\n",
       "      <td>1434340848</td>\n",
       "      <td>1434600048</td>\n",
       "      <td>31.0</td>\n",
       "      <td>278.0</td>\n",
       "    </tr>\n",
       "    <tr>\n",
       "      <th>1</th>\n",
       "      <td>32815</td>\n",
       "      <td>1434340848</td>\n",
       "      <td>passed</td>\n",
       "      <td>17632</td>\n",
       "      <td>2015-06-15</td>\n",
       "      <td>1434340848</td>\n",
       "      <td>1434600048</td>\n",
       "      <td>31.0</td>\n",
       "      <td>278.0</td>\n",
       "    </tr>\n",
       "    <tr>\n",
       "      <th>2</th>\n",
       "      <td>32815</td>\n",
       "      <td>1434340848</td>\n",
       "      <td>discovered</td>\n",
       "      <td>17632</td>\n",
       "      <td>2015-06-15</td>\n",
       "      <td>1434340848</td>\n",
       "      <td>1434600048</td>\n",
       "      <td>31.0</td>\n",
       "      <td>278.0</td>\n",
       "    </tr>\n",
       "  </tbody>\n",
       "</table>\n",
       "</div>"
      ],
      "text/plain": [
       "   step_id   timestamp      action  user_id        date  min_timestamp  \\\n",
       "0    32815  1434340848      viewed    17632  2015-06-15     1434340848   \n",
       "1    32815  1434340848      passed    17632  2015-06-15     1434340848   \n",
       "2    32815  1434340848  discovered    17632  2015-06-15     1434340848   \n",
       "\n",
       "   time_border_for_user  correct  wrong  \n",
       "0            1434600048     31.0  278.0  \n",
       "1            1434600048     31.0  278.0  \n",
       "2            1434600048     31.0  278.0  "
      ]
     },
     "execution_count": 75,
     "metadata": {},
     "output_type": "execute_result"
    }
   ],
   "source": [
    "event_data_train.head(3)"
   ]
  },
  {
   "cell_type": "markdown",
   "id": "41300f0c",
   "metadata": {},
   "source": [
    "Проверка:"
   ]
  },
  {
   "cell_type": "code",
   "execution_count": 76,
   "id": "0bf8abcb",
   "metadata": {},
   "outputs": [
    {
     "name": "stdout",
     "output_type": "stream",
     "text": [
      "shape  : (1014980, 9)\n",
      "user_id_unique  : 19234\n"
     ]
    }
   ],
   "source": [
    "print ('shape', ' :' , event_data_train.shape)\n",
    "print ('user_id_unique', ' :',  event_data_train.user_id.nunique())"
   ]
  },
  {
   "cell_type": "markdown",
   "id": "c6e9500a",
   "metadata": {},
   "source": [
    "Теперь к тренировочному датасету нужно добавить ещё разного всякого: есть ли у юзера сертификат, дропнул ли он курс на текущий момент(если нет, то эти записи нужно убрать), так же не помешает сама разная информация о количестве правильных/неправильных сабмитов, а также конкретных действий вроде просмотра, решения и так далее. А ещё нужно оставить только пользователей, которые точно ушли или точно закончили курс."
   ]
  },
  {
   "cell_type": "markdown",
   "id": "37e52394",
   "metadata": {},
   "source": [
    "Присоединяю churn_out и certificated, оставляю только нужных пользователей:"
   ]
  },
  {
   "cell_type": "code",
   "execution_count": 77,
   "id": "ad07839a",
   "metadata": {},
   "outputs": [],
   "source": [
    "event_data_train = event_data_train \\\n",
    "    .merge(users_data_target[['churn_out', 'certificated', 'user_id']], how= 'right', on = 'user_id' )"
   ]
  },
  {
   "cell_type": "code",
   "execution_count": 78,
   "id": "72bcb37c",
   "metadata": {
    "scrolled": true
   },
   "outputs": [
    {
     "data": {
      "text/html": [
       "<div>\n",
       "<style scoped>\n",
       "    .dataframe tbody tr th:only-of-type {\n",
       "        vertical-align: middle;\n",
       "    }\n",
       "\n",
       "    .dataframe tbody tr th {\n",
       "        vertical-align: top;\n",
       "    }\n",
       "\n",
       "    .dataframe thead th {\n",
       "        text-align: right;\n",
       "    }\n",
       "</style>\n",
       "<table border=\"1\" class=\"dataframe\">\n",
       "  <thead>\n",
       "    <tr style=\"text-align: right;\">\n",
       "      <th></th>\n",
       "      <th>step_id</th>\n",
       "      <th>timestamp</th>\n",
       "      <th>action</th>\n",
       "      <th>user_id</th>\n",
       "      <th>date</th>\n",
       "      <th>min_timestamp</th>\n",
       "      <th>time_border_for_user</th>\n",
       "      <th>correct</th>\n",
       "      <th>wrong</th>\n",
       "      <th>churn_out</th>\n",
       "      <th>certificated</th>\n",
       "    </tr>\n",
       "  </thead>\n",
       "  <tbody>\n",
       "    <tr>\n",
       "      <th>0</th>\n",
       "      <td>31981</td>\n",
       "      <td>1472827464</td>\n",
       "      <td>viewed</td>\n",
       "      <td>1</td>\n",
       "      <td>2016-09-02</td>\n",
       "      <td>1472827464</td>\n",
       "      <td>1473086664</td>\n",
       "      <td>NaN</td>\n",
       "      <td>NaN</td>\n",
       "      <td>True</td>\n",
       "      <td>0</td>\n",
       "    </tr>\n",
       "    <tr>\n",
       "      <th>1</th>\n",
       "      <td>31981</td>\n",
       "      <td>1472827464</td>\n",
       "      <td>discovered</td>\n",
       "      <td>1</td>\n",
       "      <td>2016-09-02</td>\n",
       "      <td>1472827464</td>\n",
       "      <td>1473086664</td>\n",
       "      <td>NaN</td>\n",
       "      <td>NaN</td>\n",
       "      <td>True</td>\n",
       "      <td>0</td>\n",
       "    </tr>\n",
       "    <tr>\n",
       "      <th>2</th>\n",
       "      <td>32815</td>\n",
       "      <td>1514383364</td>\n",
       "      <td>discovered</td>\n",
       "      <td>2</td>\n",
       "      <td>2017-12-27</td>\n",
       "      <td>1514383364</td>\n",
       "      <td>1514642564</td>\n",
       "      <td>2.0</td>\n",
       "      <td>0.0</td>\n",
       "      <td>True</td>\n",
       "      <td>0</td>\n",
       "    </tr>\n",
       "  </tbody>\n",
       "</table>\n",
       "</div>"
      ],
      "text/plain": [
       "   step_id   timestamp      action  user_id        date  min_timestamp  \\\n",
       "0    31981  1472827464      viewed        1  2016-09-02     1472827464   \n",
       "1    31981  1472827464  discovered        1  2016-09-02     1472827464   \n",
       "2    32815  1514383364  discovered        2  2017-12-27     1514383364   \n",
       "\n",
       "   time_border_for_user  correct  wrong  churn_out  certificated  \n",
       "0            1473086664      NaN    NaN       True             0  \n",
       "1            1473086664      NaN    NaN       True             0  \n",
       "2            1514642564      2.0    0.0       True             0  "
      ]
     },
     "execution_count": 78,
     "metadata": {},
     "output_type": "execute_result"
    }
   ],
   "source": [
    "event_data_train.head(3)"
   ]
  },
  {
   "cell_type": "markdown",
   "id": "f2aa09ea",
   "metadata": {},
   "source": [
    "Проверка:"
   ]
  },
  {
   "cell_type": "code",
   "execution_count": 79,
   "id": "f7fc7c2c",
   "metadata": {
    "scrolled": false
   },
   "outputs": [
    {
     "data": {
      "text/plain": [
       "True"
      ]
     },
     "execution_count": 79,
     "metadata": {},
     "output_type": "execute_result"
    }
   ],
   "source": [
    "event_data_train.user_id.nunique() == users_data_target.user_id.nunique()"
   ]
  },
  {
   "cell_type": "code",
   "execution_count": 80,
   "id": "3406bb36",
   "metadata": {},
   "outputs": [
    {
     "name": "stdout",
     "output_type": "stream",
     "text": [
      "shape  : (918315, 11)\n",
      "user_id_unique  : 17633\n"
     ]
    }
   ],
   "source": [
    "print ('shape', ' :' , event_data_train.shape)\n",
    "print ('user_id_unique', ' :',  event_data_train.user_id.nunique())"
   ]
  },
  {
   "cell_type": "code",
   "execution_count": 81,
   "id": "81cb18a0",
   "metadata": {
    "scrolled": false
   },
   "outputs": [
    {
     "data": {
      "text/plain": [
       "0"
      ]
     },
     "execution_count": 81,
     "metadata": {},
     "output_type": "execute_result"
    }
   ],
   "source": [
    "event_data_train.timestamp.isna().sum()"
   ]
  },
  {
   "cell_type": "code",
   "execution_count": 82,
   "id": "01e214fc",
   "metadata": {},
   "outputs": [
    {
     "data": {
      "text/html": [
       "<div>\n",
       "<style scoped>\n",
       "    .dataframe tbody tr th:only-of-type {\n",
       "        vertical-align: middle;\n",
       "    }\n",
       "\n",
       "    .dataframe tbody tr th {\n",
       "        vertical-align: top;\n",
       "    }\n",
       "\n",
       "    .dataframe thead th {\n",
       "        text-align: right;\n",
       "    }\n",
       "</style>\n",
       "<table border=\"1\" class=\"dataframe\">\n",
       "  <thead>\n",
       "    <tr style=\"text-align: right;\">\n",
       "      <th></th>\n",
       "      <th>step_id</th>\n",
       "      <th>timestamp</th>\n",
       "      <th>action</th>\n",
       "      <th>user_id</th>\n",
       "      <th>date</th>\n",
       "      <th>min_timestamp</th>\n",
       "      <th>time_border_for_user</th>\n",
       "      <th>correct</th>\n",
       "      <th>wrong</th>\n",
       "      <th>churn_out</th>\n",
       "      <th>certificated</th>\n",
       "    </tr>\n",
       "  </thead>\n",
       "  <tbody>\n",
       "    <tr>\n",
       "      <th>0</th>\n",
       "      <td>31981</td>\n",
       "      <td>1472827464</td>\n",
       "      <td>viewed</td>\n",
       "      <td>1</td>\n",
       "      <td>2016-09-02</td>\n",
       "      <td>1472827464</td>\n",
       "      <td>1473086664</td>\n",
       "      <td>NaN</td>\n",
       "      <td>NaN</td>\n",
       "      <td>True</td>\n",
       "      <td>0</td>\n",
       "    </tr>\n",
       "    <tr>\n",
       "      <th>1</th>\n",
       "      <td>31981</td>\n",
       "      <td>1472827464</td>\n",
       "      <td>discovered</td>\n",
       "      <td>1</td>\n",
       "      <td>2016-09-02</td>\n",
       "      <td>1472827464</td>\n",
       "      <td>1473086664</td>\n",
       "      <td>NaN</td>\n",
       "      <td>NaN</td>\n",
       "      <td>True</td>\n",
       "      <td>0</td>\n",
       "    </tr>\n",
       "    <tr>\n",
       "      <th>2</th>\n",
       "      <td>32815</td>\n",
       "      <td>1514383364</td>\n",
       "      <td>discovered</td>\n",
       "      <td>2</td>\n",
       "      <td>2017-12-27</td>\n",
       "      <td>1514383364</td>\n",
       "      <td>1514642564</td>\n",
       "      <td>2.0</td>\n",
       "      <td>0.0</td>\n",
       "      <td>True</td>\n",
       "      <td>0</td>\n",
       "    </tr>\n",
       "  </tbody>\n",
       "</table>\n",
       "</div>"
      ],
      "text/plain": [
       "   step_id   timestamp      action  user_id        date  min_timestamp  \\\n",
       "0    31981  1472827464      viewed        1  2016-09-02     1472827464   \n",
       "1    31981  1472827464  discovered        1  2016-09-02     1472827464   \n",
       "2    32815  1514383364  discovered        2  2017-12-27     1514383364   \n",
       "\n",
       "   time_border_for_user  correct  wrong  churn_out  certificated  \n",
       "0            1473086664      NaN    NaN       True             0  \n",
       "1            1473086664      NaN    NaN       True             0  \n",
       "2            1514642564      2.0    0.0       True             0  "
      ]
     },
     "execution_count": 82,
     "metadata": {},
     "output_type": "execute_result"
    }
   ],
   "source": [
    "event_data_train.head(3)"
   ]
  },
  {
   "cell_type": "markdown",
   "id": "2e449bc5",
   "metadata": {},
   "source": [
    "У сабмитов correct и wrong есть NAN, это значит, пользователь ничего не засабмиттил(соответсвтенно, его не было в сабмит датасете). Заполним такие случаи нулями."
   ]
  },
  {
   "cell_type": "code",
   "execution_count": 83,
   "id": "dbd4031f",
   "metadata": {},
   "outputs": [],
   "source": [
    "event_data_train.correct = event_data_train.correct.fillna(0)\n",
    "event_data_train.wrong = event_data_train.wrong.fillna(0)"
   ]
  },
  {
   "cell_type": "markdown",
   "id": "c2afeca9",
   "metadata": {},
   "source": [
    "Теперь присоединяю частоты разных action для пользователя:"
   ]
  },
  {
   "cell_type": "code",
   "execution_count": 84,
   "id": "f92225a2",
   "metadata": {},
   "outputs": [],
   "source": [
    "event_data_train = event_data_train \\\n",
    "    .merge(event_data_train \\\n",
    "    .pivot_table(index='user_id', columns = 'action', values = 'step_id' ,aggfunc= 'count', fill_value = 0).reset_index()) \\\n",
    "    .drop('action', axis = 1)"
   ]
  },
  {
   "cell_type": "code",
   "execution_count": 85,
   "id": "5d3ec962",
   "metadata": {
    "scrolled": true
   },
   "outputs": [
    {
     "data": {
      "text/html": [
       "<div>\n",
       "<style scoped>\n",
       "    .dataframe tbody tr th:only-of-type {\n",
       "        vertical-align: middle;\n",
       "    }\n",
       "\n",
       "    .dataframe tbody tr th {\n",
       "        vertical-align: top;\n",
       "    }\n",
       "\n",
       "    .dataframe thead th {\n",
       "        text-align: right;\n",
       "    }\n",
       "</style>\n",
       "<table border=\"1\" class=\"dataframe\">\n",
       "  <thead>\n",
       "    <tr style=\"text-align: right;\">\n",
       "      <th></th>\n",
       "      <th>step_id</th>\n",
       "      <th>timestamp</th>\n",
       "      <th>user_id</th>\n",
       "      <th>date</th>\n",
       "      <th>min_timestamp</th>\n",
       "      <th>time_border_for_user</th>\n",
       "      <th>correct</th>\n",
       "      <th>wrong</th>\n",
       "      <th>churn_out</th>\n",
       "      <th>certificated</th>\n",
       "      <th>discovered</th>\n",
       "      <th>passed</th>\n",
       "      <th>started_attempt</th>\n",
       "      <th>viewed</th>\n",
       "    </tr>\n",
       "  </thead>\n",
       "  <tbody>\n",
       "    <tr>\n",
       "      <th>0</th>\n",
       "      <td>31981</td>\n",
       "      <td>1472827464</td>\n",
       "      <td>1</td>\n",
       "      <td>2016-09-02</td>\n",
       "      <td>1472827464</td>\n",
       "      <td>1473086664</td>\n",
       "      <td>0.0</td>\n",
       "      <td>0.0</td>\n",
       "      <td>True</td>\n",
       "      <td>0</td>\n",
       "      <td>1</td>\n",
       "      <td>0</td>\n",
       "      <td>0</td>\n",
       "      <td>1</td>\n",
       "    </tr>\n",
       "    <tr>\n",
       "      <th>1</th>\n",
       "      <td>31981</td>\n",
       "      <td>1472827464</td>\n",
       "      <td>1</td>\n",
       "      <td>2016-09-02</td>\n",
       "      <td>1472827464</td>\n",
       "      <td>1473086664</td>\n",
       "      <td>0.0</td>\n",
       "      <td>0.0</td>\n",
       "      <td>True</td>\n",
       "      <td>0</td>\n",
       "      <td>1</td>\n",
       "      <td>0</td>\n",
       "      <td>0</td>\n",
       "      <td>1</td>\n",
       "    </tr>\n",
       "    <tr>\n",
       "      <th>2</th>\n",
       "      <td>32815</td>\n",
       "      <td>1514383364</td>\n",
       "      <td>2</td>\n",
       "      <td>2017-12-27</td>\n",
       "      <td>1514383364</td>\n",
       "      <td>1514642564</td>\n",
       "      <td>2.0</td>\n",
       "      <td>0.0</td>\n",
       "      <td>True</td>\n",
       "      <td>0</td>\n",
       "      <td>9</td>\n",
       "      <td>9</td>\n",
       "      <td>2</td>\n",
       "      <td>9</td>\n",
       "    </tr>\n",
       "    <tr>\n",
       "      <th>3</th>\n",
       "      <td>32815</td>\n",
       "      <td>1514383364</td>\n",
       "      <td>2</td>\n",
       "      <td>2017-12-27</td>\n",
       "      <td>1514383364</td>\n",
       "      <td>1514642564</td>\n",
       "      <td>2.0</td>\n",
       "      <td>0.0</td>\n",
       "      <td>True</td>\n",
       "      <td>0</td>\n",
       "      <td>9</td>\n",
       "      <td>9</td>\n",
       "      <td>2</td>\n",
       "      <td>9</td>\n",
       "    </tr>\n",
       "    <tr>\n",
       "      <th>4</th>\n",
       "      <td>32815</td>\n",
       "      <td>1514383364</td>\n",
       "      <td>2</td>\n",
       "      <td>2017-12-27</td>\n",
       "      <td>1514383364</td>\n",
       "      <td>1514642564</td>\n",
       "      <td>2.0</td>\n",
       "      <td>0.0</td>\n",
       "      <td>True</td>\n",
       "      <td>0</td>\n",
       "      <td>9</td>\n",
       "      <td>9</td>\n",
       "      <td>2</td>\n",
       "      <td>9</td>\n",
       "    </tr>\n",
       "  </tbody>\n",
       "</table>\n",
       "</div>"
      ],
      "text/plain": [
       "   step_id   timestamp  user_id        date  min_timestamp  \\\n",
       "0    31981  1472827464        1  2016-09-02     1472827464   \n",
       "1    31981  1472827464        1  2016-09-02     1472827464   \n",
       "2    32815  1514383364        2  2017-12-27     1514383364   \n",
       "3    32815  1514383364        2  2017-12-27     1514383364   \n",
       "4    32815  1514383364        2  2017-12-27     1514383364   \n",
       "\n",
       "   time_border_for_user  correct  wrong  churn_out  certificated  discovered  \\\n",
       "0            1473086664      0.0    0.0       True             0           1   \n",
       "1            1473086664      0.0    0.0       True             0           1   \n",
       "2            1514642564      2.0    0.0       True             0           9   \n",
       "3            1514642564      2.0    0.0       True             0           9   \n",
       "4            1514642564      2.0    0.0       True             0           9   \n",
       "\n",
       "   passed  started_attempt  viewed  \n",
       "0       0                0       1  \n",
       "1       0                0       1  \n",
       "2       9                2       9  \n",
       "3       9                2       9  \n",
       "4       9                2       9  "
      ]
     },
     "execution_count": 85,
     "metadata": {},
     "output_type": "execute_result"
    }
   ],
   "source": [
    "event_data_train.head()"
   ]
  },
  {
   "cell_type": "markdown",
   "id": "4415d8a3",
   "metadata": {},
   "source": [
    "Накопилось дублированных юзеров! Убираем"
   ]
  },
  {
   "cell_type": "code",
   "execution_count": 86,
   "id": "324b9a1d",
   "metadata": {},
   "outputs": [],
   "source": [
    "event_data_train = event_data_train.drop_duplicates('user_id')"
   ]
  },
  {
   "cell_type": "markdown",
   "id": "f2de4de2",
   "metadata": {},
   "source": [
    "Ещё раз смотрю, всё ли в порядке:"
   ]
  },
  {
   "cell_type": "code",
   "execution_count": 87,
   "id": "012cdb91",
   "metadata": {
    "scrolled": true
   },
   "outputs": [
    {
     "name": "stdout",
     "output_type": "stream",
     "text": [
      "<class 'pandas.core.frame.DataFrame'>\n",
      "Int64Index: 17633 entries, 0 to 918276\n",
      "Data columns (total 14 columns):\n",
      " #   Column                Non-Null Count  Dtype  \n",
      "---  ------                --------------  -----  \n",
      " 0   step_id               17633 non-null  int64  \n",
      " 1   timestamp             17633 non-null  int64  \n",
      " 2   user_id               17633 non-null  int64  \n",
      " 3   date                  17633 non-null  object \n",
      " 4   min_timestamp         17633 non-null  int64  \n",
      " 5   time_border_for_user  17633 non-null  int64  \n",
      " 6   correct               17633 non-null  float64\n",
      " 7   wrong                 17633 non-null  float64\n",
      " 8   churn_out             17633 non-null  bool   \n",
      " 9   certificated          17633 non-null  int32  \n",
      " 10  discovered            17633 non-null  int64  \n",
      " 11  passed                17633 non-null  int64  \n",
      " 12  started_attempt       17633 non-null  int64  \n",
      " 13  viewed                17633 non-null  int64  \n",
      "dtypes: bool(1), float64(2), int32(1), int64(9), object(1)\n",
      "memory usage: 1.8+ MB\n"
     ]
    }
   ],
   "source": [
    "event_data_train.info()"
   ]
  },
  {
   "cell_type": "code",
   "execution_count": 88,
   "id": "ec3c33a5",
   "metadata": {},
   "outputs": [
    {
     "data": {
      "text/plain": [
       "(17633, 14)"
      ]
     },
     "execution_count": 88,
     "metadata": {},
     "output_type": "execute_result"
    }
   ],
   "source": [
    "event_data_train.shape"
   ]
  },
  {
   "cell_type": "markdown",
   "id": "f8012758",
   "metadata": {},
   "source": [
    "Хорошо. Наконец, настало время для финального тренировочного датасета. В нем останутся колонки:\n",
    "\n",
    "- correct - количество правильно решённых практических заданий\n",
    "- wrong - количество неверно решённых практических заданий\n",
    "- discovered - количество открытых разделов\n",
    "- passed - количество пройденных степов\n",
    "- started_attempt - количество первых попыток решить задачу\n",
    "- viewed - количество просмотренных степов"
   ]
  },
  {
   "cell_type": "code",
   "execution_count": 89,
   "id": "76e5df3c",
   "metadata": {
    "scrolled": true
   },
   "outputs": [],
   "source": [
    "event_data_train = event_data_train[['user_id', 'correct', 'wrong','discovered','passed','started_attempt','viewed', 'certificated']]"
   ]
  },
  {
   "cell_type": "code",
   "execution_count": 90,
   "id": "9a0bb211",
   "metadata": {},
   "outputs": [],
   "source": [
    "event_data_train  = event_data_train.set_index('user_id')"
   ]
  },
  {
   "cell_type": "code",
   "execution_count": 91,
   "id": "96a22da9",
   "metadata": {},
   "outputs": [
    {
     "data": {
      "text/html": [
       "<div>\n",
       "<style scoped>\n",
       "    .dataframe tbody tr th:only-of-type {\n",
       "        vertical-align: middle;\n",
       "    }\n",
       "\n",
       "    .dataframe tbody tr th {\n",
       "        vertical-align: top;\n",
       "    }\n",
       "\n",
       "    .dataframe thead th {\n",
       "        text-align: right;\n",
       "    }\n",
       "</style>\n",
       "<table border=\"1\" class=\"dataframe\">\n",
       "  <thead>\n",
       "    <tr style=\"text-align: right;\">\n",
       "      <th></th>\n",
       "      <th>correct</th>\n",
       "      <th>wrong</th>\n",
       "      <th>discovered</th>\n",
       "      <th>passed</th>\n",
       "      <th>started_attempt</th>\n",
       "      <th>viewed</th>\n",
       "      <th>certificated</th>\n",
       "    </tr>\n",
       "    <tr>\n",
       "      <th>user_id</th>\n",
       "      <th></th>\n",
       "      <th></th>\n",
       "      <th></th>\n",
       "      <th></th>\n",
       "      <th></th>\n",
       "      <th></th>\n",
       "      <th></th>\n",
       "    </tr>\n",
       "  </thead>\n",
       "  <tbody>\n",
       "    <tr>\n",
       "      <th>1</th>\n",
       "      <td>0.0</td>\n",
       "      <td>0.0</td>\n",
       "      <td>1</td>\n",
       "      <td>0</td>\n",
       "      <td>0</td>\n",
       "      <td>1</td>\n",
       "      <td>0</td>\n",
       "    </tr>\n",
       "    <tr>\n",
       "      <th>2</th>\n",
       "      <td>2.0</td>\n",
       "      <td>0.0</td>\n",
       "      <td>9</td>\n",
       "      <td>9</td>\n",
       "      <td>2</td>\n",
       "      <td>9</td>\n",
       "      <td>0</td>\n",
       "    </tr>\n",
       "    <tr>\n",
       "      <th>3</th>\n",
       "      <td>29.0</td>\n",
       "      <td>23.0</td>\n",
       "      <td>15</td>\n",
       "      <td>15</td>\n",
       "      <td>4</td>\n",
       "      <td>20</td>\n",
       "      <td>0</td>\n",
       "    </tr>\n",
       "    <tr>\n",
       "      <th>5</th>\n",
       "      <td>2.0</td>\n",
       "      <td>2.0</td>\n",
       "      <td>1</td>\n",
       "      <td>1</td>\n",
       "      <td>0</td>\n",
       "      <td>1</td>\n",
       "      <td>0</td>\n",
       "    </tr>\n",
       "    <tr>\n",
       "      <th>7</th>\n",
       "      <td>0.0</td>\n",
       "      <td>0.0</td>\n",
       "      <td>1</td>\n",
       "      <td>1</td>\n",
       "      <td>0</td>\n",
       "      <td>1</td>\n",
       "      <td>0</td>\n",
       "    </tr>\n",
       "  </tbody>\n",
       "</table>\n",
       "</div>"
      ],
      "text/plain": [
       "         correct  wrong  discovered  passed  started_attempt  viewed  \\\n",
       "user_id                                                                \n",
       "1            0.0    0.0           1       0                0       1   \n",
       "2            2.0    0.0           9       9                2       9   \n",
       "3           29.0   23.0          15      15                4      20   \n",
       "5            2.0    2.0           1       1                0       1   \n",
       "7            0.0    0.0           1       1                0       1   \n",
       "\n",
       "         certificated  \n",
       "user_id                \n",
       "1                   0  \n",
       "2                   0  \n",
       "3                   0  \n",
       "5                   0  \n",
       "7                   0  "
      ]
     },
     "execution_count": 91,
     "metadata": {},
     "output_type": "execute_result"
    }
   ],
   "source": [
    "event_data_train.head()"
   ]
  },
  {
   "cell_type": "markdown",
   "id": "71e37184",
   "metadata": {},
   "source": [
    "В таких данных наверняка будет дисбаланс классов, посмотрим, какой он"
   ]
  },
  {
   "cell_type": "code",
   "execution_count": 92,
   "id": "12ff95db",
   "metadata": {},
   "outputs": [
    {
     "name": "stdout",
     "output_type": "stream",
     "text": [
      "Соотношение прошедших к не прошедшим =  0.08791954590325765\n"
     ]
    }
   ],
   "source": [
    "print('Соотношение прошедших к не прошедшим = ',\n",
    "      event_data_train[event_data_train.certificated== 1].certificated.count() \n",
    "      / event_data_train[event_data_train.certificated== 0].certificated.count())  "
   ]
  },
  {
   "cell_type": "markdown",
   "id": "66dfac7d",
   "metadata": {},
   "source": [
    "Похоже не то, что мы получали в начале. Теперь можно перейти к построению моделей!"
   ]
  },
  {
   "cell_type": "markdown",
   "id": "5cb3fdaa",
   "metadata": {},
   "source": [
    "# Построение моделей: desicion tree, random forest, logit"
   ]
  },
  {
   "cell_type": "markdown",
   "id": "875c43b4",
   "metadata": {},
   "source": [
    "Разбиение данных на train и test "
   ]
  },
  {
   "cell_type": "code",
   "execution_count": 93,
   "id": "bd3808e1",
   "metadata": {},
   "outputs": [],
   "source": [
    "X = event_data_train.iloc[:, :-1]"
   ]
  },
  {
   "cell_type": "code",
   "execution_count": 94,
   "id": "dfcacac4",
   "metadata": {},
   "outputs": [],
   "source": [
    "y = event_data_train.iloc[:, -1]"
   ]
  },
  {
   "cell_type": "code",
   "execution_count": 95,
   "id": "a63d6f97",
   "metadata": {},
   "outputs": [],
   "source": [
    "X_train, X_test, y_train, y_test = train_test_split(X, y, test_size=0.25, random_state=42) "
   ]
  },
  {
   "cell_type": "markdown",
   "id": "d0d4415c",
   "metadata": {},
   "source": [
    "## Прогнозирование с помощью обычного desicion tree"
   ]
  },
  {
   "cell_type": "markdown",
   "id": "4f56ef4e",
   "metadata": {},
   "source": [
    "Для начала я прогоню обычное дерево с параметрами, которые задам из общих соображений. Это позволит мне соринетироваться в фичах, можно будет посмотреть дерево, чтобы оценить важность фич.\n",
    "Учитывая то, что нам доступно 17633 строк, а количество фичей не такой большое, параметры тоже не должны быть большими "
   ]
  },
  {
   "cell_type": "code",
   "execution_count": 96,
   "id": "600b09a2",
   "metadata": {},
   "outputs": [],
   "source": [
    "params_tree = {'min_samples_leaf': range(200,501, 100),\n",
    "          'max_depth': range(3,25,2),\n",
    "          'min_samples_split': range(500,1001, 100),\n",
    "           }"
   ]
  },
  {
   "cell_type": "markdown",
   "id": "27dd264a",
   "metadata": {},
   "source": [
    "Кроссвалидация для поиска лучшего дерева:"
   ]
  },
  {
   "cell_type": "code",
   "execution_count": 97,
   "id": "fc8390d8",
   "metadata": {},
   "outputs": [],
   "source": [
    "search_tree = GridSearchCV(DecisionTreeClassifier(random_state=42), params_tree)"
   ]
  },
  {
   "cell_type": "code",
   "execution_count": 98,
   "id": "4e1685f9",
   "metadata": {},
   "outputs": [
    {
     "data": {
      "text/plain": [
       "GridSearchCV(estimator=DecisionTreeClassifier(random_state=42),\n",
       "             param_grid={'max_depth': range(3, 25, 2),\n",
       "                         'min_samples_leaf': range(200, 501, 100),\n",
       "                         'min_samples_split': range(500, 1001, 100)})"
      ]
     },
     "execution_count": 98,
     "metadata": {},
     "output_type": "execute_result"
    }
   ],
   "source": [
    "search_tree.fit(X_train, y_train)"
   ]
  },
  {
   "cell_type": "markdown",
   "id": "86b2f81d",
   "metadata": {},
   "source": [
    "Какие же параметры оказались лучшими?"
   ]
  },
  {
   "cell_type": "code",
   "execution_count": 99,
   "id": "ceb92f9b",
   "metadata": {
    "scrolled": false
   },
   "outputs": [
    {
     "data": {
      "text/plain": [
       "DecisionTreeClassifier(max_depth=3, min_samples_leaf=200, min_samples_split=500,\n",
       "                       random_state=42)"
      ]
     },
     "execution_count": 99,
     "metadata": {},
     "output_type": "execute_result"
    }
   ],
   "source": [
    "search_tree.best_estimator_"
   ]
  },
  {
   "cell_type": "markdown",
   "id": "d79e6568",
   "metadata": {},
   "source": [
    "Какой был accuracy? "
   ]
  },
  {
   "cell_type": "code",
   "execution_count": 100,
   "id": "c47a1f5c",
   "metadata": {
    "scrolled": true
   },
   "outputs": [
    {
     "data": {
      "text/plain": [
       "0.9948577368883142"
      ]
     },
     "execution_count": 100,
     "metadata": {},
     "output_type": "execute_result"
    }
   ],
   "source": [
    "search_tree.best_score_"
   ]
  },
  {
   "cell_type": "markdown",
   "id": "8edea85c",
   "metadata": {},
   "source": [
    "Выглядит неплохо. Теперь передадим лучшее дерево в отдельную переменную и предскажем тестовые данные"
   ]
  },
  {
   "cell_type": "code",
   "execution_count": 101,
   "id": "e3238d54",
   "metadata": {},
   "outputs": [],
   "source": [
    "best_tree = search_tree.best_estimator_"
   ]
  },
  {
   "cell_type": "code",
   "execution_count": 102,
   "id": "eab01796",
   "metadata": {},
   "outputs": [],
   "source": [
    "predictions_tree = best_tree.predict(X_test)"
   ]
  },
  {
   "cell_type": "code",
   "execution_count": 103,
   "id": "8e68ab7e",
   "metadata": {},
   "outputs": [
    {
     "data": {
      "text/plain": [
       "array([0, 0, 0, ..., 0, 0, 0])"
      ]
     },
     "execution_count": 103,
     "metadata": {},
     "output_type": "execute_result"
    }
   ],
   "source": [
    "predictions_tree"
   ]
  },
  {
   "cell_type": "markdown",
   "id": "19b13623",
   "metadata": {},
   "source": [
    "Насколько верно были предсказаны значения на тестовой выборке? "
   ]
  },
  {
   "cell_type": "code",
   "execution_count": 104,
   "id": "29a5629b",
   "metadata": {},
   "outputs": [
    {
     "data": {
      "text/plain": [
       "0.9943297799954638"
      ]
     },
     "execution_count": 104,
     "metadata": {},
     "output_type": "execute_result"
    }
   ],
   "source": [
    "best_tree.score(X_test, y_test)"
   ]
  },
  {
   "cell_type": "markdown",
   "id": "4b67b931",
   "metadata": {},
   "source": [
    "Выглядит неплохо, результат лишь чуть меньше, чем на тренировочной выборке. \n",
    "Теперь стоит посмотреть конкретные значения precision и recall, чтобы оценить, сколько наблюдений было верно определено к положительным, а сколько - к  отрицательным"
   ]
  },
  {
   "cell_type": "code",
   "execution_count": 105,
   "id": "da315763",
   "metadata": {},
   "outputs": [
    {
     "data": {
      "text/plain": [
       "<sklearn.metrics._plot.confusion_matrix.ConfusionMatrixDisplay at 0x16b01086910>"
      ]
     },
     "execution_count": 105,
     "metadata": {},
     "output_type": "execute_result"
    },
    {
     "data": {
      "image/png": "[encoded data removed]",
      "text/plain": [
       "<Figure size 2160x504 with 2 Axes>"
      ]
     },
     "metadata": {},
     "output_type": "display_data"
    }
   ],
   "source": [
    "plot_confusion_matrix(best_tree, X_test, y_test)"
   ]
  },
  {
   "cell_type": "code",
   "execution_count": 106,
   "id": "a5f0f5cd",
   "metadata": {},
   "outputs": [
    {
     "name": "stdout",
     "output_type": "stream",
     "text": [
      "              precision    recall  f1-score   support\n",
      "\n",
      "           0       1.00      1.00      1.00      4038\n",
      "           1       0.96      0.97      0.97       371\n",
      "\n",
      "    accuracy                           0.99      4409\n",
      "   macro avg       0.98      0.98      0.98      4409\n",
      "weighted avg       0.99      0.99      0.99      4409\n",
      "\n"
     ]
    }
   ],
   "source": [
    "report_tree = classification_report(y_test, predictions_tree)\n",
    "print(report_tree)"
   ]
  },
  {
   "cell_type": "code",
   "execution_count": 107,
   "id": "fc2a3240",
   "metadata": {},
   "outputs": [
    {
     "data": {
      "text/plain": [
       "<sklearn.metrics._plot.roc_curve.RocCurveDisplay at 0x16b14f01af0>"
      ]
     },
     "execution_count": 107,
     "metadata": {},
     "output_type": "execute_result"
    },
    {
     "data": {
      "image/png": "[encoded data removed]",
      "text/plain": [
       "<Figure size 2160x504 with 1 Axes>"
      ]
     },
     "metadata": {},
     "output_type": "display_data"
    }
   ],
   "source": [
    "plot_roc_curve(best_tree, X_test, y_test) "
   ]
  },
  {
   "cell_type": "markdown",
   "id": "4a688816",
   "metadata": {},
   "source": [
    "Результат выглядит достаточно высоким, так что в ручном выборе порога нет необходимости."
   ]
  },
  {
   "cell_type": "markdown",
   "id": "a5acecc5",
   "metadata": {},
   "source": [
    "Как выглядит само дерево?"
   ]
  },
  {
   "cell_type": "code",
   "execution_count": 108,
   "id": "d2693a40",
   "metadata": {
    "scrolled": false
   },
   "outputs": [
    {
     "data": {
      "text/plain": [
       "[Text(744.0, 332.955, 'correct <= 64.5\\ngini = 0.147\\nsamples = 13224\\nvalue = [12170, 1054]'),\n",
       " Text(372.0, 237.825, 'correct <= 47.5\\ngini = 0.002\\nsamples = 12132\\nvalue = [12117, 15]'),\n",
       " Text(186.0, 142.695, 'gini = 0.0\\nsamples = 11926\\nvalue = [11926, 0]'),\n",
       " Text(558.0, 142.695, 'gini = 0.135\\nsamples = 206\\nvalue = [191, 15]'),\n",
       " Text(1116.0, 237.825, 'correct <= 73.5\\ngini = 0.092\\nsamples = 1092\\nvalue = [53, 1039]'),\n",
       " Text(930.0, 142.695, 'gini = 0.289\\nsamples = 228\\nvalue = [40, 188]'),\n",
       " Text(1302.0, 142.695, 'passed <= 22.5\\ngini = 0.03\\nsamples = 864\\nvalue = [13, 851]'),\n",
       " Text(1116.0, 47.565, 'gini = 0.05\\nsamples = 274\\nvalue = [7, 267]'),\n",
       " Text(1488.0, 47.565, 'gini = 0.02\\nsamples = 590\\nvalue = [6, 584]')]"
      ]
     },
     "execution_count": 108,
     "metadata": {},
     "output_type": "execute_result"
    },
    {
     "data": {
      "image/png": "[encoded data removed]",
      "text/plain": [
       "<Figure size 2160x504 with 1 Axes>"
      ]
     },
     "metadata": {},
     "output_type": "display_data"
    }
   ],
   "source": [
    "tree.plot_tree(best_tree, feature_names = X.columns)"
   ]
  },
  {
   "cell_type": "markdown",
   "id": "f1991665",
   "metadata": {},
   "source": [
    "Дерево выглядит внятным и оказалось на деле довольно простым: видно, что основную роль в предсказании certificated играет переменная correct - количество верных ответов, и только на третьем шаге дерево обращается к переменной passed в одном из узлов. "
   ]
  },
  {
   "cell_type": "markdown",
   "id": "f05e7856",
   "metadata": {},
   "source": [
    "#### Вывод по classification tree: \n",
    "Полученная модель выглядит достаточно хорошей, ROC AUC = 1, accuracy = 0.99. Интепретация простая - дерево преимущественно путешествует по переменной correct. Дерево получилось неглубоким, максимальная глубина - 3. Accuracy score в тренировочном датасете и в тестовом примерно равны, визуально дерево небольшое"
   ]
  },
  {
   "cell_type": "markdown",
   "id": "17613fee",
   "metadata": {},
   "source": [
    "## Прогнозирование с помощью random forest"
   ]
  },
  {
   "cell_type": "markdown",
   "id": "3be1289c",
   "metadata": {},
   "source": [
    "Параметры для random forest стоит подбирать не такими большими, как для обычного desicion tree"
   ]
  },
  {
   "cell_type": "code",
   "execution_count": 109,
   "id": "f7ff8461",
   "metadata": {},
   "outputs": [],
   "source": [
    "params_forest = {\n",
    "    'n_estimators' : [10,20, 30],\n",
    "    'min_samples_leaf': [10, 20],\n",
    "    'max_depth': range(1,20),\n",
    "    'min_samples_split': [40, 50],\n",
    "           }"
   ]
  },
  {
   "cell_type": "code",
   "execution_count": 110,
   "id": "150c4884",
   "metadata": {},
   "outputs": [],
   "source": [
    "search_forest = GridSearchCV(RandomForestClassifier(random_state=42), params_forest)"
   ]
  },
  {
   "cell_type": "code",
   "execution_count": 111,
   "id": "92d0a4b7",
   "metadata": {},
   "outputs": [
    {
     "data": {
      "text/plain": [
       "GridSearchCV(estimator=RandomForestClassifier(random_state=42),\n",
       "             param_grid={'max_depth': range(1, 20),\n",
       "                         'min_samples_leaf': [10, 20],\n",
       "                         'min_samples_split': [40, 50],\n",
       "                         'n_estimators': [10, 20, 30]})"
      ]
     },
     "execution_count": 111,
     "metadata": {},
     "output_type": "execute_result"
    }
   ],
   "source": [
    "search_forest.fit(X_train, y_train)"
   ]
  },
  {
   "cell_type": "code",
   "execution_count": 112,
   "id": "e530d93b",
   "metadata": {},
   "outputs": [],
   "source": [
    "best_forest = search_forest.best_estimator_"
   ]
  },
  {
   "cell_type": "markdown",
   "id": "3dede9b1",
   "metadata": {},
   "source": [
    "Параметры лучшего леса:"
   ]
  },
  {
   "cell_type": "code",
   "execution_count": 113,
   "id": "133861a4",
   "metadata": {
    "scrolled": true
   },
   "outputs": [
    {
     "data": {
      "text/plain": [
       "RandomForestClassifier(max_depth=2, min_samples_leaf=10, min_samples_split=40,\n",
       "                       n_estimators=20, random_state=42)"
      ]
     },
     "execution_count": 113,
     "metadata": {},
     "output_type": "execute_result"
    }
   ],
   "source": [
    "best_forest"
   ]
  },
  {
   "cell_type": "markdown",
   "id": "54cfce35",
   "metadata": {},
   "source": [
    "Предсказание значений тестовой выборки:"
   ]
  },
  {
   "cell_type": "code",
   "execution_count": 114,
   "id": "e395bf53",
   "metadata": {},
   "outputs": [],
   "source": [
    "predictions_forest = best_forest.predict(X_test)"
   ]
  },
  {
   "cell_type": "code",
   "execution_count": 115,
   "id": "43b4fb23",
   "metadata": {},
   "outputs": [
    {
     "data": {
      "text/plain": [
       "array([0, 0, 0, ..., 0, 0, 0])"
      ]
     },
     "execution_count": 115,
     "metadata": {},
     "output_type": "execute_result"
    }
   ],
   "source": [
    "predictions_forest"
   ]
  },
  {
   "cell_type": "markdown",
   "id": "3dcf2e9d",
   "metadata": {},
   "source": [
    "Значения accuracy, precision, recall и ROC AUC:"
   ]
  },
  {
   "cell_type": "code",
   "execution_count": 116,
   "id": "1cdbc26a",
   "metadata": {
    "scrolled": false
   },
   "outputs": [
    {
     "name": "stdout",
     "output_type": "stream",
     "text": [
      "accuracy_score:  0.9943297799954638\n"
     ]
    }
   ],
   "source": [
    "print('accuracy_score: ', best_forest.score(X_test, y_test))"
   ]
  },
  {
   "cell_type": "code",
   "execution_count": 117,
   "id": "1eea74ce",
   "metadata": {},
   "outputs": [
    {
     "data": {
      "text/plain": [
       "<sklearn.metrics._plot.confusion_matrix.ConfusionMatrixDisplay at 0x16b0b756490>"
      ]
     },
     "execution_count": 117,
     "metadata": {},
     "output_type": "execute_result"
    },
    {
     "data": {
      "image/png": "[encoded data removed]",
      "text/plain": [
       "<Figure size 2160x504 with 2 Axes>"
      ]
     },
     "metadata": {},
     "output_type": "display_data"
    }
   ],
   "source": [
    "plot_confusion_matrix(best_forest, X_test, y_test)"
   ]
  },
  {
   "cell_type": "code",
   "execution_count": 118,
   "id": "c04b85d7",
   "metadata": {},
   "outputs": [
    {
     "name": "stdout",
     "output_type": "stream",
     "text": [
      "              precision    recall  f1-score   support\n",
      "\n",
      "           0       1.00      1.00      1.00      4038\n",
      "           1       0.96      0.97      0.97       371\n",
      "\n",
      "    accuracy                           0.99      4409\n",
      "   macro avg       0.98      0.98      0.98      4409\n",
      "weighted avg       0.99      0.99      0.99      4409\n",
      "\n"
     ]
    }
   ],
   "source": [
    "report_forest = classification_report(y_test, predictions_forest)\n",
    "print(report_forest)"
   ]
  },
  {
   "cell_type": "code",
   "execution_count": 119,
   "id": "98af08c4",
   "metadata": {
    "scrolled": false
   },
   "outputs": [
    {
     "data": {
      "text/plain": [
       "<sklearn.metrics._plot.roc_curve.RocCurveDisplay at 0x16b0b780580>"
      ]
     },
     "execution_count": 119,
     "metadata": {},
     "output_type": "execute_result"
    },
    {
     "data": {
      "image/png": "[encoded data removed]",
      "text/plain": [
       "<Figure size 2160x504 with 1 Axes>"
      ]
     },
     "metadata": {},
     "output_type": "display_data"
    }
   ],
   "source": [
    "plot_roc_curve(best_forest, X_test, y_test) "
   ]
  },
  {
   "cell_type": "markdown",
   "id": "ad69f0aa",
   "metadata": {},
   "source": [
    "Какие фичи оказались самыми значимыми для прогноза леса?"
   ]
  },
  {
   "cell_type": "code",
   "execution_count": 120,
   "id": "df696575",
   "metadata": {
    "scrolled": true
   },
   "outputs": [
    {
     "data": {
      "text/plain": [
       "Text(0.5, 1.0, 'Самые значимые фичи для модели')"
      ]
     },
     "execution_count": 120,
     "metadata": {},
     "output_type": "execute_result"
    },
    {
     "data": {
      "image/png": "[encoded data removed]",
      "text/plain": [
       "<Figure size 864x576 with 1 Axes>"
      ]
     },
     "metadata": {},
     "output_type": "display_data"
    }
   ],
   "source": [
    "imp = pd.DataFrame(best_forest.feature_importances_, index=X.columns, columns=['importance'])\n",
    "imp.sort_values('importance').plot(kind='barh', figsize=(12, 8))\n",
    "plt.title('Самые значимые фичи для модели')"
   ]
  },
  {
   "cell_type": "code",
   "execution_count": 121,
   "id": "00cb45f0",
   "metadata": {},
   "outputs": [],
   "source": [
    "feature_importances_df = pd.DataFrame({'features':list(X_train.columns), \n",
    "                                       'feature_importances':  best_forest.feature_importances_})\\\n",
    "                        .sort_values(by='feature_importances', ascending = False)"
   ]
  },
  {
   "cell_type": "code",
   "execution_count": 122,
   "id": "8c51c7ca",
   "metadata": {
    "scrolled": true
   },
   "outputs": [
    {
     "data": {
      "text/html": [
       "<div>\n",
       "<style scoped>\n",
       "    .dataframe tbody tr th:only-of-type {\n",
       "        vertical-align: middle;\n",
       "    }\n",
       "\n",
       "    .dataframe tbody tr th {\n",
       "        vertical-align: top;\n",
       "    }\n",
       "\n",
       "    .dataframe thead th {\n",
       "        text-align: right;\n",
       "    }\n",
       "</style>\n",
       "<table border=\"1\" class=\"dataframe\">\n",
       "  <thead>\n",
       "    <tr style=\"text-align: right;\">\n",
       "      <th></th>\n",
       "      <th>features</th>\n",
       "      <th>feature_importances</th>\n",
       "    </tr>\n",
       "  </thead>\n",
       "  <tbody>\n",
       "    <tr>\n",
       "      <th>0</th>\n",
       "      <td>correct</td>\n",
       "      <td>0.583144</td>\n",
       "    </tr>\n",
       "    <tr>\n",
       "      <th>1</th>\n",
       "      <td>wrong</td>\n",
       "      <td>0.217628</td>\n",
       "    </tr>\n",
       "    <tr>\n",
       "      <th>3</th>\n",
       "      <td>passed</td>\n",
       "      <td>0.116287</td>\n",
       "    </tr>\n",
       "    <tr>\n",
       "      <th>4</th>\n",
       "      <td>started_attempt</td>\n",
       "      <td>0.059915</td>\n",
       "    </tr>\n",
       "    <tr>\n",
       "      <th>2</th>\n",
       "      <td>discovered</td>\n",
       "      <td>0.023005</td>\n",
       "    </tr>\n",
       "    <tr>\n",
       "      <th>5</th>\n",
       "      <td>viewed</td>\n",
       "      <td>0.000021</td>\n",
       "    </tr>\n",
       "  </tbody>\n",
       "</table>\n",
       "</div>"
      ],
      "text/plain": [
       "          features  feature_importances\n",
       "0          correct             0.583144\n",
       "1            wrong             0.217628\n",
       "3           passed             0.116287\n",
       "4  started_attempt             0.059915\n",
       "2       discovered             0.023005\n",
       "5           viewed             0.000021"
      ]
     },
     "execution_count": 122,
     "metadata": {},
     "output_type": "execute_result"
    }
   ],
   "source": [
    "feature_importances_df"
   ]
  },
  {
   "cell_type": "markdown",
   "id": "042551a1",
   "metadata": {},
   "source": [
    "\n",
    "ъЗначения вероятности отнесения к классам для каждого наблюдения"
   ]
  },
  {
   "cell_type": "code",
   "execution_count": 123,
   "id": "bf9245a1",
   "metadata": {},
   "outputs": [],
   "source": [
    "y_prob = best_forest.predict_proba(X)"
   ]
  },
  {
   "cell_type": "code",
   "execution_count": 124,
   "id": "a4864cdb",
   "metadata": {},
   "outputs": [],
   "source": [
    "y_prob_0 = y_prob[:, 0]"
   ]
  },
  {
   "cell_type": "code",
   "execution_count": 125,
   "id": "1728293b",
   "metadata": {},
   "outputs": [],
   "source": [
    "y_prob_1= y_prob[:, 1]"
   ]
  },
  {
   "cell_type": "code",
   "execution_count": 126,
   "id": "ec631ef9",
   "metadata": {},
   "outputs": [
    {
     "name": "stdout",
     "output_type": "stream",
     "text": [
      "Вероятность отнесения к нулевому классу для каждого наблюдения. В нашем случае - вероятность, что человек уйдёт с курса: \n",
      " [0.99442936 0.98097721 0.98097721 ... 0.91053853 0.98097721 0.98097721]\n"
     ]
    }
   ],
   "source": [
    "print(\n",
    "'Вероятность отнесения к нулевому классу для каждого наблюдения. В нашем случае - вероятность, что человек уйдёт с курса:','\\n',\n",
    "    y_prob_0)"
   ]
  },
  {
   "cell_type": "code",
   "execution_count": 127,
   "id": "db2a7d7b",
   "metadata": {},
   "outputs": [
    {
     "name": "stdout",
     "output_type": "stream",
     "text": [
      "Вероятность отнесения к первому классу для каждого наблюдения. В нашем случае - вероятность, что человек закончит курс : \n",
      " [0.00557064 0.01902279 0.01902279 ... 0.08946147 0.01902279 0.01902279]\n"
     ]
    }
   ],
   "source": [
    "print(\n",
    "'Вероятность отнесения к первому классу для каждого наблюдения. В нашем случае - вероятность, что человек закончит курс :','\\n',\n",
    "    y_prob_1)"
   ]
  },
  {
   "cell_type": "markdown",
   "id": "dd1e1b1f",
   "metadata": {},
   "source": [
    "Здесь следует сказать, что я делала **ещё одну random forest модель** без фич started_attempt, discovered, viewed, так как они согласно прошлым двум моделям они не выглядят значимыми. Тем не менее, такая обновлённая модель получила ROC score всего лишь 0.612, и я убрала её, чтобы не делать текуший код более нагруженным."
   ]
  },
  {
   "cell_type": "markdown",
   "id": "5632f577",
   "metadata": {},
   "source": [
    "#### Вывод по random forest: \n",
    "Как и в случае с desicion tree, ROC AUC = 1, accuracy = 0.99. Такие похожие результаты могут быть связаны с простотой данных - как выяснилось, фича correct хорошо описывает target. Accuracy score в тренировочном датасете и в тестовом примерно равны. \n",
    "#### Тем не менее, ROC score на степике для этого леса составил лишь 0.799\n"
   ]
  },
  {
   "cell_type": "markdown",
   "id": "a96536e1",
   "metadata": {},
   "source": [
    "### Прогнозирование с помощью logit"
   ]
  },
  {
   "cell_type": "markdown",
   "id": "8ffd9808",
   "metadata": {},
   "source": [
    "Вернёмся к нашему исходному датафрейму event_data_train:"
   ]
  },
  {
   "cell_type": "code",
   "execution_count": 128,
   "id": "8aa100b1",
   "metadata": {},
   "outputs": [
    {
     "data": {
      "text/html": [
       "<div>\n",
       "<style scoped>\n",
       "    .dataframe tbody tr th:only-of-type {\n",
       "        vertical-align: middle;\n",
       "    }\n",
       "\n",
       "    .dataframe tbody tr th {\n",
       "        vertical-align: top;\n",
       "    }\n",
       "\n",
       "    .dataframe thead th {\n",
       "        text-align: right;\n",
       "    }\n",
       "</style>\n",
       "<table border=\"1\" class=\"dataframe\">\n",
       "  <thead>\n",
       "    <tr style=\"text-align: right;\">\n",
       "      <th></th>\n",
       "      <th>correct</th>\n",
       "      <th>wrong</th>\n",
       "      <th>discovered</th>\n",
       "      <th>passed</th>\n",
       "      <th>started_attempt</th>\n",
       "      <th>viewed</th>\n",
       "      <th>certificated</th>\n",
       "    </tr>\n",
       "    <tr>\n",
       "      <th>user_id</th>\n",
       "      <th></th>\n",
       "      <th></th>\n",
       "      <th></th>\n",
       "      <th></th>\n",
       "      <th></th>\n",
       "      <th></th>\n",
       "      <th></th>\n",
       "    </tr>\n",
       "  </thead>\n",
       "  <tbody>\n",
       "    <tr>\n",
       "      <th>1</th>\n",
       "      <td>0.0</td>\n",
       "      <td>0.0</td>\n",
       "      <td>1</td>\n",
       "      <td>0</td>\n",
       "      <td>0</td>\n",
       "      <td>1</td>\n",
       "      <td>0</td>\n",
       "    </tr>\n",
       "    <tr>\n",
       "      <th>2</th>\n",
       "      <td>2.0</td>\n",
       "      <td>0.0</td>\n",
       "      <td>9</td>\n",
       "      <td>9</td>\n",
       "      <td>2</td>\n",
       "      <td>9</td>\n",
       "      <td>0</td>\n",
       "    </tr>\n",
       "    <tr>\n",
       "      <th>3</th>\n",
       "      <td>29.0</td>\n",
       "      <td>23.0</td>\n",
       "      <td>15</td>\n",
       "      <td>15</td>\n",
       "      <td>4</td>\n",
       "      <td>20</td>\n",
       "      <td>0</td>\n",
       "    </tr>\n",
       "    <tr>\n",
       "      <th>5</th>\n",
       "      <td>2.0</td>\n",
       "      <td>2.0</td>\n",
       "      <td>1</td>\n",
       "      <td>1</td>\n",
       "      <td>0</td>\n",
       "      <td>1</td>\n",
       "      <td>0</td>\n",
       "    </tr>\n",
       "    <tr>\n",
       "      <th>7</th>\n",
       "      <td>0.0</td>\n",
       "      <td>0.0</td>\n",
       "      <td>1</td>\n",
       "      <td>1</td>\n",
       "      <td>0</td>\n",
       "      <td>1</td>\n",
       "      <td>0</td>\n",
       "    </tr>\n",
       "  </tbody>\n",
       "</table>\n",
       "</div>"
      ],
      "text/plain": [
       "         correct  wrong  discovered  passed  started_attempt  viewed  \\\n",
       "user_id                                                                \n",
       "1            0.0    0.0           1       0                0       1   \n",
       "2            2.0    0.0           9       9                2       9   \n",
       "3           29.0   23.0          15      15                4      20   \n",
       "5            2.0    2.0           1       1                0       1   \n",
       "7            0.0    0.0           1       1                0       1   \n",
       "\n",
       "         certificated  \n",
       "user_id                \n",
       "1                   0  \n",
       "2                   0  \n",
       "3                   0  \n",
       "5                   0  \n",
       "7                   0  "
      ]
     },
     "execution_count": 128,
     "metadata": {},
     "output_type": "execute_result"
    }
   ],
   "source": [
    "event_data_train.head()"
   ]
  },
  {
   "cell_type": "markdown",
   "id": "e5dd7840",
   "metadata": {},
   "source": [
    "Logit, в отличие от деревьев, менее устойчив к мультиколлинеарности. Стоит построить корреляционную матрицу"
   ]
  },
  {
   "cell_type": "code",
   "execution_count": 129,
   "id": "916b145d",
   "metadata": {},
   "outputs": [
    {
     "data": {
      "text/plain": [
       "<AxesSubplot:>"
      ]
     },
     "execution_count": 129,
     "metadata": {},
     "output_type": "execute_result"
    },
    {
     "data": {
      "image/png": "[encoded data removed]",
      "text/plain": [
       "<Figure size 2160x504 with 2 Axes>"
      ]
     },
     "metadata": {},
     "output_type": "display_data"
    }
   ],
   "source": [
    "cols = event_data_train.columns[:-1]\n",
    "cm = np.corrcoef(event_data_train[cols].values.T)\n",
    "hm = sns.heatmap(cm, cbar=True, annot=True, square=True, fmt='.2f', annot_kws={'size': 10}, yticklabels=cols.values, xticklabels=cols.values)\n",
    "hm "
   ]
  },
  {
   "cell_type": "markdown",
   "id": "34943b7a",
   "metadata": {},
   "source": [
    "Как видно, и это косвенно было известно из предыдущих моделей, correct является связующей переменной. discovered,viewed, started attempt высоко коррелируют между собой, и согласно предыдущим моделям, не сильно влияют на прогнозирование. Их стоит просто убрать. \n",
    "**Correct и wrong** также сильно коррелируют между собой: судя по всему, кто больше старается, у того и получается! Судя по всему, для logit имеет смысл оставить только колонку **correct**"
   ]
  },
  {
   "cell_type": "code",
   "execution_count": 130,
   "id": "873455b5",
   "metadata": {},
   "outputs": [],
   "source": [
    "logit_train = event_data_train[['correct', 'certificated']]"
   ]
  },
  {
   "cell_type": "code",
   "execution_count": 131,
   "id": "beffb860",
   "metadata": {},
   "outputs": [
    {
     "data": {
      "text/html": [
       "<div>\n",
       "<style scoped>\n",
       "    .dataframe tbody tr th:only-of-type {\n",
       "        vertical-align: middle;\n",
       "    }\n",
       "\n",
       "    .dataframe tbody tr th {\n",
       "        vertical-align: top;\n",
       "    }\n",
       "\n",
       "    .dataframe thead th {\n",
       "        text-align: right;\n",
       "    }\n",
       "</style>\n",
       "<table border=\"1\" class=\"dataframe\">\n",
       "  <thead>\n",
       "    <tr style=\"text-align: right;\">\n",
       "      <th></th>\n",
       "      <th>correct</th>\n",
       "      <th>certificated</th>\n",
       "    </tr>\n",
       "    <tr>\n",
       "      <th>user_id</th>\n",
       "      <th></th>\n",
       "      <th></th>\n",
       "    </tr>\n",
       "  </thead>\n",
       "  <tbody>\n",
       "    <tr>\n",
       "      <th>1</th>\n",
       "      <td>0.0</td>\n",
       "      <td>0</td>\n",
       "    </tr>\n",
       "    <tr>\n",
       "      <th>2</th>\n",
       "      <td>2.0</td>\n",
       "      <td>0</td>\n",
       "    </tr>\n",
       "    <tr>\n",
       "      <th>3</th>\n",
       "      <td>29.0</td>\n",
       "      <td>0</td>\n",
       "    </tr>\n",
       "  </tbody>\n",
       "</table>\n",
       "</div>"
      ],
      "text/plain": [
       "         correct  certificated\n",
       "user_id                       \n",
       "1            0.0             0\n",
       "2            2.0             0\n",
       "3           29.0             0"
      ]
     },
     "execution_count": 131,
     "metadata": {},
     "output_type": "execute_result"
    }
   ],
   "source": [
    "logit_train.head(3)"
   ]
  },
  {
   "cell_type": "markdown",
   "id": "c2f5a01c",
   "metadata": {},
   "source": [
    "Построение модели:"
   ]
  },
  {
   "cell_type": "code",
   "execution_count": 132,
   "id": "12808b00",
   "metadata": {},
   "outputs": [],
   "source": [
    "X_logit = logit_train.correct"
   ]
  },
  {
   "cell_type": "code",
   "execution_count": 133,
   "id": "0a80afeb",
   "metadata": {},
   "outputs": [],
   "source": [
    "y_logit = logit_train.certificated"
   ]
  },
  {
   "cell_type": "code",
   "execution_count": 134,
   "id": "60d2739b",
   "metadata": {},
   "outputs": [],
   "source": [
    "X_train_logit, X_test_logit, y_train_logit, y_test_logit = train_test_split(X_logit, y_logit, test_size=0.25, random_state=42) "
   ]
  },
  {
   "cell_type": "code",
   "execution_count": 135,
   "id": "c0cfb250",
   "metadata": {
    "scrolled": true
   },
   "outputs": [],
   "source": [
    "logit = LogisticRegressionCV(random_state=42)"
   ]
  },
  {
   "cell_type": "code",
   "execution_count": 136,
   "id": "4f9f4c7e",
   "metadata": {
    "scrolled": true
   },
   "outputs": [],
   "source": [
    "logit_model = logit.fit(X_train_logit.values.reshape(-1, 1), y_train_logit)"
   ]
  },
  {
   "cell_type": "markdown",
   "id": "bf3db70c",
   "metadata": {},
   "source": [
    "accuracy для тренировочных данных:"
   ]
  },
  {
   "cell_type": "code",
   "execution_count": 137,
   "id": "398e0170",
   "metadata": {
    "scrolled": true
   },
   "outputs": [
    {
     "data": {
      "text/plain": [
       "0.9948578342407743"
      ]
     },
     "execution_count": 137,
     "metadata": {},
     "output_type": "execute_result"
    }
   ],
   "source": [
    "logit_model.score(X_train_logit.values.reshape(-1, 1), y_train_logit)"
   ]
  },
  {
   "cell_type": "markdown",
   "id": "b91f82c1",
   "metadata": {},
   "source": [
    "Описание модели подробнее через statsmodel:"
   ]
  },
  {
   "cell_type": "code",
   "execution_count": 141,
   "id": "d1f183b0",
   "metadata": {},
   "outputs": [],
   "source": [
    "logit_res = sf.glm('certificated ~ correct', logit_train, family = sm.families.Binomial()).fit()"
   ]
  },
  {
   "cell_type": "code",
   "execution_count": 142,
   "id": "4c3daae7",
   "metadata": {},
   "outputs": [
    {
     "data": {
      "text/html": [
       "<table class=\"simpletable\">\n",
       "<caption>Generalized Linear Model Regression Results</caption>\n",
       "<tr>\n",
       "  <th>Dep. Variable:</th>     <td>certificated</td>   <th>  No. Observations:  </th>  <td> 17633</td> \n",
       "</tr>\n",
       "<tr>\n",
       "  <th>Model:</th>                  <td>GLM</td>       <th>  Df Residuals:      </th>  <td> 17631</td> \n",
       "</tr>\n",
       "<tr>\n",
       "  <th>Model Family:</th>        <td>Binomial</td>     <th>  Df Model:          </th>  <td>     1</td> \n",
       "</tr>\n",
       "<tr>\n",
       "  <th>Link Function:</th>         <td>logit</td>      <th>  Scale:             </th> <td>  1.0000</td>\n",
       "</tr>\n",
       "<tr>\n",
       "  <th>Method:</th>                <td>IRLS</td>       <th>  Log-Likelihood:    </th> <td> -293.45</td>\n",
       "</tr>\n",
       "<tr>\n",
       "  <th>Date:</th>            <td>Sun, 31 Jul 2022</td> <th>  Deviance:          </th> <td>  586.91</td>\n",
       "</tr>\n",
       "<tr>\n",
       "  <th>Time:</th>                <td>15:59:28</td>     <th>  Pearson chi2:      </th> <td>4.26e+03</td>\n",
       "</tr>\n",
       "<tr>\n",
       "  <th>No. Iterations:</th>         <td>12</td>        <th>                     </th>     <td> </td>   \n",
       "</tr>\n",
       "<tr>\n",
       "  <th>Covariance Type:</th>     <td>nonrobust</td>    <th>                     </th>     <td> </td>   \n",
       "</tr>\n",
       "</table>\n",
       "<table class=\"simpletable\">\n",
       "<tr>\n",
       "      <td></td>         <th>coef</th>     <th>std err</th>      <th>z</th>      <th>P>|z|</th>  <th>[0.025</th>    <th>0.975]</th>  \n",
       "</tr>\n",
       "<tr>\n",
       "  <th>Intercept</th> <td>  -20.3960</td> <td>    1.147</td> <td>  -17.788</td> <td> 0.000</td> <td>  -22.643</td> <td>  -18.149</td>\n",
       "</tr>\n",
       "<tr>\n",
       "  <th>correct</th>   <td>    0.3192</td> <td>    0.017</td> <td>   19.046</td> <td> 0.000</td> <td>    0.286</td> <td>    0.352</td>\n",
       "</tr>\n",
       "</table>"
      ],
      "text/plain": [
       "<class 'statsmodels.iolib.summary.Summary'>\n",
       "\"\"\"\n",
       "                 Generalized Linear Model Regression Results                  \n",
       "==============================================================================\n",
       "Dep. Variable:           certificated   No. Observations:                17633\n",
       "Model:                            GLM   Df Residuals:                    17631\n",
       "Model Family:                Binomial   Df Model:                            1\n",
       "Link Function:                  logit   Scale:                          1.0000\n",
       "Method:                          IRLS   Log-Likelihood:                -293.45\n",
       "Date:                Sun, 31 Jul 2022   Deviance:                       586.91\n",
       "Time:                        15:59:28   Pearson chi2:                 4.26e+03\n",
       "No. Iterations:                    12                                         \n",
       "Covariance Type:            nonrobust                                         \n",
       "==============================================================================\n",
       "                 coef    std err          z      P>|z|      [0.025      0.975]\n",
       "------------------------------------------------------------------------------\n",
       "Intercept    -20.3960      1.147    -17.788      0.000     -22.643     -18.149\n",
       "correct        0.3192      0.017     19.046      0.000       0.286       0.352\n",
       "==============================================================================\n",
       "\"\"\""
      ]
     },
     "execution_count": 142,
     "metadata": {},
     "output_type": "execute_result"
    }
   ],
   "source": [
    "logit_res.summary()"
   ]
  },
  {
   "cell_type": "markdown",
   "id": "202ccdb1",
   "metadata": {},
   "source": [
    "Отдельно записываем коэф и сами вероятности"
   ]
  },
  {
   "cell_type": "code",
   "execution_count": 228,
   "id": "5e8b60c2",
   "metadata": {},
   "outputs": [],
   "source": [
    "logit_params={}"
   ]
  },
  {
   "cell_type": "code",
   "execution_count": 229,
   "id": "7cc916a6",
   "metadata": {},
   "outputs": [],
   "source": [
    "for i in range(len(logit_res.params.index)):\n",
    "    prob= m.exp(logit_res.params[i]) / (1+ m.exp(logit_res.params[i]))\n",
    "    logit_params[(logit_res.params.index[i])] = [logit_res.params[i], prob]"
   ]
  },
  {
   "cell_type": "code",
   "execution_count": 242,
   "id": "b254ae85",
   "metadata": {},
   "outputs": [
    {
     "data": {
      "text/html": [
       "<div>\n",
       "<style scoped>\n",
       "    .dataframe tbody tr th:only-of-type {\n",
       "        vertical-align: middle;\n",
       "    }\n",
       "\n",
       "    .dataframe tbody tr th {\n",
       "        vertical-align: top;\n",
       "    }\n",
       "\n",
       "    .dataframe thead th {\n",
       "        text-align: right;\n",
       "    }\n",
       "</style>\n",
       "<table border=\"1\" class=\"dataframe\">\n",
       "  <thead>\n",
       "    <tr style=\"text-align: right;\">\n",
       "      <th></th>\n",
       "      <th>coef</th>\n",
       "      <th>prob</th>\n",
       "    </tr>\n",
       "  </thead>\n",
       "  <tbody>\n",
       "    <tr>\n",
       "      <th>Intercept</th>\n",
       "      <td>-20.39604</td>\n",
       "      <td>1.387115e-09</td>\n",
       "    </tr>\n",
       "    <tr>\n",
       "      <th>correct</th>\n",
       "      <td>0.31916</td>\n",
       "      <td>5.791196e-01</td>\n",
       "    </tr>\n",
       "  </tbody>\n",
       "</table>\n",
       "</div>"
      ],
      "text/plain": [
       "               coef          prob\n",
       "Intercept -20.39604  1.387115e-09\n",
       "correct     0.31916  5.791196e-01"
      ]
     },
     "execution_count": 242,
     "metadata": {},
     "output_type": "execute_result"
    }
   ],
   "source": [
    "pd.DataFrame.from_dict(logit_params, orient = 'index', columns = ['coef', 'prob'])"
   ]
  },
  {
   "cell_type": "markdown",
   "id": "410b57a0",
   "metadata": {},
   "source": [
    "Как и ожидалось, переменная correct статистически значима. Вероятность, что юзер с нулевым количеством правильных ответов пройдёт курс, стремится к нулю. С каждым баллом correct вероятность увеличивается."
   ]
  },
  {
   "cell_type": "markdown",
   "id": "74f8a281",
   "metadata": {},
   "source": [
    "Предсказания:"
   ]
  },
  {
   "cell_type": "code",
   "execution_count": 138,
   "id": "c7153aff",
   "metadata": {},
   "outputs": [],
   "source": [
    "predictions_logit = logit_model.predict(X_test_logit.values.reshape(-1, 1))"
   ]
  },
  {
   "cell_type": "code",
   "execution_count": 139,
   "id": "09a1e8c0",
   "metadata": {
    "scrolled": true
   },
   "outputs": [
    {
     "data": {
      "text/plain": [
       "array([[9.86198794e-01, 1.38012057e-02],\n",
       "       [9.99985215e-01, 1.47848174e-05],\n",
       "       [1.00000000e+00, 2.55866900e-10],\n",
       "       ...,\n",
       "       [1.00000000e+00, 2.55866900e-10],\n",
       "       [9.99999999e-01, 1.41920996e-09],\n",
       "       [1.00000000e+00, 2.55866900e-10]])"
      ]
     },
     "execution_count": 139,
     "metadata": {},
     "output_type": "execute_result"
    }
   ],
   "source": [
    "logit_model.predict_proba(X_test_logit.values.reshape(-1, 1))"
   ]
  },
  {
   "cell_type": "markdown",
   "id": "2feaf196",
   "metadata": {},
   "source": [
    "accuracy для тестовых данных:"
   ]
  },
  {
   "cell_type": "code",
   "execution_count": 140,
   "id": "2516bdf7",
   "metadata": {
    "scrolled": false
   },
   "outputs": [
    {
     "data": {
      "text/plain": [
       "0.9943297799954638"
      ]
     },
     "execution_count": 140,
     "metadata": {},
     "output_type": "execute_result"
    }
   ],
   "source": [
    "logit_model.score(X_test_logit.values.reshape(-1, 1), y_test)"
   ]
  },
  {
   "cell_type": "code",
   "execution_count": 260,
   "id": "0eb5d400",
   "metadata": {},
   "outputs": [
    {
     "data": {
      "text/plain": [
       "<sklearn.metrics._plot.roc_curve.RocCurveDisplay at 0x16b14f0af40>"
      ]
     },
     "execution_count": 260,
     "metadata": {},
     "output_type": "execute_result"
    },
    {
     "data": {
      "image/png": "[encoded data removed]",
      "text/plain": [
       "<Figure size 2160x504 with 1 Axes>"
      ]
     },
     "metadata": {},
     "output_type": "display_data"
    }
   ],
   "source": [
    "plot_roc_curve(logit_model, X_test_logit.values.reshape(-1, 1), y_test_logit) "
   ]
  },
  {
   "cell_type": "markdown",
   "id": "2525a1b1",
   "metadata": {},
   "source": [
    "#### Вывод по logit: "
   ]
  },
  {
   "cell_type": "markdown",
   "id": "ae000a15",
   "metadata": {},
   "source": [
    "Кажется, в данном случае logit ничем не уступает лесу. Accuracy и ROC score одинаковы. Но при проверке через степик эта модель выдала ROC score, меньший, чем лес, так что её стоит отбросить."
   ]
  },
  {
   "cell_type": "markdown",
   "id": "fcbc2a42",
   "metadata": {},
   "source": [
    "### Результат по моделям   \n",
    "Как оказалось, train датасет получился очень простым с точки зрения важности фич - самой важной оказалась фича correct, отражающая количество правильно выполненных заданий. Из-за этого основные показатели: accuracy, precion, recall, и ROC оказались практически одинаковыми для всех вариантов моделей(accuracy=0.99 для тренировочных и тестовых выборок, ROC = 1). **Тем не менее, самый большой ROC score продемонстрировал Random Forest cо всеми фичами train датасета - ROC score на степике составил 0.799**. Второй rf без фич started_attempt, discovered, viewed и Logit показали меньший ROC score. \n",
    "\n",
    "Так что для предсказания успеха пользователей стоит выбрать именно random forest!"
   ]
  },
  {
   "cell_type": "code",
   "execution_count": null,
   "id": "a17be874",
   "metadata": {},
   "outputs": [],
   "source": []
  }
 ],
 "metadata": {
  "kernelspec": {
   "display_name": "Python 3",
   "language": "python",
   "name": "python3"
  },
  "language_info": {
   "codemirror_mode": {
    "name": "ipython",
    "version": 3
   },
   "file_extension": ".py",
   "mimetype": "text/x-python",
   "name": "python",
   "nbconvert_exporter": "python",
   "pygments_lexer": "ipython3",
   "version": "3.8.8"
  }
 },
 "nbformat": 4,
 "nbformat_minor": 5
}
